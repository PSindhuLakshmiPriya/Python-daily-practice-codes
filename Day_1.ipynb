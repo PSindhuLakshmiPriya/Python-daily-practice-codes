{
  "nbformat": 4,
  "nbformat_minor": 0,
  "metadata": {
    "colab": {
      "provenance": [],
      "authorship_tag": "ABX9TyN2NQH5Bdn7zTA4VlrjoT5C",
      "include_colab_link": true
    },
    "kernelspec": {
      "name": "python3",
      "display_name": "Python 3"
    },
    "language_info": {
      "name": "python"
    }
  },
  "cells": [
    {
      "cell_type": "markdown",
      "metadata": {
        "id": "view-in-github",
        "colab_type": "text"
      },
      "source": [
        "<a href=\"https://colab.research.google.com/github/PSindhuLakshmiPriya/Python-daily-practice-codes/blob/main/Day_1.ipynb\" target=\"_parent\"><img src=\"https://colab.research.google.com/assets/colab-badge.svg\" alt=\"Open In Colab\"/></a>"
      ]
    },
    {
      "cell_type": "markdown",
      "source": [
        "Automorphic Number\n"
      ],
      "metadata": {
        "id": "2KNJY7Lt2ES6"
      }
    },
    {
      "cell_type": "code",
      "source": [
        "n=int(input())\n",
        "m=n*n\n",
        "num=m%10\n",
        "if num==n:\n",
        "    print(\"Automorphic\")\n",
        "else:\n",
        "    print(\"Not Automorphic\")"
      ],
      "metadata": {
        "colab": {
          "base_uri": "https://localhost:8080/"
        },
        "id": "oq-PP79v2LYQ",
        "outputId": "305321f3-7461-42f4-9375-2815a06dd54b"
      },
      "execution_count": 2,
      "outputs": [
        {
          "output_type": "stream",
          "name": "stdout",
          "text": [
            "7\n",
            "Not Automorphic\n"
          ]
        }
      ]
    },
    {
      "cell_type": "markdown",
      "source": [
        "Perfect Number"
      ],
      "metadata": {
        "id": "G-uEKX9w3SUK"
      }
    },
    {
      "cell_type": "code",
      "source": [
        "n=int(input())\n",
        "sum=0\n",
        "for i in range(1,n):\n",
        "    if n%i==0:\n",
        "        sum+=i\n",
        "if sum==n:\n",
        "    print(n,\"is a perfect number\")\n",
        "else:\n",
        "    print(n,\"is not a perfect number\")"
      ],
      "metadata": {
        "colab": {
          "base_uri": "https://localhost:8080/"
        },
        "id": "ooQoxkne3Uwf",
        "outputId": "da66aeec-f2ec-4efd-e052-4c9181d2d6ca"
      },
      "execution_count": 8,
      "outputs": [
        {
          "output_type": "stream",
          "name": "stdout",
          "text": [
            "6\n",
            "6 is a perfect number\n"
          ]
        }
      ]
    },
    {
      "cell_type": "markdown",
      "source": [
        "Abundant Number"
      ],
      "metadata": {
        "id": "iNJf19JD2aoA"
      }
    },
    {
      "cell_type": "code",
      "source": [
        "n=int(input())\n",
        "sum=0\n",
        "for i in range(1,n):\n",
        "    if n%i==0:\n",
        "        sum=sum+i\n",
        "if sum>n:\n",
        "    print(\"Abundant\")\n",
        "else:\n",
        "    print(\"Not Abundant\")"
      ],
      "metadata": {
        "colab": {
          "base_uri": "https://localhost:8080/"
        },
        "id": "TxLIp9E32aRZ",
        "outputId": "82a3d762-d6c8-4ace-c9de-bd2daf732dce"
      },
      "execution_count": 3,
      "outputs": [
        {
          "output_type": "stream",
          "name": "stdout",
          "text": [
            "12\n",
            "Abundant\n"
          ]
        }
      ]
    },
    {
      "cell_type": "markdown",
      "source": [
        "Harshad Number"
      ],
      "metadata": {
        "id": "ZDD8mys62nCQ"
      }
    },
    {
      "cell_type": "code",
      "source": [
        "n=int(input())\n",
        "sum=0\n",
        "temp=n\n",
        "while(temp>0):\n",
        "    rem=temp%10\n",
        "    sum=sum+rem\n",
        "    temp=temp//10\n",
        "if n%sum==0:\n",
        "    print(\"Harshad number\")\n",
        "else:\n",
        "    print(\"Not a harshad number\")"
      ],
      "metadata": {
        "colab": {
          "base_uri": "https://localhost:8080/"
        },
        "id": "OUkbPlV92pVf",
        "outputId": "50040d26-a901-4fc7-b716-713b35ee2c74"
      },
      "execution_count": 4,
      "outputs": [
        {
          "output_type": "stream",
          "name": "stdout",
          "text": [
            "21\n",
            "Harshad number\n"
          ]
        }
      ]
    },
    {
      "cell_type": "markdown",
      "source": [
        "Friendly Pair"
      ],
      "metadata": {
        "id": "q50i0Qg62vcs"
      }
    },
    {
      "cell_type": "code",
      "source": [
        "n1=int(input())\n",
        "n2=int(input())\n",
        "sum1=0\n",
        "sum2=0\n",
        "for i in range(1,n1):\n",
        "    if n1%i==0:\n",
        "        sum1=sum1+i\n",
        "for j in range(1,n2):\n",
        "    if n2%j==0:\n",
        "        sum2=sum2+j\n",
        "if sum1//n1==sum2//n2:\n",
        "    print(\"Friendly Pair\")\n",
        "else:\n",
        "    print(\"Not a Friendly Pair\")"
      ],
      "metadata": {
        "colab": {
          "base_uri": "https://localhost:8080/"
        },
        "id": "WGEGEuu7203M",
        "outputId": "0f562e8a-d84f-4523-ec68-4ac924f33048"
      },
      "execution_count": 5,
      "outputs": [
        {
          "output_type": "stream",
          "name": "stdout",
          "text": [
            "6\n",
            "28\n",
            "Friendly Pair\n"
          ]
        }
      ]
    },
    {
      "cell_type": "markdown",
      "source": [
        "Perfect Square"
      ],
      "metadata": {
        "id": "3pFR532c28Qj"
      }
    },
    {
      "cell_type": "code",
      "source": [
        "n=int(input())\n",
        "for i in range(n):\n",
        "    if i*i==n:\n",
        "        print(\"Perfect square\")"
      ],
      "metadata": {
        "colab": {
          "base_uri": "https://localhost:8080/"
        },
        "id": "4heU6Gj52-iD",
        "outputId": "f4eb8bef-3663-400e-a0b0-2cfce8a5c5e0"
      },
      "execution_count": 6,
      "outputs": [
        {
          "output_type": "stream",
          "name": "stdout",
          "text": [
            "25\n",
            "Perfect square\n"
          ]
        }
      ]
    },
    {
      "cell_type": "code",
      "source": [
        "import math\n",
        "n=int(input())\n",
        "if math.sqrt(n)==int(math.sqrt(n)):\n",
        "    print(\"Perfect square\")"
      ],
      "metadata": {
        "colab": {
          "base_uri": "https://localhost:8080/"
        },
        "id": "KqTEGXep3BNI",
        "outputId": "e993221f-462e-405d-f906-6430484dc10d"
      },
      "execution_count": 7,
      "outputs": [
        {
          "output_type": "stream",
          "name": "stdout",
          "text": [
            "49\n",
            "Perfect square\n"
          ]
        }
      ]
    }
  ]
}