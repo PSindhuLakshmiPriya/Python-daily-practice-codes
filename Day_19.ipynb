{
  "nbformat": 4,
  "nbformat_minor": 0,
  "metadata": {
    "colab": {
      "provenance": [],
      "authorship_tag": "ABX9TyNBcT+J8KzQW7mQUcxFEu1t",
      "include_colab_link": true
    },
    "kernelspec": {
      "name": "python3",
      "display_name": "Python 3"
    },
    "language_info": {
      "name": "python"
    }
  },
  "cells": [
    {
      "cell_type": "markdown",
      "metadata": {
        "id": "view-in-github",
        "colab_type": "text"
      },
      "source": [
        "<a href=\"https://colab.research.google.com/github/PSindhuLakshmiPriya/Python-daily-practice-codes/blob/main/Day_19.ipynb\" target=\"_parent\"><img src=\"https://colab.research.google.com/assets/colab-badge.svg\" alt=\"Open In Colab\"/></a>"
      ]
    },
    {
      "cell_type": "markdown",
      "source": [
        "Multiple Inheritance"
      ],
      "metadata": {
        "id": "ZbSfZ1yPxOse"
      }
    },
    {
      "cell_type": "markdown",
      "source": [
        "We inherit properties from both father and mother or else some other family members.So if we want to inherit properties from two or more classes then it is called multiple inheritance."
      ],
      "metadata": {
        "id": "nMhieeYwxTHk"
      }
    },
    {
      "cell_type": "code",
      "source": [
        "class Father:\n",
        "  def work(self):\n",
        "    print(\"Hardworking\")\n",
        "\n",
        "class Mother:\n",
        "  def cooking(self):\n",
        "    print(\"Good in cooking\")\n",
        "  def work(self):\n",
        "    print(\"Smart work\")\n",
        "\n",
        "class girl(Father,Mother):\n",
        "  pass\n",
        "girl1=girl()\n",
        "girl1.work()\n",
        "girl1.cooking()"
      ],
      "metadata": {
        "colab": {
          "base_uri": "https://localhost:8080/"
        },
        "id": "AkNYXAKHyJ-r",
        "outputId": "ba863fcd-7f4d-42a0-b5bf-2842332c2eea"
      },
      "execution_count": 2,
      "outputs": [
        {
          "output_type": "stream",
          "name": "stdout",
          "text": [
            "Hardworking\n",
            "Good in cooking\n"
          ]
        }
      ]
    },
    {
      "cell_type": "markdown",
      "source": [
        "If we are having two same methods in both base classes and child class wants to inherit it depends on the order that we give base classes in child class\n",
        "\n",
        "ex-there we gave girl(Father,Mother) that is why it inherits work method in Father class\n",
        "if we give mother class first it inherits work method of mother class"
      ],
      "metadata": {
        "id": "z1C29T9Bzkfe"
      }
    },
    {
      "cell_type": "code",
      "source": [
        "class girl(Mother,Father):\n",
        "  pass\n",
        "girl1=girl()\n",
        "girl1.work()\n",
        "girl1.cooking()"
      ],
      "metadata": {
        "colab": {
          "base_uri": "https://localhost:8080/"
        },
        "id": "RoEHG2RJy5Vl",
        "outputId": "9bbf7d16-3443-4fc3-de8d-c9c9614bfda7"
      },
      "execution_count": 3,
      "outputs": [
        {
          "output_type": "stream",
          "name": "stdout",
          "text": [
            "Smart work\n",
            "Good in cooking\n"
          ]
        }
      ]
    },
    {
      "cell_type": "markdown",
      "source": [
        "We also have another method for that ...we can give class name with method name"
      ],
      "metadata": {
        "id": "0doR3FNn0YMd"
      }
    },
    {
      "cell_type": "code",
      "source": [
        "Father.work(girl1)"
      ],
      "metadata": {
        "colab": {
          "base_uri": "https://localhost:8080/"
        },
        "id": "sHV7I9zd0j6S",
        "outputId": "1e90997b-48b2-433c-b08d-e28b0d3829ce"
      },
      "execution_count": 4,
      "outputs": [
        {
          "output_type": "stream",
          "name": "stdout",
          "text": [
            "Hardworking\n"
          ]
        }
      ]
    },
    {
      "cell_type": "code",
      "source": [
        "class Father:\n",
        "  def work(self):\n",
        "    print(\"Hardworking\")\n",
        "\n",
        "class Mother:\n",
        "  def cooking(self):\n",
        "    print(\"Good in cooking\")\n",
        "  def work(self):\n",
        "    print(\"Smart work\")\n",
        "\n",
        "class girl(Father,Mother):\n",
        "  def look(self):\n",
        "    print(\"Beautiful\")\n",
        "  def work(self):\n",
        "    print(\"Studies well\")\n",
        "girl1=girl()\n",
        "girl1.work()"
      ],
      "metadata": {
        "colab": {
          "base_uri": "https://localhost:8080/"
        },
        "id": "pmLoxmK60_uc",
        "outputId": "7f844a6f-e203-4d15-fc2a-fb4698266b40"
      },
      "execution_count": 5,
      "outputs": [
        {
          "output_type": "stream",
          "name": "stdout",
          "text": [
            "Studies well\n"
          ]
        }
      ]
    },
    {
      "cell_type": "markdown",
      "source": [
        "Same method--work() in child class also so it takes from it only..\n",
        "\n",
        "It checks in the order like object method i.e child class first\n",
        "then according to the order base class inherits\n",
        "\n",
        "This is called as MRO-Method Resolution Order and we can also print the mro"
      ],
      "metadata": {
        "id": "QgrQwfjU1PMd"
      }
    },
    {
      "cell_type": "code",
      "source": [
        "print(girl.mro())"
      ],
      "metadata": {
        "colab": {
          "base_uri": "https://localhost:8080/"
        },
        "id": "HM2BM7D11_Fa",
        "outputId": "8db94821-1530-4c7c-b868-6936a660c8d7"
      },
      "execution_count": 6,
      "outputs": [
        {
          "output_type": "stream",
          "name": "stdout",
          "text": [
            "[<class '__main__.girl'>, <class '__main__.Father'>, <class '__main__.Mother'>, <class 'object'>]\n"
          ]
        }
      ]
    },
    {
      "cell_type": "markdown",
      "source": [
        "Coming to attributes"
      ],
      "metadata": {
        "id": "eKYSVm8_2Vb0"
      }
    },
    {
      "cell_type": "code",
      "source": [
        "class Father:\n",
        "  def __init__(self):\n",
        "    self.name=\"Yuvraj\"\n",
        "    self.age=45\n",
        "  def work(self):\n",
        "    print(\"Hardworking\")\n",
        "\n",
        "class Mother:\n",
        "  def __init__(self,mname):\n",
        "    self.mname=mname\n",
        "  def cooking(self):\n",
        "    print(\"Good in cooking\")\n",
        "  def work(self):\n",
        "    print(\"Smart work\")\n",
        "\n",
        "class girl(Father,Mother):\n",
        "  def __init__(self,mname,language):\n",
        "    Father.__init__(self)\n",
        "    Mother.__init__(self,mname)\n",
        "    self.language=language\n",
        "girl1=girl(\"Venkateswari\",\"Telugu\")\n",
        "print(girl1.name)\n",
        "print(girl1.mname)\n",
        "print(girl1.language)"
      ],
      "metadata": {
        "colab": {
          "base_uri": "https://localhost:8080/"
        },
        "id": "MAmLKLeH2ZY8",
        "outputId": "ba1f0cac-e347-4514-9e2d-3bad7a88a202"
      },
      "execution_count": 19,
      "outputs": [
        {
          "output_type": "stream",
          "name": "stdout",
          "text": [
            "Yuvraj\n",
            "Venkateswari\n",
            "Telugu\n"
          ]
        }
      ]
    }
  ]
}