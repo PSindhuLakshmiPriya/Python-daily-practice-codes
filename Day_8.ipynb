{
  "nbformat": 4,
  "nbformat_minor": 0,
  "metadata": {
    "colab": {
      "provenance": [],
      "authorship_tag": "ABX9TyOziex1pKRsU9GA7oaaPeR8",
      "include_colab_link": true
    },
    "kernelspec": {
      "name": "python3",
      "display_name": "Python 3"
    },
    "language_info": {
      "name": "python"
    }
  },
  "cells": [
    {
      "cell_type": "markdown",
      "metadata": {
        "id": "view-in-github",
        "colab_type": "text"
      },
      "source": [
        "<a href=\"https://colab.research.google.com/github/PSindhuLakshmiPriya/Python-daily-practice-codes/blob/main/Day_8.ipynb\" target=\"_parent\"><img src=\"https://colab.research.google.com/assets/colab-badge.svg\" alt=\"Open In Colab\"/></a>"
      ]
    },
    {
      "cell_type": "markdown",
      "source": [
        "DectoNBase"
      ],
      "metadata": {
        "id": "82BD4GJip0IO"
      }
    },
    {
      "cell_type": "markdown",
      "source": [
        "N-base notation is a system for writing numbers that uses only n\n",
        "different symbols, This symbols are the first n symbols from the given\n",
        "notation list(Including the symbol for o) Decimal to n base notation are\n",
        "(0:0, 1:1, 2:2, 3:3, 4:4, 5:5, 6:6, 7:7, 8:8, 9:9, 10:A,11:B and so on upto\n",
        "35:Z).\n",
        "Implement the following function\n",
        "char DectoNBase(int n, int num):*\n",
        "The function accept positive integer n and num Implement the function\n",
        "to calculate the n-base equivalent of num and return the same as a\n",
        "string\n",
        "Steps:\n",
        "Divide the decimal number by n,Treat the division as the integer\n",
        "division\n",
        "Write the the remainder (in n-base notation)\n",
        "Divide the quotient again by n, Treat the division as integer division\n",
        "Repeat step 2 and 3 until the quotient is 0\n",
        "The n-base value is the sequence of the remainders from last to first\n",
        "\n",
        "\n",
        "\n",
        "Assumption:\n",
        "\n",
        "\n",
        "1 < n < = 36\n",
        "\n",
        "\n",
        " Example\n",
        "\n",
        "\n",
        "Input\n",
        "\n",
        "\n",
        "n: 12\n",
        "\n",
        "\n",
        "num: 718\n",
        "\n",
        "\n",
        "Output\n",
        "\n",
        "\n",
        "4BA\n",
        "\n",
        "\n",
        "Explanation\n",
        "\n",
        "\n",
        "num = 718, divisor = 12, quotient=59, remainder=10(A).\n",
        "\n",
        "\n",
        "num = 59, divisor = 12, quotient=4, remainder=11(B).\n",
        "\n",
        "\n",
        "num = 4, divisor = 12, quotient=0, remainder=4(A)."
      ],
      "metadata": {
        "id": "aOuQXbGIqBgw"
      }
    },
    {
      "cell_type": "code",
      "source": [
        "def DectoNBase(n, num):\n",
        "  result=[]\n",
        "  symbols=\"123456789ABCDEFGHIJKLMNOPQRSTUVWXYZ\"\n",
        "  if num==0:\n",
        "    return 0\n",
        "  else:\n",
        "    while n>0:\n",
        "      remainder=num%n\n",
        "      result.append(symbols[remainder])\n",
        "      num=num//n\n",
        "    result.reverse()\n",
        "    return \"\".join(result)\n",
        "\n",
        "print(DectoNBase(12,718))"
      ],
      "metadata": {
        "id": "0x_rpOxop3fA"
      },
      "execution_count": null,
      "outputs": []
    },
    {
      "cell_type": "markdown",
      "source": [
        "MATRIX EVEN ODD\n",
        "You are required to input the size of the matrix then the elements of\n",
        "matrix, then you have to divide the main matrix in two sub matrices\n",
        "(even and odd) in such a way that element at 0 index will be considered\n",
        "as even and element at 1st index will be considered as odd and so on.\n",
        "Then you have sort the even and odd matrices in ascending order and\n",
        "print the sum of second largest number from both the matrices.\n",
        "\n",
        "\n",
        "Example\n",
        "\n",
        "\n",
        "enter the size of array : 5\n",
        "\n",
        "\n",
        "enter element at 0 index : 3\n",
        "\n",
        "\n",
        "enter element at 1 index : 4\n",
        "\n",
        "\n",
        "enter element at 2 index : 1\n",
        "\n",
        "\n",
        "enter element at 3 index : 7\n",
        "\n",
        "\n",
        "enter element at 4 index : 9\n",
        "\n",
        "\n",
        "Sorted even array : 1 3 9\n",
        "\n",
        "\n",
        "Sorted odd array : 4 7\n",
        "\n",
        "\n",
        "Sum = 7"
      ],
      "metadata": {
        "id": "2L7LDojrsqt5"
      }
    },
    {
      "cell_type": "code",
      "source": [
        "def matrix_even_odd(size):\n",
        "  arr=[]\n",
        "  even_arr=[]\n",
        "  odd_arr=[]\n",
        "  for i in range(size):\n",
        "    element=int(input(f\"enter element at {i} index : \"))\n",
        "    arr.append(element)\n",
        "    if i%2==0:\n",
        "      even_arr.append(element)\n",
        "    else:\n",
        "      odd_arr.append(element)\n",
        "  even_arr.sort()\n",
        "  odd_arr.sort()\n",
        "  print(even_arr)\n",
        "  print(odd_arr)\n",
        "  return even_arr[-2]+odd_arr[-2]\n",
        "print(matrix_even_odd(5))\n"
      ],
      "metadata": {
        "colab": {
          "base_uri": "https://localhost:8080/"
        },
        "id": "C5oosseuuvu9",
        "outputId": "27dae95a-634a-450d-8872-d9e3c48de40c"
      },
      "execution_count": 1,
      "outputs": [
        {
          "output_type": "stream",
          "name": "stdout",
          "text": [
            "enter element at 0 index : 4\n",
            "enter element at 1 index : 5\n",
            "enter element at 2 index : 8\n",
            "enter element at 3 index : 3\n",
            "enter element at 4 index : 2\n",
            "[2, 4, 8]\n",
            "[3, 5]\n",
            "7\n"
          ]
        }
      ]
    },
    {
      "cell_type": "markdown",
      "source": [
        "MATHS IS FUN\n",
        "\n",
        "\n",
        "You are required to implement the following function:\n",
        "int Calculate(int m, int n);\n",
        "The function accepts 2 positive integers ‘m’ and ‘n’ as its arguments.You\n",
        "are required to calculate the sum of numbers divisible both by 3 and 5,\n",
        "between ‘m’ and ‘n’ both inclusive and return the same.\n",
        "\n",
        "\n",
        "\n",
        "Note\n",
        "\n",
        "\n",
        "0 < m <= n\n",
        "\n",
        "\n",
        "Example\n",
        "\n",
        "\n",
        "Input:\n",
        "\n",
        "\n",
        "m : 12\n",
        "\n",
        "\n",
        "n : 50\n",
        "\n",
        "\n",
        "Output\n",
        "\n",
        "\n",
        "90\n",
        "\n",
        "\n",
        "Explanation:\n",
        "\n",
        "\n",
        "The numbers divisible by both 3 and 5, between 12 and 50 both\n",
        "inclusive are {15, 30, 45} and their sum is 90.\n",
        "\n",
        "\n",
        "Sample Input\n",
        "\n",
        "\n",
        "m : 100\n",
        "\n",
        "\n",
        "n : 160\n",
        "\n",
        "\n",
        "Sample Output\n",
        "\n",
        "\n",
        "510"
      ],
      "metadata": {
        "id": "HVOWIsSXwIDs"
      }
    },
    {
      "cell_type": "code",
      "source": [
        "def Calculate(m, n):\n",
        "  sum=0\n",
        "  for i in range(m,n+1):\n",
        "    if i%3==0 and i%5==0:\n",
        "      sum+=i\n",
        "  return sum\n",
        "print(Calculate(12,50))"
      ],
      "metadata": {
        "colab": {
          "base_uri": "https://localhost:8080/"
        },
        "id": "dzOexHnmwhtq",
        "outputId": "28c64dba-6a9c-4ed6-e44d-15a8fd1276a8"
      },
      "execution_count": 1,
      "outputs": [
        {
          "output_type": "stream",
          "name": "stdout",
          "text": [
            "90\n"
          ]
        }
      ]
    },
    {
      "cell_type": "markdown",
      "source": [
        "Write a program to find the length of the longest common\n",
        "subsequence between two strings."
      ],
      "metadata": {
        "id": "DK6_cBwqxPja"
      }
    },
    {
      "cell_type": "code",
      "source": [
        "def lcs(str1,str2):\n",
        "  res=[]\n",
        "  for i in str1:\n",
        "    if i in str2:\n",
        "      res.append(i)\n",
        "  return len(res)\n",
        "str1=input()\n",
        "str2=input()\n",
        "print(lcs(str1,str2))"
      ],
      "metadata": {
        "colab": {
          "base_uri": "https://localhost:8080/"
        },
        "id": "-kYgjpPVxUId",
        "outputId": "1bbbafb0-b3e8-4dc5-fdc3-c845a7c5bc10"
      },
      "execution_count": 1,
      "outputs": [
        {
          "output_type": "stream",
          "name": "stdout",
          "text": [
            "abcdef\n",
            "bcd\n",
            "3\n"
          ]
        }
      ]
    }
  ]
}