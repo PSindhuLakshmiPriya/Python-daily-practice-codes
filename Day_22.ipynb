{
  "nbformat": 4,
  "nbformat_minor": 0,
  "metadata": {
    "colab": {
      "provenance": [],
      "authorship_tag": "ABX9TyP8TKcpeB3CXvWbQqw18jBD",
      "include_colab_link": true
    },
    "kernelspec": {
      "name": "python3",
      "display_name": "Python 3"
    },
    "language_info": {
      "name": "python"
    }
  },
  "cells": [
    {
      "cell_type": "markdown",
      "metadata": {
        "id": "view-in-github",
        "colab_type": "text"
      },
      "source": [
        "<a href=\"https://colab.research.google.com/github/PSindhuLakshmiPriya/Python-daily-practice-codes/blob/main/Day_22.ipynb\" target=\"_parent\"><img src=\"https://colab.research.google.com/assets/colab-badge.svg\" alt=\"Open In Colab\"/></a>"
      ]
    },
    {
      "cell_type": "markdown",
      "source": [
        "Abstraction\n",
        "\n",
        "Most important and confusing concept..Pillar of oops concept\n",
        "\n",
        "\n",
        "In youtube we just see the content in videos but they will not show how internally the work happened ...hiding the implementation(irrevalent)\n",
        "\n",
        "Showing only necessary info"
      ],
      "metadata": {
        "id": "cIkQv1mIvs1T"
      }
    },
    {
      "cell_type": "markdown",
      "source": [
        "Why Abstraction??"
      ],
      "metadata": {
        "id": "zpa7tDiPyL1_"
      }
    },
    {
      "cell_type": "markdown",
      "source": [
        "It enables programmers to hide complex implementation details while just showing users the most crucial data and functions."
      ],
      "metadata": {
        "id": "VLtis06jzQay"
      }
    },
    {
      "cell_type": "markdown",
      "source": [
        "Using abc we can perform abstraction.it is a module.abc-abstract base class"
      ],
      "metadata": {
        "id": "IMfL5smOzeLe"
      }
    },
    {
      "cell_type": "code",
      "source": [
        "from abc import ABC,abstractmethod\n",
        "class Vehicle(ABC):\n",
        "  def __init__(self,n):\n",
        "    self.no_of_tyres=n\n",
        "  @abstractmethod\n",
        "  def start(self):\n",
        "    pass\n",
        "  def display(self):\n",
        "    print(\"Hi I am from vehicle class\")\n"
      ],
      "metadata": {
        "id": "tDTHUuEQzVoV"
      },
      "execution_count": 3,
      "outputs": []
    },
    {
      "cell_type": "code",
      "source": [
        "from abstract_class import Vehicle\n",
        "class Bike(Vehicle):\n",
        "  def __init__(self,n,color):\n",
        "    super().__init__(n)\n",
        "    self.color=color\n",
        "  def start(self):\n",
        "    print(\"Start with kick\")\n",
        "class Scooty(Vehicle):\n",
        "  def __init__(self,n):\n",
        "    self.no_of_tyres=n\n",
        "  def start(self):\n",
        "    print(\"Self start\")\n",
        "class Car(Vehicle):\n",
        "  def __init__(self,n,x):\n",
        "    super().__init__(n)\n",
        "    self.no_of_gears=6\n",
        "  def start(self):\n",
        "    print(\"Start with key\")"
      ],
      "metadata": {
        "colab": {
          "base_uri": "https://localhost:8080/",
          "height": 383
        },
        "id": "yk30T3ah4EGN",
        "outputId": "f7ab7ddf-7e03-4db3-a461-0dec5668a46e"
      },
      "execution_count": 8,
      "outputs": [
        {
          "output_type": "error",
          "ename": "ModuleNotFoundError",
          "evalue": "No module named 'abstract_class'",
          "traceback": [
            "\u001b[0;31m---------------------------------------------------------------------------\u001b[0m",
            "\u001b[0;31mModuleNotFoundError\u001b[0m                       Traceback (most recent call last)",
            "\u001b[0;32m<ipython-input-8-f5c992391bc9>\u001b[0m in \u001b[0;36m<cell line: 1>\u001b[0;34m()\u001b[0m\n\u001b[0;32m----> 1\u001b[0;31m \u001b[0;32mfrom\u001b[0m \u001b[0mabstract_class\u001b[0m \u001b[0;32mimport\u001b[0m \u001b[0mVehicle\u001b[0m\u001b[0;34m\u001b[0m\u001b[0;34m\u001b[0m\u001b[0m\n\u001b[0m\u001b[1;32m      2\u001b[0m \u001b[0;32mclass\u001b[0m \u001b[0mBike\u001b[0m\u001b[0;34m(\u001b[0m\u001b[0mVehicle\u001b[0m\u001b[0;34m)\u001b[0m\u001b[0;34m:\u001b[0m\u001b[0;34m\u001b[0m\u001b[0;34m\u001b[0m\u001b[0m\n\u001b[1;32m      3\u001b[0m   \u001b[0;32mdef\u001b[0m \u001b[0m__init__\u001b[0m\u001b[0;34m(\u001b[0m\u001b[0mself\u001b[0m\u001b[0;34m,\u001b[0m\u001b[0mn\u001b[0m\u001b[0;34m,\u001b[0m\u001b[0mcolor\u001b[0m\u001b[0;34m)\u001b[0m\u001b[0;34m:\u001b[0m\u001b[0;34m\u001b[0m\u001b[0;34m\u001b[0m\u001b[0m\n\u001b[1;32m      4\u001b[0m     \u001b[0msuper\u001b[0m\u001b[0;34m(\u001b[0m\u001b[0;34m)\u001b[0m\u001b[0;34m.\u001b[0m\u001b[0m__init__\u001b[0m\u001b[0;34m(\u001b[0m\u001b[0mn\u001b[0m\u001b[0;34m)\u001b[0m\u001b[0;34m\u001b[0m\u001b[0;34m\u001b[0m\u001b[0m\n\u001b[1;32m      5\u001b[0m     \u001b[0mself\u001b[0m\u001b[0;34m.\u001b[0m\u001b[0mcolor\u001b[0m\u001b[0;34m=\u001b[0m\u001b[0mcolor\u001b[0m\u001b[0;34m\u001b[0m\u001b[0;34m\u001b[0m\u001b[0m\n",
            "\u001b[0;31mModuleNotFoundError\u001b[0m: No module named 'abstract_class'",
            "",
            "\u001b[0;31m---------------------------------------------------------------------------\u001b[0;32m\nNOTE: If your import is failing due to a missing package, you can\nmanually install dependencies using either !pip or !apt.\n\nTo view examples of installing some common dependencies, click the\n\"Open Examples\" button below.\n\u001b[0;31m---------------------------------------------------------------------------\u001b[0m\n"
          ],
          "errorDetails": {
            "actions": [
              {
                "action": "open_url",
                "actionText": "Open Examples",
                "url": "/notebooks/snippets/importing_libraries.ipynb"
              }
            ]
          }
        }
      ]
    },
    {
      "cell_type": "code",
      "source": [
        "from ipython_input_5_4549dfced63e import Bike # Correct the file name from which to import the Bike class\n",
        "bike1=Bike(2,\"red\")\n",
        "bike1.start()"
      ],
      "metadata": {
        "colab": {
          "base_uri": "https://localhost:8080/",
          "height": 366
        },
        "id": "8srpv5_U4wbH",
        "outputId": "9e2d0b68-2a3e-4c88-9f60-02033a4c9831"
      },
      "execution_count": 7,
      "outputs": [
        {
          "output_type": "error",
          "ename": "ModuleNotFoundError",
          "evalue": "No module named 'ipython_input_5_4549dfced63e'",
          "traceback": [
            "\u001b[0;31m---------------------------------------------------------------------------\u001b[0m",
            "\u001b[0;31mModuleNotFoundError\u001b[0m                       Traceback (most recent call last)",
            "\u001b[0;32m<ipython-input-7-610d842906f4>\u001b[0m in \u001b[0;36m<cell line: 1>\u001b[0;34m()\u001b[0m\n\u001b[0;32m----> 1\u001b[0;31m \u001b[0;32mfrom\u001b[0m \u001b[0mipython_input_5_4549dfced63e\u001b[0m \u001b[0;32mimport\u001b[0m \u001b[0mBike\u001b[0m \u001b[0;31m# Correct the file name from which to import the Bike class\u001b[0m\u001b[0;34m\u001b[0m\u001b[0;34m\u001b[0m\u001b[0m\n\u001b[0m\u001b[1;32m      2\u001b[0m \u001b[0mbike1\u001b[0m\u001b[0;34m=\u001b[0m\u001b[0mBike\u001b[0m\u001b[0;34m(\u001b[0m\u001b[0;36m2\u001b[0m\u001b[0;34m,\u001b[0m\u001b[0;34m\"red\"\u001b[0m\u001b[0;34m)\u001b[0m\u001b[0;34m\u001b[0m\u001b[0;34m\u001b[0m\u001b[0m\n\u001b[1;32m      3\u001b[0m \u001b[0mbike1\u001b[0m\u001b[0;34m.\u001b[0m\u001b[0mstart\u001b[0m\u001b[0;34m(\u001b[0m\u001b[0;34m)\u001b[0m\u001b[0;34m\u001b[0m\u001b[0;34m\u001b[0m\u001b[0m\n",
            "\u001b[0;31mModuleNotFoundError\u001b[0m: No module named 'ipython_input_5_4549dfced63e'",
            "",
            "\u001b[0;31m---------------------------------------------------------------------------\u001b[0;32m\nNOTE: If your import is failing due to a missing package, you can\nmanually install dependencies using either !pip or !apt.\n\nTo view examples of installing some common dependencies, click the\n\"Open Examples\" button below.\n\u001b[0;31m---------------------------------------------------------------------------\u001b[0m\n"
          ],
          "errorDetails": {
            "actions": [
              {
                "action": "open_url",
                "actionText": "Open Examples",
                "url": "/notebooks/snippets/importing_libraries.ipynb"
              }
            ]
          }
        }
      ]
    }
  ]
}