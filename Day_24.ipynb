{
  "nbformat": 4,
  "nbformat_minor": 0,
  "metadata": {
    "colab": {
      "provenance": [],
      "authorship_tag": "ABX9TyM6uMy0iDex9kYX/h5wlP4s",
      "include_colab_link": true
    },
    "kernelspec": {
      "name": "python3",
      "display_name": "Python 3"
    },
    "language_info": {
      "name": "python"
    }
  },
  "cells": [
    {
      "cell_type": "markdown",
      "metadata": {
        "id": "view-in-github",
        "colab_type": "text"
      },
      "source": [
        "<a href=\"https://colab.research.google.com/github/PSindhuLakshmiPriya/Python-daily-practice-codes/blob/main/Day_24.ipynb\" target=\"_parent\"><img src=\"https://colab.research.google.com/assets/colab-badge.svg\" alt=\"Open In Colab\"/></a>"
      ]
    },
    {
      "cell_type": "markdown",
      "source": [
        "**List Comprehensions**\n",
        "\n",
        "\n",
        "Square of numbers"
      ],
      "metadata": {
        "id": "4jkLjllyaesU"
      }
    },
    {
      "cell_type": "code",
      "source": [
        "list=[2,3,4,5]\n",
        "mylist=[]\n",
        "for i in list:\n",
        "  i=i*i\n",
        "  mylist.append(i)\n",
        "print(mylist)"
      ],
      "metadata": {
        "colab": {
          "base_uri": "https://localhost:8080/"
        },
        "id": "DAFtWn6dah3H",
        "outputId": "12bc6ec3-662c-42c9-a001-c7a7596c5877"
      },
      "execution_count": null,
      "outputs": [
        {
          "output_type": "stream",
          "name": "stdout",
          "text": [
            "[4, 9, 16, 25]\n"
          ]
        }
      ]
    },
    {
      "cell_type": "markdown",
      "source": [
        "Even Numbers"
      ],
      "metadata": {
        "id": "oZiQqTuha5Qe"
      }
    },
    {
      "cell_type": "code",
      "source": [
        "numbers = [1, 2, 3, 4, 5, 6, 7, 8, 9, 10]\n",
        "even_numbers = []\n",
        "for num in numbers:\n",
        "  if num%2==0:\n",
        "    even_numbers.append(num)\n",
        "print(even_numbers)\n"
      ],
      "metadata": {
        "colab": {
          "base_uri": "https://localhost:8080/"
        },
        "id": "JeVh1Nosa9cN",
        "outputId": "7ef942c8-21de-4bda-9886-ec7ebb9d726d"
      },
      "execution_count": null,
      "outputs": [
        {
          "output_type": "stream",
          "name": "stdout",
          "text": [
            "[2, 4, 6, 8, 10]\n"
          ]
        }
      ]
    },
    {
      "cell_type": "markdown",
      "source": [
        "Length of words"
      ],
      "metadata": {
        "id": "9kWEV6prbkGI"
      }
    },
    {
      "cell_type": "code",
      "source": [
        "words = ['apple', 'banana', 'cherry', 'date']\n",
        "for i in words:\n",
        "  print(\"Length of\",i,\"is\",len(i))"
      ],
      "metadata": {
        "colab": {
          "base_uri": "https://localhost:8080/"
        },
        "id": "BoS-X93LbmrS",
        "outputId": "ee440b35-9739-4477-bc85-046fd15b68d7"
      },
      "execution_count": null,
      "outputs": [
        {
          "output_type": "stream",
          "name": "stdout",
          "text": [
            "Length of apple is 5\n",
            "Length of banana is 6\n",
            "Length of cherry is 6\n",
            "Length of date is 4\n"
          ]
        }
      ]
    },
    {
      "cell_type": "markdown",
      "source": [
        "Vowels in a word"
      ],
      "metadata": {
        "id": "yS9x8zU7b8TF"
      }
    },
    {
      "cell_type": "code",
      "source": [
        "string = 'hello world'\n",
        "vowels=[]\n",
        "for char in string:\n",
        "  if char in 'aeiouAEIOU':\n",
        "    vowels.append(char)\n",
        "print(vowels)"
      ],
      "metadata": {
        "colab": {
          "base_uri": "https://localhost:8080/"
        },
        "id": "mPEQrfM9b-aQ",
        "outputId": "b38a144c-a670-4f81-fcf8-b1ec4e818f6c"
      },
      "execution_count": null,
      "outputs": [
        {
          "output_type": "stream",
          "name": "stdout",
          "text": [
            "['e', 'o', 'o']\n"
          ]
        }
      ]
    },
    {
      "cell_type": "markdown",
      "source": [
        "Convert temperatures"
      ],
      "metadata": {
        "id": "mCtcYIJEcj78"
      }
    },
    {
      "cell_type": "code",
      "source": [
        "celsius = [0, 10, 20, 30, 40]\n",
        "fahrenheit=[]\n",
        "for i in celsius:\n",
        "  i=(i*1.8)+32\n",
        "  fahrenheit.append(i)\n",
        "print(fahrenheit)\n",
        "# Formula: (C * 9/5) + 32\n"
      ],
      "metadata": {
        "colab": {
          "base_uri": "https://localhost:8080/"
        },
        "id": "z5ClKoOdcmkY",
        "outputId": "bd476f16-2375-48b5-fea3-d609763700b2"
      },
      "execution_count": null,
      "outputs": [
        {
          "output_type": "stream",
          "name": "stdout",
          "text": [
            "[32.0, 50.0, 68.0, 86.0, 104.0]\n"
          ]
        }
      ]
    },
    {
      "cell_type": "markdown",
      "source": [
        "Flatten a 2D list"
      ],
      "metadata": {
        "id": "QT1iDoqac4gF"
      }
    },
    {
      "cell_type": "code",
      "source": [
        "matrix = [[1, 2], [3, 4], [5, 6]]\n",
        "flattened_list=[]\n",
        "for item in matrix:\n",
        "  for num in item:\n",
        "    flattened_list.append(num)\n",
        "print(flattened_list)\n"
      ],
      "metadata": {
        "colab": {
          "base_uri": "https://localhost:8080/"
        },
        "id": "0Jh1wNlSc755",
        "outputId": "26d1b000-c973-44c2-e5f6-28d5efc1317b"
      },
      "execution_count": null,
      "outputs": [
        {
          "output_type": "stream",
          "name": "stdout",
          "text": [
            "[1, 2, 3, 4, 5, 6]\n"
          ]
        }
      ]
    },
    {
      "cell_type": "markdown",
      "source": [
        "Words starting with a letter"
      ],
      "metadata": {
        "id": "_eXRheb6dawY"
      }
    },
    {
      "cell_type": "code",
      "source": [
        "words = ['ball', 'bat', 'apple', 'banana', 'cat']\n",
        "for string in words:\n",
        "  for char in string:\n",
        "    if char[0]=='b':\n",
        "      print(string)"
      ],
      "metadata": {
        "colab": {
          "base_uri": "https://localhost:8080/"
        },
        "id": "QK2yCjS7ddsA",
        "outputId": "40a01b78-c1a1-4ebe-b703-1bdc696908f3"
      },
      "execution_count": null,
      "outputs": [
        {
          "output_type": "stream",
          "name": "stdout",
          "text": [
            "ball\n",
            "bat\n",
            "banana\n"
          ]
        }
      ]
    },
    {
      "cell_type": "markdown",
      "source": [
        "Remove spaces from a string"
      ],
      "metadata": {
        "id": "10mXpv9Ldyb8"
      }
    },
    {
      "cell_type": "code",
      "source": [
        "sentence = \"Python is awesome\"\n",
        "for i in sentence:\n",
        "  if i==\" \":\n",
        "    sentence=sentence.replace(i,\"\")\n",
        "print(sentence)"
      ],
      "metadata": {
        "colab": {
          "base_uri": "https://localhost:8080/"
        },
        "id": "tkN9b0c6d19T",
        "outputId": "8ffa5128-c71f-4676-8001-8ab1907fa350"
      },
      "execution_count": null,
      "outputs": [
        {
          "output_type": "stream",
          "name": "stdout",
          "text": [
            "Pythonisawesome\n"
          ]
        }
      ]
    },
    {
      "cell_type": "markdown",
      "source": [
        "Pairs of numbers"
      ],
      "metadata": {
        "id": "LzWQ5EbReJtE"
      }
    },
    {
      "cell_type": "code",
      "source": [
        "list1 = [1, 2, 3]\n",
        "list2 = [4, 5, 6]\n",
        "newlist=[]\n",
        "for i in list1:\n",
        "  for j in list2:\n",
        "    a=tuple((i,j))\n",
        "    newlist.append(a)\n",
        "print(newlist)"
      ],
      "metadata": {
        "colab": {
          "base_uri": "https://localhost:8080/"
        },
        "id": "PFYsRP_aeLrS",
        "outputId": "0cd22170-d365-4ccf-de3d-4c796f320274"
      },
      "execution_count": null,
      "outputs": [
        {
          "output_type": "stream",
          "name": "stdout",
          "text": [
            "[(1, 4), (1, 5), (1, 6), (2, 4), (2, 5), (2, 6), (3, 4), (3, 5), (3, 6)]\n"
          ]
        }
      ]
    },
    {
      "cell_type": "markdown",
      "source": [
        "Rotate matrix by 90 degrees"
      ],
      "metadata": {
        "id": "wKR3NP8EZvfx"
      }
    },
    {
      "cell_type": "code",
      "source": [
        "matrix=[[1,2,3],[4,5,6],[7,8,9]]\n",
        "for i in range(len(matrix)):\n",
        "  for j in range(i,len(matrix)):\n",
        "    matrix[i][j],matrix[j][i]=matrix[j][i],matrix[i][j]\n",
        "for i in range(len(matrix)):\n",
        "  matrix[i].reverse()\n",
        "print(matrix)"
      ],
      "metadata": {
        "id": "swXGRZRkZyxO",
        "colab": {
          "base_uri": "https://localhost:8080/"
        },
        "outputId": "eb532f77-7497-4cea-f5a9-517b37d55d68"
      },
      "execution_count": 1,
      "outputs": [
        {
          "output_type": "stream",
          "name": "stdout",
          "text": [
            "[[7, 4, 1], [8, 5, 2], [9, 6, 3]]\n"
          ]
        }
      ]
    },
    {
      "cell_type": "markdown",
      "source": [
        "Longest Substring Without Repeating Characters"
      ],
      "metadata": {
        "id": "CO7800M-iyK9"
      }
    },
    {
      "cell_type": "code",
      "source": [
        "str=\"abcabcbb\"\n",
        "seen=\"\"\n",
        "for i in str:\n",
        "  if i not in seen:\n",
        "    seen+=i\n",
        "print(seen)\n",
        "print(len(seen))"
      ],
      "metadata": {
        "colab": {
          "base_uri": "https://localhost:8080/"
        },
        "id": "bOznWmDriy1A",
        "outputId": "5d728d6c-c96f-4186-a2a4-8135cce8ee4c"
      },
      "execution_count": 2,
      "outputs": [
        {
          "output_type": "stream",
          "name": "stdout",
          "text": [
            "abc\n",
            "3\n"
          ]
        }
      ]
    },
    {
      "cell_type": "markdown",
      "source": [
        "Longest Common Subsequence"
      ],
      "metadata": {
        "id": "kBQ4yKKFjTgw"
      }
    },
    {
      "cell_type": "code",
      "source": [
        "str1=\"abcde\"\n",
        "str2=\"ace\"\n",
        "seen=\"\"\n",
        "for i in str1:\n",
        "  if i in str2:\n",
        "    seen+=i\n",
        "print(seen)"
      ],
      "metadata": {
        "colab": {
          "base_uri": "https://localhost:8080/"
        },
        "id": "FYEi_Sl1jUK-",
        "outputId": "0f07dd8a-300f-43b3-94c1-b88b1433c579"
      },
      "execution_count": 3,
      "outputs": [
        {
          "output_type": "stream",
          "name": "stdout",
          "text": [
            "ace\n"
          ]
        }
      ]
    },
    {
      "cell_type": "markdown",
      "source": [
        "Binary Search"
      ],
      "metadata": {
        "id": "Tsx7N0vEk2Yx"
      }
    },
    {
      "cell_type": "code",
      "source": [
        "arr=[1,2,3,4,5,6,7,8,9,10]\n",
        "target=6\n",
        "low=0\n",
        "high=arr[-1]\n",
        "while low<=high:\n",
        "  mid=(low+high)//2\n",
        "  if arr[mid]==target:\n",
        "    print(\"Element is found at\",mid,\"index\")\n",
        "    break"
      ],
      "metadata": {
        "colab": {
          "base_uri": "https://localhost:8080/"
        },
        "id": "mDvGdJRrk4lp",
        "outputId": "9d3d2365-9081-4e8c-d980-0271de32d792"
      },
      "execution_count": 5,
      "outputs": [
        {
          "output_type": "stream",
          "name": "stdout",
          "text": [
            "Element is found at 5 index\n"
          ]
        }
      ]
    }
  ]
}