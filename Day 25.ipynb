{
  "nbformat": 4,
  "nbformat_minor": 0,
  "metadata": {
    "colab": {
      "provenance": [],
      "authorship_tag": "ABX9TyPnNSCaJfaYGIv5gsgZHIH1",
      "include_colab_link": true
    },
    "kernelspec": {
      "name": "python3",
      "display_name": "Python 3"
    },
    "language_info": {
      "name": "python"
    }
  },
  "cells": [
    {
      "cell_type": "markdown",
      "metadata": {
        "id": "view-in-github",
        "colab_type": "text"
      },
      "source": [
        "<a href=\"https://colab.research.google.com/github/PSindhuLakshmiPriya/Python-daily-practice-codes/blob/main/Untitled15.ipynb\" target=\"_parent\"><img src=\"https://colab.research.google.com/assets/colab-badge.svg\" alt=\"Open In Colab\"/></a>"
      ]
    },
    {
      "cell_type": "markdown",
      "source": [
        "Remove all whitespaces from a string"
      ],
      "metadata": {
        "id": "xSsqEjIorv57"
      }
    },
    {
      "cell_type": "code",
      "source": [
        "str=input()\n",
        "str=str.replace(\" \",\"\")\n",
        "print(str)"
      ],
      "metadata": {
        "colab": {
          "base_uri": "https://localhost:8080/"
        },
        "id": "Hp316Z36r1U8",
        "outputId": "6be90cad-9b7f-4c1b-82f7-d983f14f67c0"
      },
      "execution_count": 1,
      "outputs": [
        {
          "output_type": "stream",
          "name": "stdout",
          "text": [
            "my name is sindhu\n",
            "mynameissindhu\n"
          ]
        }
      ]
    },
    {
      "cell_type": "markdown",
      "source": [
        "Count the Occurrences of Each Character"
      ],
      "metadata": {
        "id": "7x4KegQssJFQ"
      }
    },
    {
      "cell_type": "code",
      "source": [
        "# Problem: Count how many times each character appears in a string.\n",
        "def count_char_occurrences(s):\n",
        "    count = {}\n",
        "    for char in s:\n",
        "        count[char] = count.get(char, 0) + 1\n",
        "    return count\n",
        "\n",
        "# Test\n",
        "print(count_char_occurrences(\"banana\"))\n",
        "# Output: {'b': 1, 'a': 3, 'n': 2}\n"
      ],
      "metadata": {
        "colab": {
          "base_uri": "https://localhost:8080/"
        },
        "id": "_BNRszNTsTWE",
        "outputId": "75b0a098-061c-458a-bb41-fc73cf7449d8"
      },
      "execution_count": 2,
      "outputs": [
        {
          "output_type": "stream",
          "name": "stdout",
          "text": [
            "{'b': 1, 'a': 3, 'n': 2}\n"
          ]
        }
      ]
    }
  ]
}
