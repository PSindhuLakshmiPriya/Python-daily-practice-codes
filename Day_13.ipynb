{
  "nbformat": 4,
  "nbformat_minor": 0,
  "metadata": {
    "colab": {
      "provenance": [],
      "authorship_tag": "ABX9TyMACcAdWkCE/kWuszHwkk+v",
      "include_colab_link": true
    },
    "kernelspec": {
      "name": "python3",
      "display_name": "Python 3"
    },
    "language_info": {
      "name": "python"
    }
  },
  "cells": [
    {
      "cell_type": "markdown",
      "metadata": {
        "id": "view-in-github",
        "colab_type": "text"
      },
      "source": [
        "<a href=\"https://colab.research.google.com/github/PSindhuLakshmiPriya/Python-daily-practice-codes/blob/main/Day_13.ipynb\" target=\"_parent\"><img src=\"https://colab.research.google.com/assets/colab-badge.svg\" alt=\"Open In Colab\"/></a>"
      ]
    },
    {
      "cell_type": "code",
      "execution_count": null,
      "metadata": {
        "colab": {
          "base_uri": "https://localhost:8080/"
        },
        "id": "OTCSmgG20O0H",
        "outputId": "3df3e911-d039-4e50-c4d1-6c2af1f07fa2"
      },
      "outputs": [
        {
          "output_type": "stream",
          "name": "stdout",
          "text": [
            "3\n"
          ]
        }
      ],
      "source": [
        "def min_refueling_stops(X, N, fuel):\n",
        "    # Sort the vehicles by their starting fuel in descending order\n",
        "    fuel.sort(reverse=True)\n",
        "\n",
        "    refueling_stops = 0\n",
        "    leftover_fuel = 0\n",
        "\n",
        "    for i in range(N):\n",
        "        # Add leftover fuel from the previous vehicle\n",
        "        fuel[i] += leftover_fuel\n",
        "\n",
        "        if fuel[i] < X:\n",
        "            # If the current vehicle doesn't have enough fuel, refuel it\n",
        "            refueling_stops += 1\n",
        "            # After refueling, the vehicle will have exactly X liters of fuel\n",
        "            leftover_fuel = 0  # No leftover fuel, as it exactly consumed X liters\n",
        "        else:\n",
        "            # Calculate the leftover fuel after completing the journey\n",
        "            leftover_fuel = fuel[i] - X\n",
        "\n",
        "    return refueling_stops\n",
        "\n",
        "\n",
        "X = 10\n",
        "N = 5\n",
        "fuel = [4, 8, 15, 3, 5]\n",
        "\n",
        "print(min_refueling_stops(X, N, fuel))"
      ]
    },
    {
      "cell_type": "markdown",
      "source": [
        "Finding Nth term of fibanocci series"
      ],
      "metadata": {
        "id": "yHI_aHo25Y1u"
      }
    },
    {
      "cell_type": "code",
      "source": [
        "def fibonacci(n):\n",
        "    if n <= 1:\n",
        "        return n\n",
        "    else:\n",
        "        return fibonacci(n-1) + fibonacci(n-2)\n",
        "\n",
        "\n",
        "if __name__ == \"__main__\":\n",
        "    n = 10\n",
        "    print(n, \"th Fibonacci Number: \")\n",
        "    print(fibonacci(n))"
      ],
      "metadata": {
        "colab": {
          "base_uri": "https://localhost:8080/"
        },
        "id": "PFUwU9NW6kRf",
        "outputId": "b80bad08-93fa-4f39-9a62-17ea8217f420"
      },
      "execution_count": null,
      "outputs": [
        {
          "output_type": "stream",
          "name": "stdout",
          "text": [
            "10 th Fibonacci Number: \n",
            "55\n"
          ]
        }
      ]
    },
    {
      "cell_type": "code",
      "source": [
        "def fibbanocci(n):\n",
        "  a=0\n",
        "  b=1\n",
        "  if n<0:\n",
        "    print(\"Incorrect input\")\n",
        "  elif n==0:\n",
        "    return a\n",
        "  elif n==1:\n",
        "    return b\n",
        "  else:\n",
        "    for i in range(2,n+1):\n",
        "      c=a+b\n",
        "      a=b\n",
        "      b=c\n",
        "    return b\n",
        "\n",
        "print(fibbanocci(2))"
      ],
      "metadata": {
        "colab": {
          "base_uri": "https://localhost:8080/"
        },
        "id": "VDdATMlC7l4c",
        "outputId": "f3b9a04d-4b5a-4400-bee2-6522b4faa82a"
      },
      "execution_count": null,
      "outputs": [
        {
          "output_type": "stream",
          "name": "stdout",
          "text": [
            "1\n"
          ]
        }
      ]
    },
    {
      "cell_type": "markdown",
      "source": [
        "Python Program for Replace All 0’s With 1 In A Given Integer"
      ],
      "metadata": {
        "id": "ebdKzCRU8gdx"
      }
    },
    {
      "cell_type": "code",
      "source": [
        "num=int(input())\n",
        "s=str(num)\n",
        "result=\"\"\n",
        "for i in s:\n",
        "  if i=='0':\n",
        "    result+='1'\n",
        "  else:\n",
        "    result+=i\n",
        "print(int(result))"
      ],
      "metadata": {
        "colab": {
          "base_uri": "https://localhost:8080/"
        },
        "id": "rDXLG4iC8jye",
        "outputId": "a01bad62-43d3-4a10-9c92-dcdb50464349"
      },
      "execution_count": null,
      "outputs": [
        {
          "output_type": "stream",
          "name": "stdout",
          "text": [
            "101\n",
            "111\n"
          ]
        }
      ]
    },
    {
      "cell_type": "markdown",
      "source": [
        "To calculate the area of the circle"
      ],
      "metadata": {
        "id": "8b4vdw399mor"
      }
    },
    {
      "cell_type": "code",
      "source": [
        "radius=int(input())\n",
        "area=3.14*radius*radius\n",
        "print(area)"
      ],
      "metadata": {
        "colab": {
          "base_uri": "https://localhost:8080/"
        },
        "id": "AQdYQFB19CRT",
        "outputId": "6dd12a8d-9fef-4314-a977-42ce626de71a"
      },
      "execution_count": null,
      "outputs": [
        {
          "output_type": "stream",
          "name": "stdout",
          "text": [
            "3\n",
            "28.259999999999998\n"
          ]
        }
      ]
    },
    {
      "cell_type": "code",
      "source": [
        "from math import pi\n",
        "radius=3.00\n",
        "area=pi*radius*radius\n",
        "print(area)"
      ],
      "metadata": {
        "colab": {
          "base_uri": "https://localhost:8080/"
        },
        "id": "9OYn_CmK92WJ",
        "outputId": "dc678e82-b862-401a-de55-507d892e608d"
      },
      "execution_count": null,
      "outputs": [
        {
          "output_type": "stream",
          "name": "stdout",
          "text": [
            "28.274333882308138\n"
          ]
        }
      ]
    },
    {
      "cell_type": "markdown",
      "source": [
        "Check prime numbers between the range"
      ],
      "metadata": {
        "id": "uS_zDpv9A6Rh"
      }
    },
    {
      "cell_type": "code",
      "source": [
        "num = 2\n",
        "flag = 0\n",
        "for i in range(2,num):\n",
        "  if num%i==0:\n",
        "    flag = 1\n",
        "    break\n",
        "if flag == 1:\n",
        "  print('Not Prime')\n",
        "else:\n",
        "  print(\"Prime\")\n"
      ],
      "metadata": {
        "colab": {
          "base_uri": "https://localhost:8080/"
        },
        "id": "xTlYRfs8A-My",
        "outputId": "c90e747f-ec2f-4567-9b76-3a951e9d32f5"
      },
      "execution_count": null,
      "outputs": [
        {
          "output_type": "stream",
          "name": "stdout",
          "text": [
            "Prime\n"
          ]
        }
      ]
    },
    {
      "cell_type": "code",
      "source": [
        "def checkprime(num):\n",
        "  flag = 0\n",
        "  for i in range(2,num):\n",
        "    if num%i==0:\n",
        "      flag = 1\n",
        "      break\n",
        "  if flag == 1:\n",
        "    pass\n",
        "  else:\n",
        "    return True\n",
        "a,b=1,100\n",
        "for i in range(a,b+1):\n",
        "  if checkprime(i):\n",
        "    print(i,end=\" \")"
      ],
      "metadata": {
        "colab": {
          "base_uri": "https://localhost:8080/"
        },
        "id": "nb7XIAHQCsFa",
        "outputId": "8450732a-7064-4240-e17e-d52b8cc90308"
      },
      "execution_count": null,
      "outputs": [
        {
          "output_type": "stream",
          "name": "stdout",
          "text": [
            "1 2 3 5 7 11 13 17 19 23 29 31 37 41 43 47 53 59 61 67 71 73 79 83 89 97 "
          ]
        }
      ]
    },
    {
      "cell_type": "markdown",
      "source": [
        "Factorial using recursion"
      ],
      "metadata": {
        "id": "ajT7kqXOkLQM"
      }
    },
    {
      "cell_type": "code",
      "source": [
        "def factorial(n):\n",
        "  if n==0:\n",
        "    return 1\n",
        "  else:\n",
        "    return n*factorial(n-1)\n",
        "print(factorial(5))"
      ],
      "metadata": {
        "colab": {
          "base_uri": "https://localhost:8080/"
        },
        "id": "gTUgcYuFkPQL",
        "outputId": "db8e81bb-921f-4461-9107-14dc850eb270"
      },
      "execution_count": null,
      "outputs": [
        {
          "output_type": "stream",
          "name": "stdout",
          "text": [
            "120\n"
          ]
        }
      ]
    },
    {
      "cell_type": "markdown",
      "source": [
        "Checking perfect squares in an array"
      ],
      "metadata": {
        "id": "yAb0rCOeo1mo"
      }
    },
    {
      "cell_type": "code",
      "source": [
        "import math\n",
        "arr=[64,24,36,4,9,78,49]\n",
        "perfect_squares=[]\n",
        "for i in arr:\n",
        "  if (math.sqrt(i))*(math.sqrt(i))==i:\n",
        "    perfect_squares.append(i)\n",
        "print(len(perfect_squares))\n",
        "print(perfect_squares)\n"
      ],
      "metadata": {
        "colab": {
          "base_uri": "https://localhost:8080/"
        },
        "id": "BU4TSz3vn4I5",
        "outputId": "09c3e9ea-eff1-42b2-9daa-982d1adc2296"
      },
      "execution_count": null,
      "outputs": [
        {
          "output_type": "stream",
          "name": "stdout",
          "text": [
            "5\n",
            "[64, 36, 4, 9, 49]\n"
          ]
        }
      ]
    },
    {
      "cell_type": "markdown",
      "source": [
        "Printing no. of cards required at their respective levels"
      ],
      "metadata": {
        "id": "uNuL7MDErjHq"
      }
    },
    {
      "cell_type": "code",
      "source": [
        "num=int(input())\n",
        "result=num*(3*num+1)/2\n",
        "print(int(result))"
      ],
      "metadata": {
        "colab": {
          "base_uri": "https://localhost:8080/"
        },
        "id": "vbpvxnHfrqUY",
        "outputId": "67161ccc-23a4-40c7-c4a6-a1849e2190c3"
      },
      "execution_count": null,
      "outputs": [
        {
          "output_type": "stream",
          "name": "stdout",
          "text": [
            "1\n",
            "2\n"
          ]
        }
      ]
    }
  ]
}