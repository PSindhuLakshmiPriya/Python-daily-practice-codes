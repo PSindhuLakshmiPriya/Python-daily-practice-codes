{
  "nbformat": 4,
  "nbformat_minor": 0,
  "metadata": {
    "colab": {
      "provenance": [],
      "authorship_tag": "ABX9TyN8q9VMMpTP2K2lpoK0744u",
      "include_colab_link": true
    },
    "kernelspec": {
      "name": "python3",
      "display_name": "Python 3"
    },
    "language_info": {
      "name": "python"
    }
  },
  "cells": [
    {
      "cell_type": "markdown",
      "metadata": {
        "id": "view-in-github",
        "colab_type": "text"
      },
      "source": [
        "<a href=\"https://colab.research.google.com/github/PSindhuLakshmiPriya/Python-daily-practice-codes/blob/main/Day_18.ipynb\" target=\"_parent\"><img src=\"https://colab.research.google.com/assets/colab-badge.svg\" alt=\"Open In Colab\"/></a>"
      ]
    },
    {
      "cell_type": "markdown",
      "source": [
        "Inheritance\n",
        "\n",
        "\n",
        "normally if we see in our real life we get some qualities or habits from our parents.We inherit some appearances features/behaviour from parents\n",
        "\n",
        "\n",
        "In programming inheritance is the ability of a child class to inherit the properties or methods of the parent class i.e the class that is created first\n",
        "\n",
        "\n",
        "\n",
        "The class whose properties are to be inherited is called base/parent/super class.\n",
        "\n",
        "\n",
        "\n",
        "The class which inherits the properties is called derived/sub/child class.\n",
        "\n",
        "Syntax:\n",
        "\n",
        "class DerivedClassName(BaseClassName)"
      ],
      "metadata": {
        "id": "3yeKS7Hz1Lim"
      }
    },
    {
      "cell_type": "code",
      "source": [
        "class Student:\n",
        "  def read(self):\n",
        "    print(\"I read English\")\n",
        "  def write(self):\n",
        "    print(\"I write English\")\n",
        "class NewStudent:\n",
        "  def read(self):\n",
        "    print(\"I read English\")\n",
        "  def write(self):\n",
        "    print(\"I write English\")\n",
        "NewStudent_1=NewStudent()\n",
        "NewStudent_1.read()\n",
        "NewStudent_1.write()\n"
      ],
      "metadata": {
        "colab": {
          "base_uri": "https://localhost:8080/"
        },
        "id": "vkH5V2533aKN",
        "outputId": "865d768a-f12c-4b03-8e5d-e248f6d027c2"
      },
      "execution_count": null,
      "outputs": [
        {
          "output_type": "stream",
          "name": "stdout",
          "text": [
            "I read English\n",
            "I write English\n"
          ]
        }
      ]
    },
    {
      "cell_type": "markdown",
      "source": [
        "We can write like this but more lines of code.It is a waste of time\n",
        "\n",
        "inheritance-less lines of code,saves time,easy readability and maintainance\n",
        "\n",
        "\n",
        "the main purpose to increase the reusability of the code"
      ],
      "metadata": {
        "id": "CkHZBgOC4uY8"
      }
    },
    {
      "cell_type": "code",
      "source": [
        "class Teacher:\n",
        "  def teach(self):\n",
        "    print(\"I can teach\")\n",
        "  def read(self):\n",
        "    print(\"I can read\")\n",
        "class Student(Teacher):\n",
        "  pass\n",
        "Student_1=Student()\n",
        "Student_1.teach()\n",
        "Student_1.read()"
      ],
      "metadata": {
        "colab": {
          "base_uri": "https://localhost:8080/"
        },
        "id": "2GaiVHowRk1S",
        "outputId": "acba6224-40c7-4879-cfc6-b49803ad74a3"
      },
      "execution_count": 1,
      "outputs": [
        {
          "output_type": "stream",
          "name": "stdout",
          "text": [
            "I can teach\n",
            "I can read\n"
          ]
        }
      ]
    },
    {
      "cell_type": "code",
      "source": [
        "class Teacher:\n",
        "  def teach(self):\n",
        "    print(\"I can teach\")\n",
        "  def read(self):\n",
        "    print(\"I can read\")\n",
        "class Student(Teacher):\n",
        "  def study(self):\n",
        "    print(\"I can study\")\n",
        "Student_1=Student()\n",
        "Student_1.teach()\n",
        "Student_1.read()\n",
        "Student_1.study()"
      ],
      "metadata": {
        "colab": {
          "base_uri": "https://localhost:8080/"
        },
        "id": "aAXfH6cYSUBH",
        "outputId": "46de66f4-e213-4cb0-a325-3aaee7cf1041"
      },
      "execution_count": 2,
      "outputs": [
        {
          "output_type": "stream",
          "name": "stdout",
          "text": [
            "I can teach\n",
            "I can read\n",
            "I can study\n"
          ]
        }
      ]
    },
    {
      "cell_type": "markdown",
      "source": [
        "The derived class can have its own implementation too. when we have two methods same in parent i.e inherited and in child class it will be accessing the child method..this concept is called Overriding.Because here this method is overridden"
      ],
      "metadata": {
        "id": "Tm6c64ZpTPlc"
      }
    },
    {
      "cell_type": "code",
      "source": [
        "class Teacher:\n",
        "  def teach(self):\n",
        "    print(\"I can teach\")\n",
        "  def read(self):\n",
        "    print(\"I can read\")\n",
        "class Student(Teacher):\n",
        "  def study(self):\n",
        "    print(\"I can study\")\n",
        "  def read(self):\n",
        "    print(\"I read hindi\")\n",
        "Student_1=Student()\n",
        "Student_1.teach()\n",
        "Student_1.read()\n",
        "Student_1.study()"
      ],
      "metadata": {
        "colab": {
          "base_uri": "https://localhost:8080/"
        },
        "id": "MLpyt0RdT5pd",
        "outputId": "89de7d96-1acf-4fac-f407-c9dfa244c234"
      },
      "execution_count": 3,
      "outputs": [
        {
          "output_type": "stream",
          "name": "stdout",
          "text": [
            "I can teach\n",
            "I read hindi\n",
            "I can study\n"
          ]
        }
      ]
    },
    {
      "cell_type": "markdown",
      "source": [
        "If we also want the implementation of the method in parent, we can use super.It access the attributes, methods from the super class"
      ],
      "metadata": {
        "id": "t094c8YdUgLo"
      }
    },
    {
      "cell_type": "code",
      "source": [
        "class Teacher:\n",
        "  def teach(self):\n",
        "    print(\"I can teach\")\n",
        "  def read(self):\n",
        "    print(\"I can read\")\n",
        "class Student(Teacher):\n",
        "  def study(self):\n",
        "    print(\"I can study\")\n",
        "  def read(self):\n",
        "    super().read()\n",
        "    print(\"I read hindi\")\n",
        "Student_1=Student()\n",
        "Student_1.read()\n"
      ],
      "metadata": {
        "colab": {
          "base_uri": "https://localhost:8080/"
        },
        "id": "uI6zfGEqU613",
        "outputId": "72b62eea-a65a-44ca-f936-182612bd4b31"
      },
      "execution_count": 6,
      "outputs": [
        {
          "output_type": "stream",
          "name": "stdout",
          "text": [
            "I can read\n",
            "I read hindi\n"
          ]
        }
      ]
    },
    {
      "cell_type": "markdown",
      "source": [
        "If we want attributes in parent class that is further accessed by the child class"
      ],
      "metadata": {
        "id": "2qUq9V6XWDdo"
      }
    },
    {
      "cell_type": "code",
      "source": [
        "class Teacher:\n",
        "  def __init__(self):\n",
        "    self.branch=\"CSE\"\n",
        "  def teach(self):\n",
        "    print(\"I can teach\")\n",
        "  def read(self):\n",
        "    print(\"I can read\")\n",
        "class Student(Teacher):\n",
        "  def study(self):\n",
        "    print(\"I can study\")\n",
        "  def read(self):\n",
        "    super().read()\n",
        "    print(\"I read hindi\")\n",
        "Student_1=Student()\n",
        "print(Student_1.branch)\n"
      ],
      "metadata": {
        "colab": {
          "base_uri": "https://localhost:8080/"
        },
        "id": "aO3lPShSWOV9",
        "outputId": "dc2ce022-589f-4ff8-82a4-e4f440afe199"
      },
      "execution_count": 10,
      "outputs": [
        {
          "output_type": "stream",
          "name": "stdout",
          "text": [
            "CSE\n"
          ]
        }
      ]
    },
    {
      "cell_type": "markdown",
      "source": [
        "Taking attributes from base class, it shows error for accessing parent class attributes.So to resolve it we have to use super to access parent attributes along with child attributes"
      ],
      "metadata": {
        "id": "2vRYF1mUWm1c"
      }
    },
    {
      "cell_type": "code",
      "source": [
        "class Teacher:\n",
        "  def __init__(self):\n",
        "    self.branch=\"CSE\"\n",
        "  def teach(self):\n",
        "    print(\"I can teach\")\n",
        "  def read(self):\n",
        "    print(\"I can read\")\n",
        "class Student(Teacher):\n",
        "  def __init__(self,name):\n",
        "    super().__init__()\n",
        "    self.name=name\n",
        "  def study(self):\n",
        "    print(\"I can study\")\n",
        "  def read(self):\n",
        "    super().read()\n",
        "    print(\"I read hindi\")\n",
        "Student_1=Student(\"Sindhu\")\n",
        "print(Student_1.name)\n",
        "print(Student_1.branch)\n",
        "\n"
      ],
      "metadata": {
        "colab": {
          "base_uri": "https://localhost:8080/"
        },
        "id": "plY6UYPVWrJP",
        "outputId": "5a7019d4-ceee-46aa-c70f-ea8baa4abe9e"
      },
      "execution_count": 13,
      "outputs": [
        {
          "output_type": "stream",
          "name": "stdout",
          "text": [
            "Sindhu\n",
            "CSE\n"
          ]
        }
      ]
    },
    {
      "cell_type": "markdown",
      "source": [
        "If we want to access parameters of parent class"
      ],
      "metadata": {
        "id": "vnqMg5csYury"
      }
    },
    {
      "cell_type": "code",
      "source": [
        "class Teacher:\n",
        "  def __init__(self,no_marks):\n",
        "    self.branch=\"CSE\"\n",
        "    self.no_marks=no_marks\n",
        "  def teach(self):\n",
        "    print(\"I can teach\")\n",
        "  def read(self):\n",
        "    print(\"I can read\")\n",
        "class Student(Teacher):\n",
        "  def __init__(self,name,marks):\n",
        "    super().__init__(marks)\n",
        "    self.name=name\n",
        "  def study(self):\n",
        "    print(\"I can study\")\n",
        "  def read(self):\n",
        "    super().read()\n",
        "    print(\"I read hindi\")\n",
        "  def display(self):\n",
        "    print(f\"I am {self.name} and my score is {self.no_marks}\")\n",
        "Student_1=Student(\"Sindhu\",95)\n",
        "print(Student_1.branch)\n",
        "print(Student_1.no_marks)\n",
        "Student_1.display()\n",
        "\n"
      ],
      "metadata": {
        "colab": {
          "base_uri": "https://localhost:8080/"
        },
        "id": "mq6cE0ApY2Ms",
        "outputId": "07372eee-12d8-4ad6-d311-9fb194d05f1d"
      },
      "execution_count": 23,
      "outputs": [
        {
          "output_type": "stream",
          "name": "stdout",
          "text": [
            "CSE\n",
            "95\n",
            "I am Sindhu and my score is 95\n"
          ]
        }
      ]
    }
  ]
}