{
  "nbformat": 4,
  "nbformat_minor": 0,
  "metadata": {
    "colab": {
      "provenance": [],
      "authorship_tag": "ABX9TyPT2atFFR3ooUfpf8oD0tsv",
      "include_colab_link": true
    },
    "kernelspec": {
      "name": "python3",
      "display_name": "Python 3"
    },
    "language_info": {
      "name": "python"
    }
  },
  "cells": [
    {
      "cell_type": "markdown",
      "metadata": {
        "id": "view-in-github",
        "colab_type": "text"
      },
      "source": [
        "<a href=\"https://colab.research.google.com/github/PSindhuLakshmiPriya/Python-daily-practice-codes/blob/main/Day_23.ipynb\" target=\"_parent\"><img src=\"https://colab.research.google.com/assets/colab-badge.svg\" alt=\"Open In Colab\"/></a>"
      ]
    },
    {
      "cell_type": "markdown",
      "source": [
        "Vowel Permutations"
      ],
      "metadata": {
        "id": "eTJtxNgFEFWO"
      }
    },
    {
      "cell_type": "code",
      "source": [
        "from itertools import permutations\n",
        "str=input()\n",
        "vowels=\"aeiouAEIOU\"\n",
        "vowel=\"\"\n",
        "for char in str:\n",
        "  if char in vowels:\n",
        "    vowel+=char\n",
        "    print(list(permutations(vowel)))"
      ],
      "metadata": {
        "colab": {
          "base_uri": "https://localhost:8080/"
        },
        "id": "0foP0WUvEI9c",
        "outputId": "6bba10f3-b966-4dba-ce14-4fadd61f1181"
      },
      "execution_count": 1,
      "outputs": [
        {
          "output_type": "stream",
          "name": "stdout",
          "text": [
            "accenture\n",
            "[('a',)]\n",
            "[('a', 'e'), ('e', 'a')]\n",
            "[('a', 'e', 'u'), ('a', 'u', 'e'), ('e', 'a', 'u'), ('e', 'u', 'a'), ('u', 'a', 'e'), ('u', 'e', 'a')]\n",
            "[('a', 'e', 'u', 'e'), ('a', 'e', 'e', 'u'), ('a', 'u', 'e', 'e'), ('a', 'u', 'e', 'e'), ('a', 'e', 'e', 'u'), ('a', 'e', 'u', 'e'), ('e', 'a', 'u', 'e'), ('e', 'a', 'e', 'u'), ('e', 'u', 'a', 'e'), ('e', 'u', 'e', 'a'), ('e', 'e', 'a', 'u'), ('e', 'e', 'u', 'a'), ('u', 'a', 'e', 'e'), ('u', 'a', 'e', 'e'), ('u', 'e', 'a', 'e'), ('u', 'e', 'e', 'a'), ('u', 'e', 'a', 'e'), ('u', 'e', 'e', 'a'), ('e', 'a', 'e', 'u'), ('e', 'a', 'u', 'e'), ('e', 'e', 'a', 'u'), ('e', 'e', 'u', 'a'), ('e', 'u', 'a', 'e'), ('e', 'u', 'e', 'a')]\n"
          ]
        }
      ]
    }
  ]
}