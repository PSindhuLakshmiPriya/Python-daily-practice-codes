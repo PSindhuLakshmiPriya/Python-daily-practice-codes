{
  "nbformat": 4,
  "nbformat_minor": 0,
  "metadata": {
    "colab": {
      "provenance": [],
      "authorship_tag": "ABX9TyMQKGsdEjy1m2Li5m5n7KbM",
      "include_colab_link": true
    },
    "kernelspec": {
      "name": "python3",
      "display_name": "Python 3"
    },
    "language_info": {
      "name": "python"
    }
  },
  "cells": [
    {
      "cell_type": "markdown",
      "metadata": {
        "id": "view-in-github",
        "colab_type": "text"
      },
      "source": [
        "<a href=\"https://colab.research.google.com/github/PSindhuLakshmiPriya/Python-daily-practice-codes/blob/main/Day_6.ipynb\" target=\"_parent\"><img src=\"https://colab.research.google.com/assets/colab-badge.svg\" alt=\"Open In Colab\"/></a>"
      ]
    },
    {
      "cell_type": "markdown",
      "source": [
        "To find qaundrants in which the given coordinate lies\n",
        "\n",
        "\n",
        "Algorithm\n",
        "\n",
        "\n",
        "\n",
        "if x>0 and y>0 first quandrant\n",
        "\n",
        "\n",
        "If x<0 and y>0 Second Quadrant\n",
        "\n",
        "\n",
        "If x<0 and y<0 Third Quadrant\n",
        "\n",
        "\n",
        "\n",
        "If x>0 and y<0 Fourth Quadrant\n",
        "\n",
        "\n",
        "\n",
        "If x=0 and y=0 Origin\n",
        "\n",
        "\n",
        "If x!=0 and y=0 x-axis\n",
        "\n",
        "\n",
        "If x>0 and y>0 y-axis"
      ],
      "metadata": {
        "id": "X4d7V0cA2z8G"
      }
    },
    {
      "cell_type": "code",
      "source": [
        "x=int(input(\"Enter the value of x:\"))\n",
        "y=int(input(\"Enter the value of y:\"))\n",
        "if x>0 and y>0:\n",
        "  print(\"First Quadrant\")\n",
        "elif x<0 and y>0:\n",
        "  print(\"Second Quadrant\")\n",
        "elif x<0 and y<0:\n",
        "  print(\"Third Quadrant\")\n",
        "elif x>0 and y<0:\n",
        "  print(\"Fourth Quadrant\")\n",
        "elif x==0 and y==0:\n",
        "  print(\"Origin\")\n",
        "elif x!=0 and y==0:\n",
        "  print(\"x-axis\")\n",
        "elif x==0 and y!=0:\n",
        "  print(\"y-axis\")\n"
      ],
      "metadata": {
        "colab": {
          "base_uri": "https://localhost:8080/"
        },
        "id": "QX-wa7t83FVV",
        "outputId": "128ae89c-b1c1-4507-c379-9ee0973376b9"
      },
      "execution_count": null,
      "outputs": [
        {
          "output_type": "stream",
          "name": "stdout",
          "text": [
            "Enter the value of x:0\n",
            "Enter the value of y:0\n",
            "Origin\n"
          ]
        }
      ]
    },
    {
      "cell_type": "markdown",
      "source": [
        "Finding no of times x digit occurs in a given input"
      ],
      "metadata": {
        "id": "ih6_4O8I4BBY"
      }
    },
    {
      "cell_type": "code",
      "source": [
        "num=input()\n",
        "seen=\"\"\n",
        "count=0\n",
        "for i in num:\n",
        "  if i not in seen:\n",
        "    seen+=i\n",
        "result=len(num)-len(seen)\n",
        "print(result)\n",
        "\n"
      ],
      "metadata": {
        "id": "kk8Oox7snWTg",
        "colab": {
          "base_uri": "https://localhost:8080/"
        },
        "outputId": "90476266-6ab8-40b7-c85a-9b7c3d7be918"
      },
      "execution_count": 1,
      "outputs": [
        {
          "output_type": "stream",
          "name": "stdout",
          "text": [
            "41234\n",
            "1\n"
          ]
        }
      ]
    },
    {
      "cell_type": "code",
      "source": [
        "def countOccurrances(n, d):\n",
        "    count = 0\n",
        "    while (n > 0):\n",
        "        if(n % 10 == d):\n",
        "            count = count + 1\n",
        "        n = n // 10\n",
        "\n",
        "    return count\n",
        "\n",
        "\n",
        "d = 2\n",
        "n = 828282\n",
        "print(countOccurrances(n, d))"
      ],
      "metadata": {
        "id": "DGMuAfBNp9hX",
        "colab": {
          "base_uri": "https://localhost:8080/"
        },
        "outputId": "0bc8cfa8-1f04-4889-a13f-9569bc9d7aeb"
      },
      "execution_count": 2,
      "outputs": [
        {
          "output_type": "stream",
          "name": "stdout",
          "text": [
            "3\n"
          ]
        }
      ]
    },
    {
      "cell_type": "markdown",
      "source": [
        "Finding number of integers which has exactly x divisors"
      ],
      "metadata": {
        "id": "BSgosknquuwm"
      }
    },
    {
      "cell_type": "code",
      "source": [
        "num=7\n",
        "divisor=2\n",
        "count=0\n",
        "for i in range(1,num+1):\n",
        "  count_factors=0\n",
        "  for j in range(1,i+1):\n",
        "    if i%j==0:\n",
        "      count_factors+=1\n",
        "    else:\n",
        "      pass\n",
        "  if count_factors==divisor:\n",
        "    count+=1\n",
        "print(count)"
      ],
      "metadata": {
        "id": "3TcXNovGu1t-",
        "colab": {
          "base_uri": "https://localhost:8080/"
        },
        "outputId": "4ee4808d-b456-4a8f-cc02-09345530de5c"
      },
      "execution_count": null,
      "outputs": [
        {
          "output_type": "stream",
          "name": "stdout",
          "text": [
            "4\n"
          ]
        }
      ]
    },
    {
      "cell_type": "markdown",
      "source": [
        "Counting no of days in a given month of year"
      ],
      "metadata": {
        "id": "weZA22SPvX8P"
      }
    },
    {
      "cell_type": "code",
      "source": [
        "month=12\n",
        "if month in [1,3,5,7,8,10,12]:\n",
        "  print(\"31 days\")\n",
        "elif month in [4,6,9,11]:\n",
        "  print(\"30 days\")"
      ],
      "metadata": {
        "id": "E8JECJ_SvoTV",
        "colab": {
          "base_uri": "https://localhost:8080/"
        },
        "outputId": "0fd37ae2-c5f7-495b-9d14-d2d9fea13aac"
      },
      "execution_count": null,
      "outputs": [
        {
          "output_type": "stream",
          "name": "stdout",
          "text": [
            "31 days\n"
          ]
        }
      ]
    },
    {
      "cell_type": "code",
      "source": [
        "month=int(input())\n",
        "year=int(input())\n",
        "if((month==2) and ((year%400==0) or ((year%4==0) and (year%100!=0)))):\n",
        "  print(\"29 days\")\n",
        "elif (month==2):\n",
        "  print(\"28 days\")\n",
        "elif (month==1 or month==3 or month==5 or month==7 or month==8 or month==10 or month==12):\n",
        "  print(\"31 days\")\n",
        "else:\n",
        "  print(\"30 days\")"
      ],
      "metadata": {
        "id": "Izvi6eoav05O",
        "colab": {
          "base_uri": "https://localhost:8080/"
        },
        "outputId": "7fc51417-fa45-44a6-cef9-a0a41af92817"
      },
      "execution_count": null,
      "outputs": [
        {
          "output_type": "stream",
          "name": "stdout",
          "text": [
            "2\n",
            "2020\n",
            "29 days\n"
          ]
        }
      ]
    },
    {
      "cell_type": "markdown",
      "source": [
        "Adding of two fractions"
      ],
      "metadata": {
        "id": "td3sVVZBzais"
      }
    },
    {
      "cell_type": "code",
      "source": [
        "n1,d1=map(int,input().split())\n",
        "n2,d2=map(int,input().split())\n",
        "sum=n1*d2+n2*d1\n",
        "den=d1*d2\n",
        "print(sum,\"/\",den)"
      ],
      "metadata": {
        "id": "Kkmx-vdBzdx7",
        "colab": {
          "base_uri": "https://localhost:8080/"
        },
        "outputId": "2194612c-8951-44a4-bea4-fa62c51186ea"
      },
      "execution_count": 3,
      "outputs": [
        {
          "output_type": "stream",
          "name": "stdout",
          "text": [
            "2 4\n",
            "1 2\n",
            "8 / 8\n"
          ]
        }
      ]
    }
  ]
}