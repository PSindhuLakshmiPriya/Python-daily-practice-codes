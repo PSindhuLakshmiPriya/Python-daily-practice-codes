{
  "nbformat": 4,
  "nbformat_minor": 0,
  "metadata": {
    "colab": {
      "provenance": [],
      "authorship_tag": "ABX9TyOAl/gVs6DT+ct3Dr5jueOM",
      "include_colab_link": true
    },
    "kernelspec": {
      "name": "python3",
      "display_name": "Python 3"
    },
    "language_info": {
      "name": "python"
    }
  },
  "cells": [
    {
      "cell_type": "markdown",
      "metadata": {
        "id": "view-in-github",
        "colab_type": "text"
      },
      "source": [
        "<a href=\"https://colab.research.google.com/github/PSindhuLakshmiPriya/Python-daily-practice-codes/blob/main/Day_17.ipynb\" target=\"_parent\"><img src=\"https://colab.research.google.com/assets/colab-badge.svg\" alt=\"Open In Colab\"/></a>"
      ]
    },
    {
      "cell_type": "markdown",
      "source": [
        "Self and __init__() Method in python"
      ],
      "metadata": {
        "id": "pKdzuH81mu-M"
      }
    },
    {
      "cell_type": "markdown",
      "source": [
        "We say variable as an attribute because it is associated with particular thing for ex name is associated with student_1. If we give only print name it shows error. so we need to give student_1.name to print"
      ],
      "metadata": {
        "id": "krlb8P1nnEN7"
      }
    },
    {
      "cell_type": "code",
      "source": [
        "class StudentInfo:\n",
        "  pass\n",
        "student_1=StudentInfo()\n",
        "student_1.name=\"Priya\"\n",
        "student_2.place=\"Polavaram\"\n",
        "print(name)\n"
      ],
      "metadata": {
        "id": "71wF6ZvcnE_L",
        "colab": {
          "base_uri": "https://localhost:8080/",
          "height": 193
        },
        "outputId": "f5958365-32b8-489e-e4ad-2653f62928d7"
      },
      "execution_count": 1,
      "outputs": [
        {
          "output_type": "error",
          "ename": "NameError",
          "evalue": "name 'student_2' is not defined",
          "traceback": [
            "\u001b[0;31m---------------------------------------------------------------------------\u001b[0m",
            "\u001b[0;31mNameError\u001b[0m                                 Traceback (most recent call last)",
            "\u001b[0;32m<ipython-input-1-6a503d8dce41>\u001b[0m in \u001b[0;36m<cell line: 5>\u001b[0;34m()\u001b[0m\n\u001b[1;32m      3\u001b[0m \u001b[0mstudent_1\u001b[0m\u001b[0;34m=\u001b[0m\u001b[0mStudentInfo\u001b[0m\u001b[0;34m(\u001b[0m\u001b[0;34m)\u001b[0m\u001b[0;34m\u001b[0m\u001b[0;34m\u001b[0m\u001b[0m\n\u001b[1;32m      4\u001b[0m \u001b[0mstudent_1\u001b[0m\u001b[0;34m.\u001b[0m\u001b[0mname\u001b[0m\u001b[0;34m=\u001b[0m\u001b[0;34m\"Priya\"\u001b[0m\u001b[0;34m\u001b[0m\u001b[0;34m\u001b[0m\u001b[0m\n\u001b[0;32m----> 5\u001b[0;31m \u001b[0mstudent_2\u001b[0m\u001b[0;34m.\u001b[0m\u001b[0mplace\u001b[0m\u001b[0;34m=\u001b[0m\u001b[0;34m\"Polavaram\"\u001b[0m\u001b[0;34m\u001b[0m\u001b[0;34m\u001b[0m\u001b[0m\n\u001b[0m\u001b[1;32m      6\u001b[0m \u001b[0mprint\u001b[0m\u001b[0;34m(\u001b[0m\u001b[0mname\u001b[0m\u001b[0;34m)\u001b[0m\u001b[0;34m\u001b[0m\u001b[0;34m\u001b[0m\u001b[0m\n",
            "\u001b[0;31mNameError\u001b[0m: name 'student_2' is not defined"
          ]
        }
      ]
    },
    {
      "cell_type": "code",
      "source": [
        "class StudentInfo:\n",
        "  pass\n",
        "student_1=StudentInfo()\n",
        "student_1.name=\"Priya\"\n",
        "student_1.place=\"Polavaram\"\n",
        "print(student_1.name)\n",
        "print(student_1.place)\n",
        "student_2=StudentInfo()\n",
        "student_2.name=\"Sindhu\"\n",
        "student_2.place=\"Gutala\"\n",
        "print(student_2.name)\n",
        "print(student_2.place)"
      ],
      "metadata": {
        "colab": {
          "base_uri": "https://localhost:8080/"
        },
        "id": "6arghVPtoSwt",
        "outputId": "9f3dcb93-0f28-4e1c-c740-a680c309c2e2"
      },
      "execution_count": 5,
      "outputs": [
        {
          "output_type": "stream",
          "name": "stdout",
          "text": [
            "Priya\n",
            "Polavaram\n",
            "Sindhu\n",
            "Gutala\n"
          ]
        }
      ]
    },
    {
      "cell_type": "markdown",
      "source": [
        "__init__(self) is a predefined method.\n",
        "\n",
        "we can say it is a special method with a special usecase.\n",
        "\n",
        "in python it is used to initialize the object.\n",
        "\n",
        "this init function would be called everytime you create a object\n",
        "\n",
        "it is used to initialize attributes of that particular object"
      ],
      "metadata": {
        "id": "eXLN7pw_qwMW"
      }
    },
    {
      "cell_type": "code",
      "source": [
        "class StudentInfo:\n",
        "  def __init__(self):\n",
        "    print(\"Creating a new object\")\n",
        "student_1=StudentInfo()\n",
        "student_1.name=\"Priya\"\n",
        "student_1.place=\"Polavaram\"\n",
        "print(student_1.name)\n",
        "student_2=StudentInfo()\n",
        "student_2.name=\"Sindhu\"\n",
        "student_2.place=\"Gutala\"\n",
        "print(student_2.name)"
      ],
      "metadata": {
        "colab": {
          "base_uri": "https://localhost:8080/"
        },
        "id": "TCUhzdthrc9c",
        "outputId": "e5fdbfa4-1b6c-494f-cb7b-ff8b26bb454d"
      },
      "execution_count": 8,
      "outputs": [
        {
          "output_type": "stream",
          "name": "stdout",
          "text": [
            "Creating a new object\n",
            "Priya\n",
            "Creating a new object\n",
            "Sindhu\n"
          ]
        }
      ]
    },
    {
      "cell_type": "markdown",
      "source": [
        "We use self keyword\n",
        "\n",
        "it refers to the actual object\n",
        "\n",
        "with self we can also parameters and while creating attributes we can take any name but parameters names shoould be same\n",
        "\n",
        "\n",
        "here no need to take attributes for every object that is created rather we can pass parameters in created object and print them using self"
      ],
      "metadata": {
        "id": "wCpcGoHQtCnf"
      }
    },
    {
      "cell_type": "code",
      "source": [
        "class StudentInfo:\n",
        "  def __init__(self,name,place):\n",
        "    self.name=name\n",
        "    self.place=place\n",
        "student_1=StudentInfo(\"Priya\",\"Polavaram\")\n",
        "print(student_1.name)"
      ],
      "metadata": {
        "colab": {
          "base_uri": "https://localhost:8080/"
        },
        "id": "bwacQV6etaGm",
        "outputId": "693601c3-1a8f-4fe1-bde2-055fc23e839e"
      },
      "execution_count": 9,
      "outputs": [
        {
          "output_type": "stream",
          "name": "stdout",
          "text": [
            "Priya\n"
          ]
        }
      ]
    },
    {
      "cell_type": "markdown",
      "source": [
        "If we do not pass any parameter in the object it shows error"
      ],
      "metadata": {
        "id": "emnFAsMAt9CJ"
      }
    },
    {
      "cell_type": "code",
      "source": [
        "class StudentInfo:\n",
        "  def __init__(self,name,place):\n",
        "    self.name=name\n",
        "    self.place=place\n",
        "student_1=StudentInfo()\n",
        "print(student_1.name)"
      ],
      "metadata": {
        "colab": {
          "base_uri": "https://localhost:8080/",
          "height": 193
        },
        "id": "OOsNoWFmuFGC",
        "outputId": "13518afd-7baf-45da-d97b-031a4c48868e"
      },
      "execution_count": 10,
      "outputs": [
        {
          "output_type": "error",
          "ename": "TypeError",
          "evalue": "StudentInfo.__init__() missing 2 required positional arguments: 'name' and 'place'",
          "traceback": [
            "\u001b[0;31m---------------------------------------------------------------------------\u001b[0m",
            "\u001b[0;31mTypeError\u001b[0m                                 Traceback (most recent call last)",
            "\u001b[0;32m<ipython-input-10-b44a9a27cc0a>\u001b[0m in \u001b[0;36m<cell line: 5>\u001b[0;34m()\u001b[0m\n\u001b[1;32m      3\u001b[0m     \u001b[0mself\u001b[0m\u001b[0;34m.\u001b[0m\u001b[0mname\u001b[0m\u001b[0;34m=\u001b[0m\u001b[0mname\u001b[0m\u001b[0;34m\u001b[0m\u001b[0;34m\u001b[0m\u001b[0m\n\u001b[1;32m      4\u001b[0m     \u001b[0mself\u001b[0m\u001b[0;34m.\u001b[0m\u001b[0mplace\u001b[0m\u001b[0;34m=\u001b[0m\u001b[0mplace\u001b[0m\u001b[0;34m\u001b[0m\u001b[0;34m\u001b[0m\u001b[0m\n\u001b[0;32m----> 5\u001b[0;31m \u001b[0mstudent_1\u001b[0m\u001b[0;34m=\u001b[0m\u001b[0mStudentInfo\u001b[0m\u001b[0;34m(\u001b[0m\u001b[0;34m)\u001b[0m\u001b[0;34m\u001b[0m\u001b[0;34m\u001b[0m\u001b[0m\n\u001b[0m\u001b[1;32m      6\u001b[0m \u001b[0mprint\u001b[0m\u001b[0;34m(\u001b[0m\u001b[0mstudent_1\u001b[0m\u001b[0;34m.\u001b[0m\u001b[0mname\u001b[0m\u001b[0;34m)\u001b[0m\u001b[0;34m\u001b[0m\u001b[0;34m\u001b[0m\u001b[0m\n",
            "\u001b[0;31mTypeError\u001b[0m: StudentInfo.__init__() missing 2 required positional arguments: 'name' and 'place'"
          ]
        }
      ]
    },
    {
      "cell_type": "markdown",
      "source": [
        "suppose if we want to take a third parameter fee due and every object has value of 0 to that parameter .. it is a waste of time so directly we can set default attribute/value"
      ],
      "metadata": {
        "id": "hAOvQoc1vFvC"
      }
    },
    {
      "cell_type": "code",
      "source": [
        "class StudentInfo:\n",
        "  def __init__(self,name,place):\n",
        "    self.name=name\n",
        "    self.place=place\n",
        "    self.fee_due=0\n",
        "student_1=StudentInfo(\"Priya\",\"Polavaram\")\n",
        "print(student_1.name)\n",
        "print(student_1.fee_due)"
      ],
      "metadata": {
        "colab": {
          "base_uri": "https://localhost:8080/"
        },
        "id": "rrLR9GW1vV6h",
        "outputId": "bd70a66d-ab7a-4a57-b7fe-e2617a27638d"
      },
      "execution_count": 14,
      "outputs": [
        {
          "output_type": "stream",
          "name": "stdout",
          "text": [
            "Priya\n",
            "0\n"
          ]
        }
      ]
    },
    {
      "cell_type": "markdown",
      "source": [
        "this means right now nobody is having fee due if we want to we can pass parameter and set value\n",
        "\n",
        "\n",
        "just it is about how to set a default value for all objects attributes"
      ],
      "metadata": {
        "id": "wonVQug0vvL7"
      }
    },
    {
      "cell_type": "markdown",
      "source": [
        "Class Methods"
      ],
      "metadata": {
        "id": "MwNUwQe9wgxN"
      }
    },
    {
      "cell_type": "code",
      "source": [
        "class StudentInfo:\n",
        "  followers=0 #class object variable\n",
        "  def __init__(self,name,address):\n",
        "    self.name=name\n",
        "    self.address=address\n",
        "student_1=StudentInfo(\"Priya\",\"Polavaram\")\n",
        "print(student_1.name)\n",
        "print(student_1.followers)\n",
        "student_2=StudentInfo(\"Sindhu\",\"Polavaram\")"
      ],
      "metadata": {
        "colab": {
          "base_uri": "https://localhost:8080/"
        },
        "id": "lsk9Gw56x2nB",
        "outputId": "e2a3e37f-dd05-4629-d629-6fd33f80bab2"
      },
      "execution_count": 15,
      "outputs": [
        {
          "output_type": "stream",
          "name": "stdout",
          "text": [
            "Priya\n",
            "0\n"
          ]
        }
      ]
    },
    {
      "cell_type": "markdown",
      "source": [
        "followers=0 for every object you create in that studentinfo class it will be associated with that default value"
      ],
      "metadata": {
        "id": "qREvCw6pytN1"
      }
    },
    {
      "cell_type": "code",
      "source": [
        "print(student_2.name)\n",
        "print(student_2.followers)"
      ],
      "metadata": {
        "colab": {
          "base_uri": "https://localhost:8080/"
        },
        "id": "sJlmT20Ny_R9",
        "outputId": "7501f19b-b16d-4ffe-9ab1-3dee6d6b2228"
      },
      "execution_count": 16,
      "outputs": [
        {
          "output_type": "stream",
          "name": "stdout",
          "text": [
            "Sindhu\n",
            "0\n"
          ]
        }
      ]
    },
    {
      "cell_type": "code",
      "source": [
        "class StudentInfo:\n",
        "  followers=0 #class object variable\n",
        "  def __init__(self,name,address):\n",
        "    self.name=name\n",
        "    self.address=address\n",
        "  def display(self,subject_name):\n",
        "    print(f\"Hi, I am {self.name} and I teach {subject_name}\")\n",
        "student_1=StudentInfo(\"Priya\",\"Polavaram\")\n",
        "print(student_1.name)\n",
        "student_1.display(\"Python\")\n"
      ],
      "metadata": {
        "colab": {
          "base_uri": "https://localhost:8080/"
        },
        "id": "JxsfU9dBzvNf",
        "outputId": "a9d2db25-fe8f-4b93-ed56-5320c47b85c4"
      },
      "execution_count": 19,
      "outputs": [
        {
          "output_type": "stream",
          "name": "stdout",
          "text": [
            "Priya\n",
            "Hi, I am Priya and I teach Python\n"
          ]
        }
      ]
    },
    {
      "cell_type": "markdown",
      "source": [
        "Remember every function has to return something if it does not return anything it shows None\n",
        "\n",
        "so it is better call function without print\n",
        "\n",
        "\n",
        "we can also pass parameter subject name along with self in display method\n",
        "\n",
        "if we take self.subject_name it shows attribute error because self refers to the student1 object it does not contain subject_name that is why we get error"
      ],
      "metadata": {
        "id": "321hxu9S0YRH"
      }
    },
    {
      "cell_type": "code",
      "source": [
        "class StudentInfo:\n",
        "  followers=0 #class object variable\n",
        "  def __init__(self,name,address):\n",
        "    self.name=name\n",
        "    self.address=address\n",
        "  def display(self,subject_name):\n",
        "    print(f\"Hi, I am {self.name} and I teach {self.subject_name}\")\n",
        "student_1=StudentInfo(\"Priya\",\"Polavaram\")\n",
        "print(student_1.name)\n",
        "student_1.display(\"Python\")"
      ],
      "metadata": {
        "colab": {
          "base_uri": "https://localhost:8080/",
          "height": 315
        },
        "id": "QEfyyCYP4rl5",
        "outputId": "4ac00908-746a-4a7c-f127-673cbb915bc8"
      },
      "execution_count": 20,
      "outputs": [
        {
          "output_type": "stream",
          "name": "stdout",
          "text": [
            "Priya\n"
          ]
        },
        {
          "output_type": "error",
          "ename": "AttributeError",
          "evalue": "'StudentInfo' object has no attribute 'subject_name'",
          "traceback": [
            "\u001b[0;31m---------------------------------------------------------------------------\u001b[0m",
            "\u001b[0;31mAttributeError\u001b[0m                            Traceback (most recent call last)",
            "\u001b[0;32m<ipython-input-20-6a21da6753e1>\u001b[0m in \u001b[0;36m<cell line: 10>\u001b[0;34m()\u001b[0m\n\u001b[1;32m      8\u001b[0m \u001b[0mstudent_1\u001b[0m\u001b[0;34m=\u001b[0m\u001b[0mStudentInfo\u001b[0m\u001b[0;34m(\u001b[0m\u001b[0;34m\"Priya\"\u001b[0m\u001b[0;34m,\u001b[0m\u001b[0;34m\"Polavaram\"\u001b[0m\u001b[0;34m)\u001b[0m\u001b[0;34m\u001b[0m\u001b[0;34m\u001b[0m\u001b[0m\n\u001b[1;32m      9\u001b[0m \u001b[0mprint\u001b[0m\u001b[0;34m(\u001b[0m\u001b[0mstudent_1\u001b[0m\u001b[0;34m.\u001b[0m\u001b[0mname\u001b[0m\u001b[0;34m)\u001b[0m\u001b[0;34m\u001b[0m\u001b[0;34m\u001b[0m\u001b[0m\n\u001b[0;32m---> 10\u001b[0;31m \u001b[0mstudent_1\u001b[0m\u001b[0;34m.\u001b[0m\u001b[0mdisplay\u001b[0m\u001b[0;34m(\u001b[0m\u001b[0;34m\"Python\"\u001b[0m\u001b[0;34m)\u001b[0m\u001b[0;34m\u001b[0m\u001b[0;34m\u001b[0m\u001b[0m\n\u001b[0m",
            "\u001b[0;32m<ipython-input-20-6a21da6753e1>\u001b[0m in \u001b[0;36mdisplay\u001b[0;34m(self, subject_name)\u001b[0m\n\u001b[1;32m      5\u001b[0m     \u001b[0mself\u001b[0m\u001b[0;34m.\u001b[0m\u001b[0maddress\u001b[0m\u001b[0;34m=\u001b[0m\u001b[0maddress\u001b[0m\u001b[0;34m\u001b[0m\u001b[0;34m\u001b[0m\u001b[0m\n\u001b[1;32m      6\u001b[0m   \u001b[0;32mdef\u001b[0m \u001b[0mdisplay\u001b[0m\u001b[0;34m(\u001b[0m\u001b[0mself\u001b[0m\u001b[0;34m,\u001b[0m\u001b[0msubject_name\u001b[0m\u001b[0;34m)\u001b[0m\u001b[0;34m:\u001b[0m\u001b[0;34m\u001b[0m\u001b[0;34m\u001b[0m\u001b[0m\n\u001b[0;32m----> 7\u001b[0;31m     \u001b[0mprint\u001b[0m\u001b[0;34m(\u001b[0m\u001b[0;34mf\"Hi, I am {self.name} and I teach {self.subject_name}\"\u001b[0m\u001b[0;34m)\u001b[0m\u001b[0;34m\u001b[0m\u001b[0;34m\u001b[0m\u001b[0m\n\u001b[0m\u001b[1;32m      8\u001b[0m \u001b[0mstudent_1\u001b[0m\u001b[0;34m=\u001b[0m\u001b[0mStudentInfo\u001b[0m\u001b[0;34m(\u001b[0m\u001b[0;34m\"Priya\"\u001b[0m\u001b[0;34m,\u001b[0m\u001b[0;34m\"Polavaram\"\u001b[0m\u001b[0;34m)\u001b[0m\u001b[0;34m\u001b[0m\u001b[0;34m\u001b[0m\u001b[0m\n\u001b[1;32m      9\u001b[0m \u001b[0mprint\u001b[0m\u001b[0;34m(\u001b[0m\u001b[0mstudent_1\u001b[0m\u001b[0;34m.\u001b[0m\u001b[0mname\u001b[0m\u001b[0;34m)\u001b[0m\u001b[0;34m\u001b[0m\u001b[0;34m\u001b[0m\u001b[0m\n",
            "\u001b[0;31mAttributeError\u001b[0m: 'StudentInfo' object has no attribute 'subject_name'"
          ]
        }
      ]
    },
    {
      "cell_type": "code",
      "source": [
        "class StudentInfo:\n",
        "  fee_due=0 #class object variable\n",
        "  def __init__(self,name,address):\n",
        "    self.name=name\n",
        "    self.address=address\n",
        "  def display(self,subject_name):\n",
        "    print(f\"Hi, I am {self.name} and I teach {subject_name}\")\n",
        "  def update_feedue(self,stuname):\n",
        "    self.fee_due+=1000\n",
        "student_1=StudentInfo(\"Priya\",\"Polavaram\")\n",
        "print(student_1.name)\n",
        "student_1.display(\"Python\")\n",
        "student_1.update_feedue(\"Priya\")\n",
        "print(student_1.fee_due)\n",
        "student_2=StudentInfo(\"Sindhu\",\"Polavaram\")\n",
        "student_2.display(\"Maths\")\n",
        "print(student_2.fee_due)\n"
      ],
      "metadata": {
        "colab": {
          "base_uri": "https://localhost:8080/"
        },
        "id": "GLwXQABn6ktS",
        "outputId": "eb324b18-770e-4355-82df-358085d18d17"
      },
      "execution_count": 22,
      "outputs": [
        {
          "output_type": "stream",
          "name": "stdout",
          "text": [
            "Priya\n",
            "Hi, I am Priya and I teach Python\n",
            "1000\n",
            "Hi, I am Sindhu and I teach Maths\n",
            "0\n"
          ]
        }
      ]
    }
  ]
}