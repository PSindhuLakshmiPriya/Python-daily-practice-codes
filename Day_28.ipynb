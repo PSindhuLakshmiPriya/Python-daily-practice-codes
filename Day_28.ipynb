{
  "nbformat": 4,
  "nbformat_minor": 0,
  "metadata": {
    "colab": {
      "provenance": [],
      "authorship_tag": "ABX9TyMcB/TASJONs1G5Y0TRmfBh",
      "include_colab_link": true
    },
    "kernelspec": {
      "name": "python3",
      "display_name": "Python 3"
    },
    "language_info": {
      "name": "python"
    }
  },
  "cells": [
    {
      "cell_type": "markdown",
      "metadata": {
        "id": "view-in-github",
        "colab_type": "text"
      },
      "source": [
        "<a href=\"https://colab.research.google.com/github/PSindhuLakshmiPriya/Python-daily-practice-codes/blob/main/Day_28.ipynb\" target=\"_parent\"><img src=\"https://colab.research.google.com/assets/colab-badge.svg\" alt=\"Open In Colab\"/></a>"
      ]
    },
    {
      "cell_type": "markdown",
      "source": [
        "Merge two sorted arrays"
      ],
      "metadata": {
        "id": "OBsP_4tU1vDi"
      }
    },
    {
      "cell_type": "code",
      "source": [
        "arr=[3,5,6,9,1]\n",
        "arr1=[6,4,5,2,0,8]\n",
        "newarr=[]\n",
        "for i in arr:\n",
        "    newarr.append(i)\n",
        "for j in arr1:\n",
        "    newarr.append(j)\n",
        "result=sorted(set(newarr))\n",
        "print(result)"
      ],
      "metadata": {
        "colab": {
          "base_uri": "https://localhost:8080/"
        },
        "id": "Gcy_RwGc1wAa",
        "outputId": "7a02368a-c313-401e-814e-69e6edf3dffd"
      },
      "execution_count": null,
      "outputs": [
        {
          "output_type": "stream",
          "name": "stdout",
          "text": [
            "[0, 1, 2, 3, 4, 5, 6, 8, 9]\n"
          ]
        }
      ]
    },
    {
      "cell_type": "code",
      "source": [
        "arr = [3, 5, 6, 9, 1]\n",
        "arr1 = [6, 4, 5, 2, 0, 8]\n",
        "\n",
        "# Merge, remove duplicates, and sort\n",
        "result = sorted(set(arr + arr1))\n",
        "print(result)\n"
      ],
      "metadata": {
        "colab": {
          "base_uri": "https://localhost:8080/"
        },
        "id": "8Bx84Jiz2PTX",
        "outputId": "c87b2ba1-bd58-4e20-99e3-cadbfefc252c"
      },
      "execution_count": null,
      "outputs": [
        {
          "output_type": "stream",
          "name": "stdout",
          "text": [
            "[0, 1, 2, 3, 4, 5, 6, 8, 9]\n"
          ]
        }
      ]
    },
    {
      "cell_type": "markdown",
      "source": [
        "Find the missing number in an array"
      ],
      "metadata": {
        "id": "MgNdJfOp3Lej"
      }
    },
    {
      "cell_type": "code",
      "source": [
        "arr=[1,2,3,5,6,7,8]\n",
        "arrsum=sum(arr)\n",
        "totalsum=arr[-1]*(arr[-1]+1)//2\n",
        "result=totalsum-arrsum\n",
        "print(result)"
      ],
      "metadata": {
        "colab": {
          "base_uri": "https://localhost:8080/"
        },
        "id": "KYWw2ElD3PxB",
        "outputId": "fa66ab97-ce89-4a86-ddd7-62a90b588a11"
      },
      "execution_count": null,
      "outputs": [
        {
          "output_type": "stream",
          "name": "stdout",
          "text": [
            "4\n"
          ]
        }
      ]
    },
    {
      "cell_type": "markdown",
      "source": [
        "Find the intersection of two arrays"
      ],
      "metadata": {
        "id": "VYnUMVH35rz4"
      }
    },
    {
      "cell_type": "code",
      "source": [
        "arr1=[1,2,3,4,5]\n",
        "arr2=[3,4,5,8,9]\n",
        "set1=set(arr1)\n",
        "set2=set(arr2)\n",
        "result=set1.intersection(set2)\n",
        "print(list(result))"
      ],
      "metadata": {
        "colab": {
          "base_uri": "https://localhost:8080/"
        },
        "id": "StL3yZFF5w51",
        "outputId": "7a334a66-dc79-4c22-b7e6-f3f94c4311b4"
      },
      "execution_count": null,
      "outputs": [
        {
          "output_type": "stream",
          "name": "stdout",
          "text": [
            "[3, 4, 5]\n"
          ]
        }
      ]
    },
    {
      "cell_type": "markdown",
      "source": [
        "Count of occurences of each element in an array"
      ],
      "metadata": {
        "id": "ECboGJ8d8k_v"
      }
    },
    {
      "cell_type": "code",
      "source": [
        "from collections import Counter\n",
        "arr=[1,2,1,3,2,5,7,7,6,9,8,8,7]\n",
        "print(Counter(arr))"
      ],
      "metadata": {
        "colab": {
          "base_uri": "https://localhost:8080/"
        },
        "id": "XbzGjfeU8rcQ",
        "outputId": "74d3a770-8f8e-443e-e201-4b2b9a7b852f"
      },
      "execution_count": null,
      "outputs": [
        {
          "output_type": "stream",
          "name": "stdout",
          "text": [
            "Counter({7: 3, 1: 2, 2: 2, 8: 2, 3: 1, 5: 1, 6: 1, 9: 1})\n"
          ]
        }
      ]
    },
    {
      "cell_type": "code",
      "source": [
        "arr=[1,2,1,3,2,5,7,7,6,9,8,8,7]\n",
        "dict={}\n",
        "for i in arr:\n",
        "    if i in dict:\n",
        "        dict[i]+=1\n",
        "    else:\n",
        "        dict[i]=1\n",
        "print(dict)\n"
      ],
      "metadata": {
        "id": "u-pjKrSD9meZ",
        "outputId": "65b00377-17b8-4116-d4a5-e09f036f7343",
        "colab": {
          "base_uri": "https://localhost:8080/"
        }
      },
      "execution_count": null,
      "outputs": [
        {
          "output_type": "stream",
          "name": "stdout",
          "text": [
            "{1: 2, 2: 2, 3: 1, 5: 1, 7: 3, 6: 1, 9: 1, 8: 2}\n"
          ]
        }
      ]
    },
    {
      "cell_type": "markdown",
      "source": [
        "Two sum problem"
      ],
      "metadata": {
        "id": "T5LXdveyxJPP"
      }
    },
    {
      "cell_type": "code",
      "source": [
        "arr=[2,7,4,3,1]\n",
        "target=9\n",
        "dict={}\n",
        "for i,num in enumerate(arr):\n",
        "  diff=target-num\n",
        "  if diff in dict:\n",
        "    print([dict[diff],i])\n",
        "  dict[num]=i"
      ],
      "metadata": {
        "colab": {
          "base_uri": "https://localhost:8080/"
        },
        "id": "chrVYEDBxLsP",
        "outputId": "7f2da852-bd54-4449-fe0b-0db8c80e72d5"
      },
      "execution_count": 2,
      "outputs": [
        {
          "output_type": "stream",
          "name": "stdout",
          "text": [
            "[0, 1]\n"
          ]
        }
      ]
    },
    {
      "cell_type": "markdown",
      "source": [
        "FizzBuzzProblem"
      ],
      "metadata": {
        "id": "BZgf9NYj1oL_"
      }
    },
    {
      "cell_type": "code",
      "source": [
        "num=int(input())\n",
        "result=[]\n",
        "for i in range(1,num+1):\n",
        "    if i%3==0:\n",
        "        result.append(\"Fizz\")\n",
        "    elif i%5==0:\n",
        "        result.append(\"Buzz\")\n",
        "    else:\n",
        "        result.append(i)\n",
        "print(result)"
      ],
      "metadata": {
        "colab": {
          "base_uri": "https://localhost:8080/"
        },
        "id": "wqzXOIyE1q4z",
        "outputId": "10da0ec1-5f97-4842-cdab-1237dd741d94"
      },
      "execution_count": 3,
      "outputs": [
        {
          "output_type": "stream",
          "name": "stdout",
          "text": [
            "20\n",
            "[1, 2, 'Fizz', 4, 'Buzz', 'Fizz', 7, 8, 'Fizz', 'Buzz', 11, 'Fizz', 13, 14, 'Fizz', 16, 17, 'Fizz', 19, 'Buzz']\n"
          ]
        }
      ]
    }
  ]
}