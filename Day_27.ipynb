{
  "nbformat": 4,
  "nbformat_minor": 0,
  "metadata": {
    "colab": {
      "provenance": [],
      "authorship_tag": "ABX9TyM34QzULTU+FQBzxQSVvC4Q",
      "include_colab_link": true
    },
    "kernelspec": {
      "name": "python3",
      "display_name": "Python 3"
    },
    "language_info": {
      "name": "python"
    }
  },
  "cells": [
    {
      "cell_type": "markdown",
      "metadata": {
        "id": "view-in-github",
        "colab_type": "text"
      },
      "source": [
        "<a href=\"https://colab.research.google.com/github/PSindhuLakshmiPriya/Python-daily-practice-codes/blob/main/Day_27.ipynb\" target=\"_parent\"><img src=\"https://colab.research.google.com/assets/colab-badge.svg\" alt=\"Open In Colab\"/></a>"
      ]
    },
    {
      "cell_type": "markdown",
      "source": [
        "**RAILWAY RESERVATION SYSTEM**\n",
        "\n",
        "\n",
        "I am going to write a code on railway reservation system in python"
      ],
      "metadata": {
        "id": "3Z8eYhqv8x7I"
      }
    },
    {
      "cell_type": "code",
      "source": [
        "class Train:\n",
        "    def __init__(self, train_number, train_name, total_seats):\n",
        "        self.train_number = train_number\n",
        "        self.train_name = train_name\n",
        "        self.total_seats = total_seats\n",
        "        self.booked_seats = 0\n",
        "        self.passenger_details = []\n",
        "\n",
        "    # Method to book a seat\n",
        "    def book_ticket(self, passenger_name, passenger_age):\n",
        "        if self.booked_seats < self.total_seats:\n",
        "            seat_number = self.booked_seats + 1\n",
        "            self.passenger_details.append({\n",
        "                'name': passenger_name,\n",
        "                'age': passenger_age,\n",
        "                'seat_number': seat_number\n",
        "            })\n",
        "            self.booked_seats += 1\n",
        "            print(f\"Booking Successful! Seat Number: {seat_number} is booked for {passenger_name}.\")\n",
        "        else:\n",
        "            print(\"Sorry, no seats available!\")\n",
        "\n",
        "    # Method to cancel a seat\n",
        "    def cancel_ticket(self, passenger_name):\n",
        "        for passenger in self.passenger_details:\n",
        "            if passenger['name'] == passenger_name:\n",
        "                self.passenger_details.remove(passenger)\n",
        "                self.booked_seats -= 1\n",
        "                print(f\"Booking canceled for {passenger_name}.\")\n",
        "                return\n",
        "        print(f\"No booking found for {passenger_name}.\")\n",
        "\n",
        "    # Method to display booking details\n",
        "    def display_reservation_details(self):\n",
        "        if self.passenger_details:\n",
        "            print(f\"\\nReservation details for train {self.train_name} (Train No: {self.train_number}):\")\n",
        "            for passenger in self.passenger_details:\n",
        "                print(f\"Passenger Name: {passenger['name']}, Age: {passenger['age']}, Seat Number: {passenger['seat_number']}\")\n",
        "        else:\n",
        "            print(\"No reservations have been made yet.\")\n",
        "\n",
        "# Sample usage of the railway reservation system\n",
        "if __name__ == \"__main__\":\n",
        "    train = Train(12345, \"Express Train\", 5)  # Creating a train with 5 available seats\n",
        "\n",
        "    while True:\n",
        "        print(\"\\nWelcome to Railway Reservation System\")\n",
        "        print(\"1. Book Ticket\")\n",
        "        print(\"2. Cancel Ticket\")\n",
        "        print(\"3. Display Reservation Details\")\n",
        "        print(\"4. Exit\")\n",
        "\n",
        "        choice = int(input(\"Enter your choice: \"))\n",
        "\n",
        "        if choice == 1:\n",
        "            name = input(\"Enter passenger's name: \")\n",
        "            age = int(input(\"Enter passenger's age: \"))\n",
        "            train.book_ticket(name, age)\n",
        "\n",
        "        elif choice == 2:\n",
        "            name = input(\"Enter passenger's name to cancel: \")\n",
        "            train.cancel_ticket(name)\n",
        "\n",
        "        elif choice == 3:\n",
        "            train.display_reservation_details()\n",
        "\n",
        "        elif choice == 4:\n",
        "            print(\"Thank you for using the Railway Reservation System!\")\n",
        "            break\n",
        "\n",
        "        else:\n",
        "            print(\"Invalid choice! Please try again.\")\n"
      ],
      "metadata": {
        "colab": {
          "base_uri": "https://localhost:8080/"
        },
        "id": "2lwi0tVK87SL",
        "outputId": "57cd7b2f-a570-4f2e-81f4-3b2ce7f97f17"
      },
      "execution_count": 1,
      "outputs": [
        {
          "output_type": "stream",
          "name": "stdout",
          "text": [
            "\n",
            "Welcome to Railway Reservation System\n",
            "1. Book Ticket\n",
            "2. Cancel Ticket\n",
            "3. Display Reservation Details\n",
            "4. Exit\n",
            "Enter your choice: 1\n",
            "Enter passenger's name: Sindhu\n",
            "Enter passenger's age: 20\n",
            "Booking Successful! Seat Number: 1 is booked for Sindhu.\n",
            "\n",
            "Welcome to Railway Reservation System\n",
            "1. Book Ticket\n",
            "2. Cancel Ticket\n",
            "3. Display Reservation Details\n",
            "4. Exit\n",
            "Enter your choice: 3\n",
            "\n",
            "Reservation details for train Express Train (Train No: 12345):\n",
            "Passenger Name: Sindhu, Age: 20, Seat Number: 1\n",
            "\n",
            "Welcome to Railway Reservation System\n",
            "1. Book Ticket\n",
            "2. Cancel Ticket\n",
            "3. Display Reservation Details\n",
            "4. Exit\n",
            "Enter your choice: 3\n",
            "\n",
            "Reservation details for train Express Train (Train No: 12345):\n",
            "Passenger Name: Sindhu, Age: 20, Seat Number: 1\n",
            "\n",
            "Welcome to Railway Reservation System\n",
            "1. Book Ticket\n",
            "2. Cancel Ticket\n",
            "3. Display Reservation Details\n",
            "4. Exit\n",
            "Enter your choice: 4\n",
            "Thank you for using the Railway Reservation System!\n"
          ]
        }
      ]
    }
  ]
}