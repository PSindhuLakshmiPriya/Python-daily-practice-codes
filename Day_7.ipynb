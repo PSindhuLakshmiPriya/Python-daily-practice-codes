{
  "nbformat": 4,
  "nbformat_minor": 0,
  "metadata": {
    "colab": {
      "provenance": [],
      "authorship_tag": "ABX9TyOjMQ9AMQ2Ax6Wj1Q+4VQLT",
      "include_colab_link": true
    },
    "kernelspec": {
      "name": "python3",
      "display_name": "Python 3"
    },
    "language_info": {
      "name": "python"
    }
  },
  "cells": [
    {
      "cell_type": "markdown",
      "metadata": {
        "id": "view-in-github",
        "colab_type": "text"
      },
      "source": [
        "<a href=\"https://colab.research.google.com/github/PSindhuLakshmiPriya/Python-daily-practice-codes/blob/main/Day_7.ipynb\" target=\"_parent\"><img src=\"https://colab.research.google.com/assets/colab-badge.svg\" alt=\"Open In Colab\"/></a>"
      ]
    },
    {
      "cell_type": "markdown",
      "source": [
        "Replace Character"
      ],
      "metadata": {
        "id": "44b0yWhsiSDq"
      }
    },
    {
      "cell_type": "code",
      "source": [
        "def replaceCharacter(str,ch1,ch2):\n",
        "   temp=\" \"\n",
        "   str=str.replace(ch1,temp)\n",
        "   str=str.replace(ch2,ch1)\n",
        "   str=str.replace(temp,ch2)\n",
        "   return str\n",
        "str=input()\n",
        "ch1=input()\n",
        "ch2=input()\n",
        "output=replaceCharacter(str,ch1,ch2)\n",
        "print(output)"
      ],
      "metadata": {
        "colab": {
          "base_uri": "https://localhost:8080/"
        },
        "id": "YC_2CoY0iVae",
        "outputId": "2f8da426-c7a1-4902-965b-1cc2329fd2e6"
      },
      "execution_count": 12,
      "outputs": [
        {
          "output_type": "stream",
          "name": "stdout",
          "text": [
            "tervpro\n",
            "e\n",
            "p\n",
            "tprvero\n"
          ]
        }
      ]
    },
    {
      "cell_type": "markdown",
      "source": [
        "Reverse a string\n",
        "\n",
        "\n",
        "\n",
        "Words should come in reverse in a string,not letters"
      ],
      "metadata": {
        "id": "5-6i_D47p6w8"
      }
    },
    {
      "cell_type": "code",
      "source": [
        "str=input()\n",
        "words=str.split()\n",
        "rev_words=words[::-1]\n",
        "output=\" \".join(rev_words)\n",
        "print(output)"
      ],
      "metadata": {
        "colab": {
          "base_uri": "https://localhost:8080/"
        },
        "id": "5ppm5r49qKCw",
        "outputId": "d3f5ed5f-2499-470e-b93a-7372ee608d22"
      },
      "execution_count": 13,
      "outputs": [
        {
          "output_type": "stream",
          "name": "stdout",
          "text": [
            "My name is priya\n",
            "priya is name My\n"
          ]
        }
      ]
    },
    {
      "cell_type": "markdown",
      "source": [
        "Rats Problem\n",
        "\n",
        "\n",
        "\n",
        "\n",
        "The function accepts two positive integers ‘r’ and ‘unit’ and a positive\n",
        "integer array ‘arr’ of size ‘n’ as its argument ‘r’ represents the number\n",
        "of rats present in an area, ‘unit’ is the amount of food each rat\n",
        "consumes and each ith element of array ‘arr’ represents the amount of\n",
        "food present in ‘i+1’ house number, where 0 <= i.\n",
        "Note:\n",
        "1. Return -1 if the array is null\n",
        "2. Return 0 if the total amount of food from all houses is not sufficient\n",
        "for all the rats.\n",
        "3. Computed values lie within the integer range.\n",
        "\n",
        "\n",
        "Example:\n",
        "\n",
        "\n",
        "Input:\n",
        "r: 7\n",
        "unit: 2\n",
        "n: 8\n",
        "arr: 2 8 3 5 7 4 1 2\n",
        "\n",
        "\n",
        "Output:\n",
        "4\n"
      ],
      "metadata": {
        "id": "VdAoh05dqZca"
      }
    },
    {
      "cell_type": "code",
      "source": [
        "def ratsFood(r,unit,n,arr):\n",
        "  if n==0:\n",
        "    return -1\n",
        "  else:\n",
        "    total_food=r*unit\n",
        "    total_food_available=0\n",
        "    house_count=0\n",
        "    for food in arr:\n",
        "      total_food_available+=food\n",
        "      house_count+=1\n",
        "      if total_food_available>=total_food:\n",
        "        return house_count\n",
        "r=int(input())\n",
        "unit=int(input())\n",
        "n=int(input())\n",
        "arr=list(map(int,input().split()))\n",
        "print(ratsFood(r,unit,n,arr))"
      ],
      "metadata": {
        "colab": {
          "base_uri": "https://localhost:8080/"
        },
        "id": "CVaAFLkzqq3T",
        "outputId": "3d05579c-b3a1-40f2-8919-9f37c52d9c84"
      },
      "execution_count": 14,
      "outputs": [
        {
          "output_type": "stream",
          "name": "stdout",
          "text": [
            "7\n",
            "2\n",
            "8\n",
            "2 8 3 5 7 4 1 2\n",
            "4\n"
          ]
        }
      ]
    },
    {
      "cell_type": "markdown",
      "source": [
        "Function to find and return\n",
        "the number of elements of ‘arr’ having an absolute difference of less\n",
        "than or equal to ‘diff’ with ‘num’"
      ],
      "metadata": {
        "id": "FUBdwzMBsls4"
      }
    },
    {
      "cell_type": "code",
      "source": [
        "def findCount(arr,num,diff):\n",
        "  count=0\n",
        "  for i in arr:\n",
        "    if abs(i-num)<=diff:\n",
        "      count+=1\n",
        "  return count\n",
        "print(findCount([1,2,3,4,5],3,2))"
      ],
      "metadata": {
        "colab": {
          "base_uri": "https://localhost:8080/"
        },
        "id": "V48Wom7gss6p",
        "outputId": "230f6d9f-adae-40a6-f0ea-46c809ce2eb8"
      },
      "execution_count": 16,
      "outputs": [
        {
          "output_type": "stream",
          "name": "stdout",
          "text": [
            "5\n"
          ]
        }
      ]
    }
  ]
}