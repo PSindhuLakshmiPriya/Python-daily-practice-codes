{
  "nbformat": 4,
  "nbformat_minor": 0,
  "metadata": {
    "colab": {
      "provenance": [],
      "authorship_tag": "ABX9TyP7aYm+63yfpyCFM2bRNPKx",
      "include_colab_link": true
    },
    "kernelspec": {
      "name": "python3",
      "display_name": "Python 3"
    },
    "language_info": {
      "name": "python"
    }
  },
  "cells": [
    {
      "cell_type": "markdown",
      "metadata": {
        "id": "view-in-github",
        "colab_type": "text"
      },
      "source": [
        "<a href=\"https://colab.research.google.com/github/PSindhuLakshmiPriya/Python-daily-practice-codes/blob/main/Day_15.ipynb\" target=\"_parent\"><img src=\"https://colab.research.google.com/assets/colab-badge.svg\" alt=\"Open In Colab\"/></a>"
      ]
    },
    {
      "cell_type": "markdown",
      "source": [
        "Moving zero to the end of the list"
      ],
      "metadata": {
        "id": "tQarq6kbi54E"
      }
    },
    {
      "cell_type": "code",
      "source": [
        "list=[1,3,0,4,5,6]\n",
        "for item in list:\n",
        "  if item==0:\n",
        "    list.remove(item)\n",
        "    list.append(item)\n",
        "print(list)"
      ],
      "metadata": {
        "colab": {
          "base_uri": "https://localhost:8080/"
        },
        "id": "EgjORikcjGFv",
        "outputId": "7450a74f-4cda-4b78-cbb2-d1051ada653e"
      },
      "execution_count": null,
      "outputs": [
        {
          "output_type": "stream",
          "name": "stdout",
          "text": [
            "[1, 3, 4, 5, 6, 0]\n"
          ]
        }
      ]
    },
    {
      "cell_type": "markdown",
      "source": [
        "To print multiplication table"
      ],
      "metadata": {
        "id": "uzI7-i0JjS2J"
      }
    },
    {
      "cell_type": "code",
      "source": [
        "n=int(input())\n",
        "for i in range(1,11):\n",
        "  print(str(n),\"*\",str(i),\"=\",str(n*i))"
      ],
      "metadata": {
        "colab": {
          "base_uri": "https://localhost:8080/"
        },
        "id": "4XfIBJrnkGHp",
        "outputId": "db745485-7ff8-4b04-d06f-333b513e73df"
      },
      "execution_count": null,
      "outputs": [
        {
          "output_type": "stream",
          "name": "stdout",
          "text": [
            "10\n",
            "10 * 1 = 10\n",
            "10 * 2 = 20\n",
            "10 * 3 = 30\n",
            "10 * 4 = 40\n",
            "10 * 5 = 50\n",
            "10 * 6 = 60\n",
            "10 * 7 = 70\n",
            "10 * 8 = 80\n",
            "10 * 9 = 90\n",
            "10 * 10 = 100\n"
          ]
        }
      ]
    },
    {
      "cell_type": "markdown",
      "source": [
        "To print calendar"
      ],
      "metadata": {
        "id": "N_1R17A5kjzR"
      }
    },
    {
      "cell_type": "code",
      "source": [
        "import calendar\n",
        "year=int(input())\n",
        "month=int(input())\n",
        "mycal=calendar.month(year,month)\n",
        "print(mycal)"
      ],
      "metadata": {
        "colab": {
          "base_uri": "https://localhost:8080/"
        },
        "id": "Fj2vmjaclLDV",
        "outputId": "0c1bb50f-cb3e-4ba6-91e9-83771da7d458"
      },
      "execution_count": null,
      "outputs": [
        {
          "output_type": "stream",
          "name": "stdout",
          "text": [
            "2024\n",
            "2\n",
            "   February 2024\n",
            "Mo Tu We Th Fr Sa Su\n",
            "          1  2  3  4\n",
            " 5  6  7  8  9 10 11\n",
            "12 13 14 15 16 17 18\n",
            "19 20 21 22 23 24 25\n",
            "26 27 28 29\n",
            "\n"
          ]
        }
      ]
    },
    {
      "cell_type": "markdown",
      "source": [
        "To check leap year or not"
      ],
      "metadata": {
        "id": "G_ULldm3lkkG"
      }
    },
    {
      "cell_type": "code",
      "source": [
        "import calendar\n",
        "year=int(input())\n",
        "result=calendar.isleap(year)\n",
        "if result==True:\n",
        "  print(\"Leap year\")\n",
        "else:\n",
        "  print(\"Not a leap year\")"
      ],
      "metadata": {
        "colab": {
          "base_uri": "https://localhost:8080/"
        },
        "id": "q8pjZiecl7m0",
        "outputId": "01130c08-59ca-4aea-e66c-0b8bb6533c4b"
      },
      "execution_count": null,
      "outputs": [
        {
          "output_type": "stream",
          "name": "stdout",
          "text": [
            "2024\n",
            "Leap year\n"
          ]
        }
      ]
    },
    {
      "cell_type": "markdown",
      "source": [
        "To convert celsius to fahrenheit"
      ],
      "metadata": {
        "id": "YLfWDkOtm8L3"
      }
    },
    {
      "cell_type": "code",
      "source": [
        "celsius=float(input())\n",
        "fahrenheit=(celsius*1.8)+32\n",
        "print(fahrenheit)"
      ],
      "metadata": {
        "colab": {
          "base_uri": "https://localhost:8080/"
        },
        "id": "tW3JOuI-m7Iu",
        "outputId": "8504941b-0050-469f-a25f-53863dbc22ad"
      },
      "execution_count": null,
      "outputs": [
        {
          "output_type": "stream",
          "name": "stdout",
          "text": [
            "32\n",
            "89.6\n"
          ]
        }
      ]
    },
    {
      "cell_type": "markdown",
      "source": [
        "To convert kilometer into mile"
      ],
      "metadata": {
        "id": "NNLcj-N6oLuO"
      }
    },
    {
      "cell_type": "code",
      "source": [
        "km=float(input())\n",
        "mile=km*0.621371\n",
        "print(\"%.2f miles\" %mile)"
      ],
      "metadata": {
        "colab": {
          "base_uri": "https://localhost:8080/"
        },
        "id": "74ddaKGwoYO2",
        "outputId": "19bb01a6-d36d-4f90-ceb3-367c444ac92a"
      },
      "execution_count": null,
      "outputs": [
        {
          "output_type": "stream",
          "name": "stdout",
          "text": [
            "4\n",
            "2.49 miles\n"
          ]
        }
      ]
    },
    {
      "cell_type": "markdown",
      "source": [
        "guess the number"
      ],
      "metadata": {
        "id": "bbUeFS1jpgGI"
      }
    },
    {
      "cell_type": "code",
      "source": [
        "mynum=6\n",
        "while True:\n",
        "  usernum=int(input())\n",
        "  if mynum==usernum:\n",
        "    print(\"You won\")\n",
        "    break\n",
        "  else:\n",
        "    print(\"Try again\")"
      ],
      "metadata": {
        "colab": {
          "base_uri": "https://localhost:8080/"
        },
        "id": "Rc5tbeTRpntw",
        "outputId": "a5f00cd5-7102-4002-b151-d7f765187ecb"
      },
      "execution_count": null,
      "outputs": [
        {
          "output_type": "stream",
          "name": "stdout",
          "text": [
            "4\n",
            "Try again\n",
            "5\n",
            "Try again\n",
            "6\n",
            "You won\n"
          ]
        }
      ]
    },
    {
      "cell_type": "markdown",
      "source": [
        "To check eligibility for voting"
      ],
      "metadata": {
        "id": "gFsVncE9qZun"
      }
    },
    {
      "cell_type": "code",
      "source": [
        "age=int(input())\n",
        "if age>=18:\n",
        "  print(\"Eligible\")\n",
        "else:\n",
        "  print(\"Not Eligible\")"
      ],
      "metadata": {
        "colab": {
          "base_uri": "https://localhost:8080/"
        },
        "id": "kZQghriIqdxQ",
        "outputId": "ca0486c6-b524-4d0b-8960-d97530d0b09d"
      },
      "execution_count": null,
      "outputs": [
        {
          "output_type": "stream",
          "name": "stdout",
          "text": [
            "65\n",
            "Eligible\n"
          ]
        }
      ]
    },
    {
      "cell_type": "markdown",
      "source": [
        "To check eligibility for marriage"
      ],
      "metadata": {
        "id": "l3ooV5udq34Z"
      }
    },
    {
      "cell_type": "code",
      "source": [
        "gender=input()\n",
        "age=int(input())\n",
        "if gender==\"female\" or \"FEMALE\":\n",
        "  if age>=18:\n",
        "    print(\"Eligible for marriage\")\n",
        "  else:\n",
        "    print(\"Not eligible for marriage\")\n",
        "elif gender==\"male\" or \"MALE\":\n",
        "  if age>=21:\n",
        "    print(\"Eligible for marriage\")\n",
        "  else:\n",
        "    print(\"Not eligible for marriage\")\n",
        "else:\n",
        "  print(\"I don't know the limit\")\n",
        "\n"
      ],
      "metadata": {
        "colab": {
          "base_uri": "https://localhost:8080/"
        },
        "id": "YsYv-oO1q7gq",
        "outputId": "36112495-f7db-45ce-825e-4b1a7ee78c82"
      },
      "execution_count": null,
      "outputs": [
        {
          "output_type": "stream",
          "name": "stdout",
          "text": [
            "female\n",
            "35\n",
            "Eligible for marriage\n"
          ]
        }
      ]
    },
    {
      "cell_type": "markdown",
      "source": [
        "Pyramid pattern"
      ],
      "metadata": {
        "id": "KlAqWveGvjOl"
      }
    },
    {
      "cell_type": "code",
      "source": [
        "n=5\n",
        "for i in range(1,n):\n",
        "  num=1\n",
        "  for j in range(1,i+1):\n",
        "    print(num,end=\" \")\n",
        "    num+=1\n",
        "  print()"
      ],
      "metadata": {
        "colab": {
          "base_uri": "https://localhost:8080/"
        },
        "id": "NLZ1AJIIvlAJ",
        "outputId": "dd6ea6b1-b001-4625-9ec0-71c9ba037162"
      },
      "execution_count": 6,
      "outputs": [
        {
          "output_type": "stream",
          "name": "stdout",
          "text": [
            "1 \n",
            "1 2 \n",
            "1 2 3 \n",
            "1 2 3 4 \n"
          ]
        }
      ]
    },
    {
      "cell_type": "markdown",
      "source": [
        "Prime number"
      ],
      "metadata": {
        "id": "3_mcTAsyxJe0"
      }
    },
    {
      "cell_type": "code",
      "source": [
        "n=int(input())\n",
        "for i in range(2,n//2):\n",
        "  if n%i==0:\n",
        "    print(\"Not prime\")\n",
        "    break\n",
        "else:\n",
        "  print(\"Prime\")"
      ],
      "metadata": {
        "colab": {
          "base_uri": "https://localhost:8080/"
        },
        "id": "2bJICOOexLQQ",
        "outputId": "7bb8208a-c59c-49b1-8494-823a0a4776ff"
      },
      "execution_count": 7,
      "outputs": [
        {
          "output_type": "stream",
          "name": "stdout",
          "text": [
            "5\n",
            "Prime\n"
          ]
        }
      ]
    },
    {
      "cell_type": "markdown",
      "source": [
        "To check in a range"
      ],
      "metadata": {
        "id": "i8wcpV_MxxdB"
      }
    },
    {
      "cell_type": "code",
      "source": [
        "def checkPrime(num):\n",
        "  if num<=1:\n",
        "    return False\n",
        "  for i in range(2,num//2):\n",
        "    if num%i==0:\n",
        "      return False\n",
        "  return True\n",
        "a=int(input())\n",
        "b=int(input())\n",
        "for i in range(a,b+1):\n",
        "  if checkPrime(i):\n",
        "    print(i,end=\" \")"
      ],
      "metadata": {
        "colab": {
          "base_uri": "https://localhost:8080/"
        },
        "id": "QkN4woxJxz7j",
        "outputId": "2f134eea-c58e-4a80-b5c8-102928cffc4d"
      },
      "execution_count": 8,
      "outputs": [
        {
          "output_type": "stream",
          "name": "stdout",
          "text": [
            "3\n",
            "20\n",
            "3 4 5 7 11 13 17 19 "
          ]
        }
      ]
    },
    {
      "cell_type": "markdown",
      "source": [
        "Palindrome"
      ],
      "metadata": {
        "id": "S4Vmjh3w0yAy"
      }
    },
    {
      "cell_type": "code",
      "source": [
        "str=input()\n",
        "if str==str[::-1]:\n",
        "  print(\"Palindrome\")\n",
        "else:\n",
        "  print(\"Not a palindrome\")"
      ],
      "metadata": {
        "colab": {
          "base_uri": "https://localhost:8080/"
        },
        "id": "MeYyor1K0zcF",
        "outputId": "5dd8a345-7e92-4d92-9977-233ad6944bb4"
      },
      "execution_count": 10,
      "outputs": [
        {
          "output_type": "stream",
          "name": "stdout",
          "text": [
            "noon\n",
            "Palindrome\n"
          ]
        }
      ]
    },
    {
      "cell_type": "code",
      "source": [
        "num=int(input())\n",
        "temp=num\n",
        "rev=0\n",
        "while num>0:\n",
        "  dig=num%10\n",
        "  rev=rev*10+dig\n",
        "  num=num//10\n",
        "if temp==rev:\n",
        "  print(\"Palindrome\")\n",
        "else:\n",
        "  print(\"Not a palindrome\")"
      ],
      "metadata": {
        "colab": {
          "base_uri": "https://localhost:8080/"
        },
        "id": "TuXdReLr1Fty",
        "outputId": "e47fe328-8bf1-4ed5-afaa-63bdc8a8b297"
      },
      "execution_count": 13,
      "outputs": [
        {
          "output_type": "stream",
          "name": "stdout",
          "text": [
            "1221\n",
            "Palindrome\n"
          ]
        }
      ]
    }
  ]
}