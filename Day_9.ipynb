{
  "nbformat": 4,
  "nbformat_minor": 0,
  "metadata": {
    "colab": {
      "provenance": [],
      "authorship_tag": "ABX9TyM9XovuxBKSyFZ73TZcucqO",
      "include_colab_link": true
    },
    "kernelspec": {
      "name": "python3",
      "display_name": "Python 3"
    },
    "language_info": {
      "name": "python"
    }
  },
  "cells": [
    {
      "cell_type": "markdown",
      "metadata": {
        "id": "view-in-github",
        "colab_type": "text"
      },
      "source": [
        "<a href=\"https://colab.research.google.com/github/PSindhuLakshmiPriya/Python-daily-practice-codes/blob/main/Day_9.ipynb\" target=\"_parent\"><img src=\"https://colab.research.google.com/assets/colab-badge.svg\" alt=\"Open In Colab\"/></a>"
      ]
    },
    {
      "cell_type": "markdown",
      "source": [
        "Binary to decimal conversion"
      ],
      "metadata": {
        "id": "BBw3StSu0bdI"
      }
    },
    {
      "cell_type": "code",
      "source": [
        "num=int(input())\n",
        "power=0\n",
        "sum=0\n",
        "while num>0:\n",
        "  r=num%10\n",
        "  k=r*(2**power)\n",
        "  sum=sum+k\n",
        "  num=num//10\n",
        "  power+=1\n",
        "print(sum)"
      ],
      "metadata": {
        "colab": {
          "base_uri": "https://localhost:8080/"
        },
        "id": "xO5t7HSb2JdJ",
        "outputId": "aefcd6d8-5968-4f9d-de32-8df47f4e8027"
      },
      "execution_count": null,
      "outputs": [
        {
          "output_type": "stream",
          "name": "stdout",
          "text": [
            "110\n",
            "6\n"
          ]
        }
      ]
    },
    {
      "cell_type": "markdown",
      "source": [
        "Decimal to binary conversion"
      ],
      "metadata": {
        "id": "PQ_OyEtNNM4b"
      }
    },
    {
      "cell_type": "code",
      "source": [
        "dec=int(input())\n",
        "print(bin(dec)[2:])"
      ],
      "metadata": {
        "colab": {
          "base_uri": "https://localhost:8080/"
        },
        "id": "mEnYK4g0NR30",
        "outputId": "03a30c5f-c7bc-4bf8-86c6-f6f7fa070ef9"
      },
      "execution_count": 1,
      "outputs": [
        {
          "output_type": "stream",
          "name": "stdout",
          "text": [
            "6\n",
            "110\n"
          ]
        }
      ]
    },
    {
      "cell_type": "markdown",
      "source": [
        "Octal to decimal conversion"
      ],
      "metadata": {
        "id": "Rb52XgFsRmmE"
      }
    },
    {
      "cell_type": "code",
      "source": [
        "num=int(input())\n",
        "power=0\n",
        "sum=0\n",
        "while num>0:\n",
        "  r=num%10\n",
        "  k=r*(8**power)\n",
        "  sum=sum+k\n",
        "  num=num//10\n",
        "  power+=1\n",
        "print(sum)"
      ],
      "metadata": {
        "colab": {
          "base_uri": "https://localhost:8080/"
        },
        "id": "yNnLDCbJRuvK",
        "outputId": "c130dc34-8bd9-4e7d-e8e0-5166da7dff0c"
      },
      "execution_count": 2,
      "outputs": [
        {
          "output_type": "stream",
          "name": "stdout",
          "text": [
            "512\n",
            "330\n"
          ]
        }
      ]
    },
    {
      "cell_type": "markdown",
      "source": [
        "Decimal to octal conversion"
      ],
      "metadata": {
        "id": "EKogv7PKScoo"
      }
    },
    {
      "cell_type": "code",
      "source": [
        "dec=int(input())\n",
        "print(oct(dec)[2:])"
      ],
      "metadata": {
        "colab": {
          "base_uri": "https://localhost:8080/"
        },
        "id": "EfHjATt5SlTj",
        "outputId": "26429c61-d042-4a2a-ed3a-219d9e0fe881"
      },
      "execution_count": 3,
      "outputs": [
        {
          "output_type": "stream",
          "name": "stdout",
          "text": [
            "330\n",
            "512\n"
          ]
        }
      ]
    },
    {
      "cell_type": "markdown",
      "source": [
        "Hexadecimal to decimal conversion"
      ],
      "metadata": {
        "id": "HyIZDMRlUrFT"
      }
    },
    {
      "cell_type": "code",
      "source": [
        "def convert(hex):\n",
        "    l = len(hex)\n",
        "    decimal = 0\n",
        "    pos = 0\n",
        "    for i in range(l - 1, -1, -1):\n",
        "        if hex[i] >= '0' and hex[i] <= '9':\n",
        "            decimal += int(hex[i]) * pow(16, pos)\n",
        "            pos += 1\n",
        "        elif hex[i] >= 'A' and hex[i] <= 'F':\n",
        "            decimal += (ord(hex[i]) - 55) * pow(16, pos)\n",
        "            pos += 1\n",
        "    return decimal\n",
        "hex = \"C9\"\n",
        "print(\"decimal value of\", hex, \"is\", convert(hex))"
      ],
      "metadata": {
        "colab": {
          "base_uri": "https://localhost:8080/"
        },
        "id": "fpwUAkjpVEaE",
        "outputId": "ac813493-dcd3-4dc1-891f-10b701c4ce3b"
      },
      "execution_count": 4,
      "outputs": [
        {
          "output_type": "stream",
          "name": "stdout",
          "text": [
            "decimal value of C9 is 201\n"
          ]
        }
      ]
    },
    {
      "cell_type": "markdown",
      "source": [
        "Decimal to hexadecimal conversion\n"
      ],
      "metadata": {
        "id": "WRzKp30JW_Hr"
      }
    },
    {
      "cell_type": "code",
      "source": [
        "def convert(num):\n",
        "    hexa = []\n",
        "\n",
        "    while num != 0:\n",
        "\n",
        "        rem = num % 16\n",
        "\n",
        "        if rem < 10:\n",
        "            hexa.append(chr(rem + 48))\n",
        "        else:\n",
        "            hexa.append(chr(rem + 55))\n",
        "        num = num // 16\n",
        "\n",
        "    hexa.reverse()\n",
        "    return ''.join(hexa)\n",
        "\n",
        "\n",
        "decimal = 2545\n",
        "print(\"Hexadecimal :\", convert(decimal))"
      ],
      "metadata": {
        "colab": {
          "base_uri": "https://localhost:8080/"
        },
        "id": "WUR3rGkQXMCf",
        "outputId": "18797e85-02e6-4adb-f7ec-4a7885c46fb1"
      },
      "execution_count": 8,
      "outputs": [
        {
          "output_type": "stream",
          "name": "stdout",
          "text": [
            "Hexadecimal : 9F1\n"
          ]
        }
      ]
    }
  ]
}