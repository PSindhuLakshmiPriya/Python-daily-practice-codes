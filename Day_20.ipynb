{
  "nbformat": 4,
  "nbformat_minor": 0,
  "metadata": {
    "colab": {
      "provenance": [],
      "authorship_tag": "ABX9TyPRwFXD1d8po/keLRuyrPOj",
      "include_colab_link": true
    },
    "kernelspec": {
      "name": "python3",
      "display_name": "Python 3"
    },
    "language_info": {
      "name": "python"
    }
  },
  "cells": [
    {
      "cell_type": "markdown",
      "metadata": {
        "id": "view-in-github",
        "colab_type": "text"
      },
      "source": [
        "<a href=\"https://colab.research.google.com/github/PSindhuLakshmiPriya/Python-daily-practice-codes/blob/main/Day_20.ipynb\" target=\"_parent\"><img src=\"https://colab.research.google.com/assets/colab-badge.svg\" alt=\"Open In Colab\"/></a>"
      ]
    },
    {
      "cell_type": "markdown",
      "source": [
        "Multilevel Inheritance\n",
        "\n",
        "One parent class then multiple levels of child classes i.e one child may be a parent class to another child\n",
        "it means inheritance happens in multiple levels.for ex we have greatgrandparents-> grandparents->parents->children...."
      ],
      "metadata": {
        "id": "s7JvPiODOuLN"
      }
    },
    {
      "cell_type": "code",
      "source": [
        "class Greatgrandfather:\n",
        "  def work(self):\n",
        "    print(\"I am a farmer\")\n",
        "  def pray(self):\n",
        "    print(\"I am a shiva devotee\")\n",
        "class Grandfather(Greatgrandfather):\n",
        "  def work(self):\n",
        "    print(\"I am also a farmer\")\n",
        "class Father(Grandfather):\n",
        "  def work(self):\n",
        "    Grandfather.work(self)\n",
        "    super().work()\n",
        "    print(\"I work in factory\")\n",
        "father_1=Father()\n",
        "father_1.work()"
      ],
      "metadata": {
        "colab": {
          "base_uri": "https://localhost:8080/"
        },
        "id": "x5EX-bpZP3eX",
        "outputId": "7211cb7d-5c5d-46b7-93f2-90b6ea4f1e3c"
      },
      "execution_count": 4,
      "outputs": [
        {
          "output_type": "stream",
          "name": "stdout",
          "text": [
            "I am also a farmer\n",
            "I am also a farmer\n",
            "I work in factory\n"
          ]
        }
      ]
    },
    {
      "cell_type": "markdown",
      "source": [
        "Hierarchical inheritance"
      ],
      "metadata": {
        "id": "pzW5RLeaUjUj"
      }
    },
    {
      "cell_type": "markdown",
      "source": [
        "Only one parent class and multiple child classes .. for ex my family only\n",
        "3 daughters to my father\n",
        "father-parent class\n",
        "3 daughters-child classes"
      ],
      "metadata": {
        "id": "JPHKD_5eUpRN"
      }
    },
    {
      "cell_type": "code",
      "source": [
        "class Father:\n",
        "  def work(self):\n",
        "    print(\"I am a farmer\")\n",
        "  def behave(self):\n",
        "    print(\"Strong,Responsible and Loving Dad\")\n",
        "class FirstDaughter(Father):\n",
        "  def work(self):\n",
        "    print(\"I am a btech student\")\n",
        "class SecondDaughter(Father):\n",
        "  def work(self):\n",
        "    print(\"I am an intermediate student\")\n",
        "class ThirdDaughter(Father):\n",
        "  def work(self):\n",
        "    print(\"I am a school student\")\n",
        "ThirdDaughter_1=ThirdDaughter()\n",
        "ThirdDaughter_1.work()\n",
        "ThirdDaughter_1.behave()"
      ],
      "metadata": {
        "colab": {
          "base_uri": "https://localhost:8080/"
        },
        "id": "54wXDPN9XSyM",
        "outputId": "01858d5d-4283-4a61-b022-3ddc78a1583e"
      },
      "execution_count": 7,
      "outputs": [
        {
          "output_type": "stream",
          "name": "stdout",
          "text": [
            "I am a school student\n",
            "Strong,Responsible and Loving Dad\n"
          ]
        }
      ]
    },
    {
      "cell_type": "code",
      "source": [
        "class Father:\n",
        "  def __init__(self,name,age):\n",
        "    self.name=name\n",
        "    self.age=age\n",
        "  def work(self):\n",
        "    print(\"I am a farmer\")\n",
        "  def behave(self):\n",
        "    print(\"Strong,Responsible and Loving Dad\")\n",
        "class FirstDaughter(Father):\n",
        "  def work(self):\n",
        "    print(\"I am a btech student\")\n",
        "class SecondDaughter(Father):\n",
        "  def work(self):\n",
        "    print(\"I am an intermediate student\")\n",
        "class ThirdDaughter(Father):\n",
        "  def work(self):\n",
        "    print(\"I am a school student\")\n",
        "ThirdDaughter_1=ThirdDaughter(\"Yoga\",16)\n",
        "print(ThirdDaughter_1.name)\n",
        "print(ThirdDaughter_1.age)\n",
        "ThirdDaughter_1.work()\n",
        "ThirdDaughter_1.behave()"
      ],
      "metadata": {
        "colab": {
          "base_uri": "https://localhost:8080/"
        },
        "id": "YhBtk5pqYSYj",
        "outputId": "2c516fc4-c2bb-48bd-f801-8972e291ee92"
      },
      "execution_count": 8,
      "outputs": [
        {
          "output_type": "stream",
          "name": "stdout",
          "text": [
            "Yoga\n",
            "16\n",
            "I am a school student\n",
            "Strong,Responsible and Loving Dad\n"
          ]
        }
      ]
    },
    {
      "cell_type": "markdown",
      "source": [
        "Hybrid Inheritance"
      ],
      "metadata": {
        "id": "lGVDFyVeYs1c"
      }
    },
    {
      "cell_type": "markdown",
      "source": [
        "Combination of single and multiple inheritance\n",
        "\n",
        "\n",
        "also hybrid-more than two inheritances"
      ],
      "metadata": {
        "id": "Mr6CoyamYvZe"
      }
    },
    {
      "cell_type": "code",
      "source": [
        "class A:\n",
        "  def display(self):\n",
        "    print(\"I am class A\")\n",
        "class B(A):\n",
        "  def display(self):\n",
        "    print(\"I am class B\")\n",
        "class C:\n",
        "  def show(self):\n",
        "    print(\"I am class C\")\n",
        "class D(B,C):\n",
        "  def display(self):\n",
        "    print(\"I am class D\")\n",
        "obj=D()\n",
        "obj.display()\n",
        "print(D.mro())"
      ],
      "metadata": {
        "colab": {
          "base_uri": "https://localhost:8080/"
        },
        "id": "b86_RnRKaIQd",
        "outputId": "34dfbd25-2986-49e9-ff17-87d2d6b4d997"
      },
      "execution_count": 16,
      "outputs": [
        {
          "output_type": "stream",
          "name": "stdout",
          "text": [
            "I am class D\n",
            "[<class '__main__.D'>, <class '__main__.B'>, <class '__main__.A'>, <class '__main__.C'>, <class 'object'>]\n"
          ]
        }
      ]
    }
  ]
}