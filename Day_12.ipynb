{
  "nbformat": 4,
  "nbformat_minor": 0,
  "metadata": {
    "colab": {
      "provenance": [],
      "authorship_tag": "ABX9TyPgS6RX5JrDWG0wyGCtb1oi",
      "include_colab_link": true
    },
    "kernelspec": {
      "name": "python3",
      "display_name": "Python 3"
    },
    "language_info": {
      "name": "python"
    }
  },
  "cells": [
    {
      "cell_type": "markdown",
      "metadata": {
        "id": "view-in-github",
        "colab_type": "text"
      },
      "source": [
        "<a href=\"https://colab.research.google.com/github/PSindhuLakshmiPriya/Python-daily-practice-codes/blob/main/Day_12.ipynb\" target=\"_parent\"><img src=\"https://colab.research.google.com/assets/colab-badge.svg\" alt=\"Open In Colab\"/></a>"
      ]
    },
    {
      "cell_type": "markdown",
      "source": [
        "Product of smallest pair in the array whose sum is less than or equals to given sum target"
      ],
      "metadata": {
        "id": "cfhyByzeuVgB"
      }
    },
    {
      "cell_type": "code",
      "source": [
        "def product_smallest_pair(arr, target):\n",
        "  if len(arr) < 2:\n",
        "    return -1\n",
        "  arr.sort()\n",
        "  smallest_pair_sum=arr[0]+arr[1]\n",
        "  if smallest_pair_sum<=target:\n",
        "    return arr[0]*arr[1]\n",
        "  return 0\n",
        "arr=list(map(int,input().split()))\n",
        "target=int(input())\n",
        "print(product_smallest_pair(arr,target))"
      ],
      "metadata": {
        "colab": {
          "base_uri": "https://localhost:8080/"
        },
        "id": "NZ9-tQ1Nufib",
        "outputId": "412079fb-67d4-49ab-9c57-f028e353b6ef"
      },
      "execution_count": 2,
      "outputs": [
        {
          "output_type": "stream",
          "name": "stdout",
          "text": [
            "7 8 11 23 45\n",
            "10\n",
            "0\n"
          ]
        }
      ]
    },
    {
      "cell_type": "markdown",
      "source": [
        "Permutations of a string"
      ],
      "metadata": {
        "id": "WMFsRxMIvQc9"
      }
    },
    {
      "cell_type": "code",
      "source": [
        "import itertools\n",
        "def find_permutations(s):\n",
        "    permutations = itertools.permutations(s)\n",
        "    result = [''.join(p) for p in permutations]\n",
        "    return result\n",
        "string = \"abc\"\n",
        "permutations = find_permutations(string)\n",
        "print(permutations)\n"
      ],
      "metadata": {
        "colab": {
          "base_uri": "https://localhost:8080/"
        },
        "id": "gegbY9w4vXt8",
        "outputId": "235fbb08-7550-4f6e-dbf6-2bffe6d74b32"
      },
      "execution_count": 10,
      "outputs": [
        {
          "output_type": "stream",
          "name": "stdout",
          "text": [
            "['abc', 'acb', 'bac', 'bca', 'cab', 'cba']\n"
          ]
        }
      ]
    },
    {
      "cell_type": "markdown",
      "source": [
        "To find the longest palindrome subsequence"
      ],
      "metadata": {
        "id": "Pqf7L7UV3Fxf"
      }
    },
    {
      "cell_type": "code",
      "source": [
        "from re import sub\n",
        "def lps(str):\n",
        "  n=len(str)\n",
        "  Max=0\n",
        "  for i in range(1,n):\n",
        "    for j in range(i+1,n):\n",
        "      sub=str[i:j]\n",
        "      if sub==sub[::-1]:\n",
        "        if len(sub)>Max:\n",
        "            Max=len(sub)\n",
        "  return Max\n",
        "str=input()\n",
        "print(lps(str))"
      ],
      "metadata": {
        "colab": {
          "base_uri": "https://localhost:8080/"
        },
        "id": "UxpANwol3NN1",
        "outputId": "a8a2a075-2dcc-4189-d7f3-1ec499007a72"
      },
      "execution_count": 13,
      "outputs": [
        {
          "output_type": "stream",
          "name": "stdout",
          "text": [
            "abbabcdaa\n",
            "3\n"
          ]
        }
      ]
    }
  ]
}