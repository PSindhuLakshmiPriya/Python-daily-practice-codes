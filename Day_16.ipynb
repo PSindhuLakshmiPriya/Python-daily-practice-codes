{
  "nbformat": 4,
  "nbformat_minor": 0,
  "metadata": {
    "colab": {
      "provenance": [],
      "authorship_tag": "ABX9TyM2rPI4bVnMFWhRQRZIwEx/",
      "include_colab_link": true
    },
    "kernelspec": {
      "name": "python3",
      "display_name": "Python 3"
    },
    "language_info": {
      "name": "python"
    }
  },
  "cells": [
    {
      "cell_type": "markdown",
      "metadata": {
        "id": "view-in-github",
        "colab_type": "text"
      },
      "source": [
        "<a href=\"https://colab.research.google.com/github/PSindhuLakshmiPriya/Python-daily-practice-codes/blob/main/Day_16.ipynb\" target=\"_parent\"><img src=\"https://colab.research.google.com/assets/colab-badge.svg\" alt=\"Open In Colab\"/></a>"
      ]
    },
    {
      "cell_type": "markdown",
      "source": [
        "OOPS Concept"
      ],
      "metadata": {
        "id": "2bjZrvFTkph0"
      }
    },
    {
      "cell_type": "code",
      "source": [
        "a=6\n",
        "print(type(a))\n",
        "print(type('hello'))"
      ],
      "metadata": {
        "colab": {
          "base_uri": "https://localhost:8080/"
        },
        "id": "0lB31Z-smZd9",
        "outputId": "192a40c4-5eaf-4ebb-e61e-c8088b3799e1"
      },
      "execution_count": null,
      "outputs": [
        {
          "output_type": "stream",
          "name": "stdout",
          "text": [
            "<class 'int'>\n",
            "<class 'str'>\n"
          ]
        }
      ]
    },
    {
      "cell_type": "markdown",
      "source": [
        "hello is an object of class str"
      ],
      "metadata": {
        "id": "pzjSdzx8ndBr"
      }
    },
    {
      "cell_type": "markdown",
      "source": [
        "Everything we deal with python is considered as a object,\n",
        "\n",
        "\n",
        "it may be vaiable, function or string etc"
      ],
      "metadata": {
        "id": "WzBO09Ypmdop"
      }
    },
    {
      "cell_type": "code",
      "source": [
        "def display():\n",
        "  pass\n",
        "print(type(display))"
      ],
      "metadata": {
        "colab": {
          "base_uri": "https://localhost:8080/"
        },
        "id": "UbjrnB28m1hs",
        "outputId": "ac0705ca-ad9c-4b67-cce2-069661384d89"
      },
      "execution_count": null,
      "outputs": [
        {
          "output_type": "stream",
          "name": "stdout",
          "text": [
            "<class 'function'>\n"
          ]
        }
      ]
    },
    {
      "cell_type": "markdown",
      "source": [
        "There are many inbuilt functions that we can call on that object with the dot operator"
      ],
      "metadata": {
        "id": "e1AhnF-9nTNZ"
      }
    },
    {
      "cell_type": "code",
      "source": [
        "print('PRIYA'.lower())"
      ],
      "metadata": {
        "colab": {
          "base_uri": "https://localhost:8080/"
        },
        "id": "tho4LoSGnb8O",
        "outputId": "e3b66c6e-72b6-4ee9-d2c3-383720356d41"
      },
      "execution_count": null,
      "outputs": [
        {
          "output_type": "stream",
          "name": "stdout",
          "text": [
            "priya\n"
          ]
        }
      ]
    },
    {
      "cell_type": "markdown",
      "source": [
        "In oops variables are called as attributes and functions are called as methods.Because they are not free floating as in POP. they are associated with some entity."
      ],
      "metadata": {
        "id": "Bk7AsFAcpZ9r"
      }
    },
    {
      "cell_type": "markdown",
      "source": [
        "objects are important ,, everything we do with the help of objects\n",
        "\n",
        "\n",
        "why we need classes???\n",
        "\n",
        "\n",
        "Suppose if we take preparing idly scenario\n",
        "\n",
        "\n",
        "idlies-objects\n",
        "\n",
        "\n",
        "idly maker/plate-blueprint/design-Class\n",
        "\n",
        "that's class is used to create object\n",
        "\n",
        "object is an instance/example of class\n",
        "\n",
        "\n",
        "we can also say class is a user defined data type\n",
        "\n",
        "\n",
        "syntax:\n",
        "\n",
        "\n",
        "class ClassName\n",
        "\n",
        "\n",
        "ClassName should be in PascalCase\n",
        "\n",
        "evey word first letter is capital\n",
        "\n"
      ],
      "metadata": {
        "id": "AIVmMW7Jr8Eo"
      }
    },
    {
      "cell_type": "code",
      "source": [
        "class StudentInfo:\n",
        "  pass\n",
        "student_1=StudentInfo()\n",
        "print(type(student_1))\n"
      ],
      "metadata": {
        "colab": {
          "base_uri": "https://localhost:8080/"
        },
        "id": "6GbkU_9guBj9",
        "outputId": "5c14a031-1f1e-4f10-9a20-f2cdbe4f131a"
      },
      "execution_count": null,
      "outputs": [
        {
          "output_type": "stream",
          "name": "stdout",
          "text": [
            "<class '__main__.StudentInfo'>\n"
          ]
        }
      ]
    },
    {
      "cell_type": "code",
      "source": [
        "class CarDesign:\n",
        "  pass\n",
        "car_1=CarDesign()\n",
        "car_2=CarDesign()\n",
        "print(type(car_1))\n",
        "print(type(car_2))"
      ],
      "metadata": {
        "colab": {
          "base_uri": "https://localhost:8080/"
        },
        "id": "2wf8SXgtus0T",
        "outputId": "fab0f83b-9451-455d-f0a8-8d37f794d8a5"
      },
      "execution_count": null,
      "outputs": [
        {
          "output_type": "stream",
          "name": "stdout",
          "text": [
            "<class '__main__.CarDesign'>\n",
            "<class '__main__.CarDesign'>\n"
          ]
        }
      ]
    }
  ]
}