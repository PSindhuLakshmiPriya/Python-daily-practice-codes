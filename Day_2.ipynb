{
  "nbformat": 4,
  "nbformat_minor": 0,
  "metadata": {
    "colab": {
      "provenance": [],
      "authorship_tag": "ABX9TyP5oxTRQYu81y6fi2fbJ3AN",
      "include_colab_link": true
    },
    "kernelspec": {
      "name": "python3",
      "display_name": "Python 3"
    },
    "language_info": {
      "name": "python"
    }
  },
  "cells": [
    {
      "cell_type": "markdown",
      "metadata": {
        "id": "view-in-github",
        "colab_type": "text"
      },
      "source": [
        "<a href=\"https://colab.research.google.com/github/PSindhuLakshmiPriya/Python-daily-practice-codes/blob/main/Day_2.ipynb\" target=\"_parent\"><img src=\"https://colab.research.google.com/assets/colab-badge.svg\" alt=\"Open In Colab\"/></a>"
      ]
    },
    {
      "cell_type": "markdown",
      "source": [
        "Printing vowels and consonants"
      ],
      "metadata": {
        "id": "lSl6a9JL5-i_"
      }
    },
    {
      "cell_type": "code",
      "source": [
        "c=input()\n",
        "if (c=='a' or c=='e' or c=='i' or c=='o' or c=='u' or c=='A' or c=='E' or c=='I' or c=='O' or c=='U'):\n",
        "    print('Vowel')\n",
        "else:\n",
        "    print('Consonant')"
      ],
      "metadata": {
        "colab": {
          "base_uri": "https://localhost:8080/"
        },
        "id": "VSATn8Kj6FCg",
        "outputId": "4c8384a4-cb34-4050-bb2f-3b2094eadd1e"
      },
      "execution_count": 3,
      "outputs": [
        {
          "output_type": "stream",
          "name": "stdout",
          "text": [
            "B\n",
            "Consonant\n"
          ]
        }
      ]
    },
    {
      "cell_type": "code",
      "source": [
        "a=input()\n",
        "v=0\n",
        "c=0\n",
        "for i in a:\n",
        "  if (i=='a' or i=='e' or i=='i' or i=='o' or i=='u' or i=='A' or i=='E' or i=='I' or i=='O' or i=='U'):\n",
        "    v+=1\n",
        "  else:\n",
        "    c+=1\n",
        "print(\"Vowels\",v)\n",
        "print(\"Consonants\",c)"
      ],
      "metadata": {
        "colab": {
          "base_uri": "https://localhost:8080/"
        },
        "id": "36jvvJ8r6e2k",
        "outputId": "45673133-a72c-4849-eac2-31a8a0653067"
      },
      "execution_count": 4,
      "outputs": [
        {
          "output_type": "stream",
          "name": "stdout",
          "text": [
            "sindhu lakshmi priya\n",
            "Vowels 6\n",
            "Consonants 14\n"
          ]
        }
      ]
    },
    {
      "cell_type": "code",
      "source": [
        "a=input()\n",
        "v=\"\"\n",
        "c=\"\"\n",
        "for i in a:\n",
        "  if (i=='a' or i=='e' or i=='i' or i=='o' or i=='u' or i=='A' or i=='E' or i=='I' or i=='O' or i=='U'):\n",
        "    v+=i\n",
        "  else:\n",
        "    c+=i\n",
        "print(\"Vowels:\",v)\n",
        "print(\"Consonants:\",c)"
      ],
      "metadata": {
        "colab": {
          "base_uri": "https://localhost:8080/"
        },
        "id": "bmSgocN67rlS",
        "outputId": "8d731501-1def-4891-9a91-893883938239"
      },
      "execution_count": 6,
      "outputs": [
        {
          "output_type": "stream",
          "name": "stdout",
          "text": [
            "sindhu\n",
            "Vowels iu\n",
            "Consonants sndh\n"
          ]
        }
      ]
    },
    {
      "cell_type": "markdown",
      "source": [
        "check whether a character is alphabet or not"
      ],
      "metadata": {
        "id": "UyNxt37K9C2O"
      }
    },
    {
      "cell_type": "markdown",
      "source": [
        "97-122 a-z\n",
        "65-90 A-Z"
      ],
      "metadata": {
        "id": "0Q4GVo9C_YNA"
      }
    },
    {
      "cell_type": "code",
      "source": [
        "ch=input()\n",
        "if ((ch>='a' and ch<='z') or (ch>='A' and ch<='Z')):\n",
        "  print(\"Alphabet\")\n",
        "else:\n",
        "  print(\"Not an alphabet\")"
      ],
      "metadata": {
        "colab": {
          "base_uri": "https://localhost:8080/"
        },
        "id": "PsIbCGr59KUA",
        "outputId": "701d4987-0556-4fd9-9cac-1638f7b92192"
      },
      "execution_count": 7,
      "outputs": [
        {
          "output_type": "stream",
          "name": "stdout",
          "text": [
            "g\n",
            "Alphabet\n"
          ]
        }
      ]
    },
    {
      "cell_type": "markdown",
      "source": [
        "Ascii Value"
      ],
      "metadata": {
        "id": "u5-ezAgQA6Wv"
      }
    },
    {
      "cell_type": "code",
      "source": [
        "a=input()\n",
        "b=ord(a)\n",
        "print(b)"
      ],
      "metadata": {
        "colab": {
          "base_uri": "https://localhost:8080/"
        },
        "id": "dzImhSJwAn-j",
        "outputId": "8b68bac8-7a77-4378-d888-25b307395e47"
      },
      "execution_count": 8,
      "outputs": [
        {
          "output_type": "stream",
          "name": "stdout",
          "text": [
            "a\n",
            "97\n"
          ]
        }
      ]
    },
    {
      "cell_type": "markdown",
      "source": [
        "Length of the string without length function"
      ],
      "metadata": {
        "id": "jNF4WzwzA9Ti"
      }
    },
    {
      "cell_type": "code",
      "source": [
        "s=input()\n",
        "c=0\n",
        "for i in s:\n",
        "  c+=1\n",
        "print(c)"
      ],
      "metadata": {
        "colab": {
          "base_uri": "https://localhost:8080/"
        },
        "id": "e5vSZJ2mBTap",
        "outputId": "7d25dce1-dd36-4910-9847-8124b9fc1984"
      },
      "execution_count": 9,
      "outputs": [
        {
          "output_type": "stream",
          "name": "stdout",
          "text": [
            "sindhu\n",
            "6\n"
          ]
        }
      ]
    },
    {
      "cell_type": "markdown",
      "source": [
        "sort function"
      ],
      "metadata": {
        "id": "COSTaAIaB0N3"
      }
    },
    {
      "cell_type": "code",
      "source": [
        "a=[1,4,3,2]\n",
        "a.sort()\n",
        "print(a)"
      ],
      "metadata": {
        "colab": {
          "base_uri": "https://localhost:8080/"
        },
        "id": "26YBPExZB5Rk",
        "outputId": "7e4236b9-8af7-4575-8c6a-e4fd3c768f17"
      },
      "execution_count": 10,
      "outputs": [
        {
          "output_type": "stream",
          "name": "stdout",
          "text": [
            "[1, 2, 3, 4]\n"
          ]
        }
      ]
    },
    {
      "cell_type": "markdown",
      "source": [
        "sorted function"
      ],
      "metadata": {
        "id": "dhhd2_ETB98S"
      }
    },
    {
      "cell_type": "code",
      "source": [
        "a=[1,4,3,2]\n",
        "b=sorted(a)\n",
        "print(b)"
      ],
      "metadata": {
        "colab": {
          "base_uri": "https://localhost:8080/"
        },
        "id": "6CX1cwH9COR2",
        "outputId": "f858cfcd-e694-48fb-de98-d55f7be2f512"
      },
      "execution_count": 11,
      "outputs": [
        {
          "output_type": "stream",
          "name": "stdout",
          "text": [
            "[1, 2, 3, 4]\n"
          ]
        }
      ]
    },
    {
      "cell_type": "markdown",
      "source": [
        "Swapcase"
      ],
      "metadata": {
        "id": "URNPFU32CUhD"
      }
    },
    {
      "cell_type": "code",
      "source": [
        "str=input()\n",
        "print(str.swapcase())"
      ],
      "metadata": {
        "colab": {
          "base_uri": "https://localhost:8080/"
        },
        "id": "85AL8biPCWLO",
        "outputId": "ad4564e0-e859-4238-c1b2-85d1c6830ce4"
      },
      "execution_count": 12,
      "outputs": [
        {
          "output_type": "stream",
          "name": "stdout",
          "text": [
            "sIndHu\n",
            "SiNDhU\n"
          ]
        }
      ]
    },
    {
      "cell_type": "code",
      "source": [
        "str=input()\n",
        "str1=\"\"\n",
        "for i in str:\n",
        "  if i.isupper():\n",
        "    i=i.lower()\n",
        "    str1+=i\n",
        "  else:\n",
        "    i=i.upper()\n",
        "    str1+=i\n",
        "print(str1)"
      ],
      "metadata": {
        "colab": {
          "base_uri": "https://localhost:8080/"
        },
        "id": "IPwJPRjECjOn",
        "outputId": "9cf85898-34f4-42f2-f1ea-93707d4a287d"
      },
      "execution_count": 13,
      "outputs": [
        {
          "output_type": "stream",
          "name": "stdout",
          "text": [
            "sindhu\n",
            "SINDHU\n"
          ]
        }
      ]
    },
    {
      "cell_type": "markdown",
      "source": [
        "First and last character upper case"
      ],
      "metadata": {
        "id": "527pEOeVEAdW"
      }
    },
    {
      "cell_type": "code",
      "source": [
        "str=input()\n",
        "str1=str[0].upper()+str[1:-1]+str[-1].upper()\n",
        "print(str1)"
      ],
      "metadata": {
        "colab": {
          "base_uri": "https://localhost:8080/"
        },
        "id": "QiyjuxYWELW3",
        "outputId": "d68b1507-879e-4d9c-9107-c57df74986fb"
      },
      "execution_count": 14,
      "outputs": [
        {
          "output_type": "stream",
          "name": "stdout",
          "text": [
            "code\n",
            "CodE\n"
          ]
        }
      ]
    },
    {
      "cell_type": "markdown",
      "source": [
        "Same logic for a paragraph"
      ],
      "metadata": {
        "id": "S5qvYjmfFxBU"
      }
    },
    {
      "cell_type": "code",
      "source": [
        "str=input()\n",
        "words=str.split()\n",
        "cap_words=[]\n",
        "for word in words:\n",
        "  if len(word)>1:\n",
        "    cap_word=word[0].upper()+word[1:-1]+word[-1].upper()\n",
        "  else:\n",
        "    cap_word=word.upper()\n",
        "  cap_words.append(cap_word)\n",
        "print(\" \".join(cap_words))"
      ],
      "metadata": {
        "colab": {
          "base_uri": "https://localhost:8080/"
        },
        "id": "f5QgGRPfF0dD",
        "outputId": "16d15102-e4cf-4e5d-bdb4-95c24967addb"
      },
      "execution_count": 20,
      "outputs": [
        {
          "output_type": "stream",
          "name": "stdout",
          "text": [
            "crack a code\n",
            "CracK A CodE\n"
          ]
        }
      ]
    },
    {
      "cell_type": "markdown",
      "source": [
        "Reverse string"
      ],
      "metadata": {
        "id": "sNTxMDPdI7PB"
      }
    },
    {
      "cell_type": "code",
      "source": [
        "str=input()\n",
        "print(str[::-1])"
      ],
      "metadata": {
        "colab": {
          "base_uri": "https://localhost:8080/"
        },
        "id": "Y6tnYZ4pI9Rl",
        "outputId": "50c5aba3-0685-4adf-d190-f623efe098ad"
      },
      "execution_count": 21,
      "outputs": [
        {
          "output_type": "stream",
          "name": "stdout",
          "text": [
            "sindhu\n",
            "uhdnis\n"
          ]
        }
      ]
    },
    {
      "cell_type": "code",
      "source": [
        "str=input()\n",
        "str1=\"\"\n",
        "for i in range(len(str)-1,-1,-1):\n",
        "  str1+=str[i]\n",
        "print(str1)"
      ],
      "metadata": {
        "colab": {
          "base_uri": "https://localhost:8080/"
        },
        "id": "UM_i7I49JCEO",
        "outputId": "cb3a6300-d98f-45de-d526-6f31adbb8b95"
      },
      "execution_count": 22,
      "outputs": [
        {
          "output_type": "stream",
          "name": "stdout",
          "text": [
            "sindhu\n",
            "uhdnis\n"
          ]
        }
      ]
    },
    {
      "cell_type": "markdown",
      "source": [
        "for words"
      ],
      "metadata": {
        "id": "vdZxPrYrJWy8"
      }
    },
    {
      "cell_type": "code",
      "source": [
        "str=input()\n",
        "words=str.split()\n",
        "rev_words=words[::-1]\n",
        "print(\" \".join(rev_words))"
      ],
      "metadata": {
        "colab": {
          "base_uri": "https://localhost:8080/"
        },
        "id": "TjoqEuAuJYlB",
        "outputId": "2ce5d97c-4ef3-4dc9-ef2b-48f9c81b9512"
      },
      "execution_count": 23,
      "outputs": [
        {
          "output_type": "stream",
          "name": "stdout",
          "text": [
            "crack a code\n",
            "code a crack\n"
          ]
        }
      ]
    }
  ]
}