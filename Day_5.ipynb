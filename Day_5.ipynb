{
  "nbformat": 4,
  "nbformat_minor": 0,
  "metadata": {
    "colab": {
      "provenance": [],
      "authorship_tag": "ABX9TyPkFs5nDdz45CTpGOTgZ1cH",
      "include_colab_link": true
    },
    "kernelspec": {
      "name": "python3",
      "display_name": "Python 3"
    },
    "language_info": {
      "name": "python"
    }
  },
  "cells": [
    {
      "cell_type": "markdown",
      "metadata": {
        "id": "view-in-github",
        "colab_type": "text"
      },
      "source": [
        "<a href=\"https://colab.research.google.com/github/PSindhuLakshmiPriya/Python-daily-practice-codes/blob/main/Day_5.ipynb\" target=\"_parent\"><img src=\"https://colab.research.google.com/assets/colab-badge.svg\" alt=\"Open In Colab\"/></a>"
      ]
    },
    {
      "cell_type": "markdown",
      "source": [
        "To print the count of perfect squares in a given array"
      ],
      "metadata": {
        "id": "NpsJLuRPeMif"
      }
    },
    {
      "cell_type": "code",
      "source": [
        "arr=list(map(int,input().split()))\n",
        "count=0\n",
        "for i in arr:\n",
        "  if i**0.5==int(i**0.5):\n",
        "    count+=1\n",
        "print(count)"
      ],
      "metadata": {
        "colab": {
          "base_uri": "https://localhost:8080/"
        },
        "id": "iZaGfh79eSzs",
        "outputId": "33192725-e08e-47e8-bfc4-1414f25a4b0b"
      },
      "execution_count": 2,
      "outputs": [
        {
          "output_type": "stream",
          "name": "stdout",
          "text": [
            "64 5 4 81 92 36\n",
            "4\n"
          ]
        }
      ]
    },
    {
      "cell_type": "code",
      "source": [
        "import math\n",
        "arr=list(map(int,input().split()))\n",
        "count=0\n",
        "for i in arr:\n",
        "  if math.sqrt(i)==int(math.sqrt(i)):\n",
        "    count+=1\n",
        "print(count)"
      ],
      "metadata": {
        "colab": {
          "base_uri": "https://localhost:8080/"
        },
        "id": "KlxuGxEWfs3A",
        "outputId": "20f9a08d-9f5a-4ed7-c934-7dc05faf9d81"
      },
      "execution_count": 3,
      "outputs": [
        {
          "output_type": "stream",
          "name": "stdout",
          "text": [
            "36 5 4 81 49 42\n",
            "4\n"
          ]
        }
      ]
    },
    {
      "cell_type": "markdown",
      "source": [
        "Password Checker\n",
        "\n",
        "\n",
        "4 conditions\n",
        "\n",
        "\n",
        "1.Atleast 4 characters\n",
        "\n",
        "\n",
        "\n",
        "2.Atleast one numeric digit\n",
        "\n",
        "\n",
        "\n",
        "3.Atleast one capital letter\n",
        "\n",
        "\n",
        "\n",
        "4.Must not have space or slash\n",
        "\n",
        "\n",
        "\n",
        "5.Starting character must not be a number"
      ],
      "metadata": {
        "id": "JUHz9WOUgZ5P"
      }
    },
    {
      "cell_type": "code",
      "source": [
        "def passwordChecker(s,n):\n",
        "  if n<4:\n",
        "    return False\n",
        "  if s[0].isdigit():\n",
        "    return False\n",
        "  cap=0\n",
        "  num=0\n",
        "  for i in range(n):\n",
        "    if s[i]==\" \" or s[i]==\"/\":\n",
        "      return False\n",
        "    elif s[i]>='A' and s[i]<='Z':\n",
        "      cap+=1\n",
        "    elif s[i].isdigit():\n",
        "      num+=1\n",
        "  if cap>0 and num>0:\n",
        "    return True\n",
        "  else:\n",
        "    return False\n",
        "\n",
        "s=input()\n",
        "n=len(s)\n",
        "print(passwordChecker(s,n))"
      ],
      "metadata": {
        "colab": {
          "base_uri": "https://localhost:8080/"
        },
        "id": "eySrJjLVhAK4",
        "outputId": "2fcf35b5-ecdb-4c2b-a95e-84e6ec0809d5"
      },
      "execution_count": 6,
      "outputs": [
        {
          "output_type": "stream",
          "name": "stdout",
          "text": [
            "Aa_9ah\n",
            "True\n"
          ]
        }
      ]
    },
    {
      "cell_type": "markdown",
      "source": [
        "Difference Of Sums"
      ],
      "metadata": {
        "id": "nCNGA6z0icB6"
      }
    },
    {
      "cell_type": "code",
      "source": [
        "n=4\n",
        "m=20\n",
        "sum_divisible_by_n=0\n",
        "sum_not_divisible_by_n=0\n",
        "for i in range(1,m):\n",
        "  if i%n==0:\n",
        "    sum_divisible_by_n+=i\n",
        "  else:\n",
        "    sum2_not_divisible_by_n+=i\n",
        "\n",
        "print(abs(sum_not_divisible_by_n-sum_divisible_by_n))"
      ],
      "metadata": {
        "colab": {
          "base_uri": "https://localhost:8080/"
        },
        "id": "7L8RbmaMiefp",
        "outputId": "ffa69bb1-8056-4f5e-a499-2d05a980494a"
      },
      "execution_count": 9,
      "outputs": [
        {
          "output_type": "stream",
          "name": "stdout",
          "text": [
            "40\n"
          ]
        }
      ]
    },
    {
      "cell_type": "markdown",
      "source": [
        "Move Hyphens to front of the string"
      ],
      "metadata": {
        "id": "hreDRvjDi58c"
      }
    },
    {
      "cell_type": "code",
      "source": [
        "str=input()\n",
        "count=0\n",
        "string=\"\"\n",
        "for i in str:\n",
        "  if i==\"-\":\n",
        "    count+=1\n",
        "  else:\n",
        "    string+=i\n",
        "for i in range(count):\n",
        "  string=\"-\"+string\n",
        "print(string)\n"
      ],
      "metadata": {
        "colab": {
          "base_uri": "https://localhost:8080/"
        },
        "id": "d9gr5iiqi93w",
        "outputId": "90433f40-dd42-4fc5-c294-62105a8ac217"
      },
      "execution_count": 10,
      "outputs": [
        {
          "output_type": "stream",
          "name": "stdout",
          "text": [
            "Move-Hyphen-to-front\n",
            "---MoveHyphentofront\n"
          ]
        }
      ]
    },
    {
      "cell_type": "code",
      "source": [
        "str=input()\n",
        "count=0\n",
        "string=\"\"\n",
        "for i in str:\n",
        "  if i==\"-\":\n",
        "    count+=1\n",
        "  else:\n",
        "    string+=i\n",
        "print(\"-\"*count,string)"
      ],
      "metadata": {
        "colab": {
          "base_uri": "https://localhost:8080/"
        },
        "id": "v1HRt0YYjSiK",
        "outputId": "ee0f9978-5d41-4e3c-b0fb-403c7153efc6"
      },
      "execution_count": 12,
      "outputs": [
        {
          "output_type": "stream",
          "name": "stdout",
          "text": [
            "string -is the -default data type-in -python\n",
            "---- string is the default data typein python\n"
          ]
        }
      ]
    }
  ]
}