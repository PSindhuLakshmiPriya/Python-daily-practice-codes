{
  "nbformat": 4,
  "nbformat_minor": 0,
  "metadata": {
    "colab": {
      "provenance": [],
      "authorship_tag": "ABX9TyPo0vQdSXVAVZiTTO879vft",
      "include_colab_link": true
    },
    "kernelspec": {
      "name": "python3",
      "display_name": "Python 3"
    },
    "language_info": {
      "name": "python"
    }
  },
  "cells": [
    {
      "cell_type": "markdown",
      "metadata": {
        "id": "view-in-github",
        "colab_type": "text"
      },
      "source": [
        "<a href=\"https://colab.research.google.com/github/PSindhuLakshmiPriya/Python-daily-practice-codes/blob/main/Day_14.ipynb\" target=\"_parent\"><img src=\"https://colab.research.google.com/assets/colab-badge.svg\" alt=\"Open In Colab\"/></a>"
      ]
    },
    {
      "cell_type": "markdown",
      "source": [
        "Chocalate Distribution Problem\n",
        "\n",
        "\n",
        "\n",
        "\n",
        "Array contains no of chocalates required A-array N-size M-no of students\n",
        "\n",
        "\n",
        "the diff b/w maximum-minimum chocalates\n",
        "\n",
        "\n",
        "\n",
        "note:simply subtract max ele & min ele in array"
      ],
      "metadata": {
        "id": "qNSfD5gri7A_"
      }
    },
    {
      "cell_type": "code",
      "source": [
        "def findMinDiff(arr,N,M):\n",
        "  if N==0 or M==0:\n",
        "    return 0\n",
        "  arr.sort()\n",
        "  if N<M:\n",
        "    return -1\n",
        "  min_diff=arr[-1]-arr[0]\n",
        "  for i in range(len(arr)-M+1):\n",
        "    min_diff=min(min_diff,arr[i+M-1]-arr[i])\n",
        "  return min_diff\n",
        "arr=[1,2,3,4,7,5]\n",
        "N=len(arr)\n",
        "M=3\n",
        "print(findMinDiff(arr,N,M))"
      ],
      "metadata": {
        "id": "yv49rp1WjFwh"
      },
      "execution_count": null,
      "outputs": []
    },
    {
      "cell_type": "markdown",
      "source": [
        "Print 5 5 5 5 5/n 4 4 4 4/n3 3 3/n2 2 /n1"
      ],
      "metadata": {
        "id": "ibVG_DscsEBr"
      }
    },
    {
      "cell_type": "code",
      "source": [
        "for i in range(5,0,-1):\n",
        "  print((str(i)+' ')*i)"
      ],
      "metadata": {
        "id": "k2b5ODPGsNX4",
        "colab": {
          "base_uri": "https://localhost:8080/"
        },
        "outputId": "e14c321e-cb5a-419c-8f89-ae0de95994d5"
      },
      "execution_count": null,
      "outputs": [
        {
          "output_type": "stream",
          "name": "stdout",
          "text": [
            "5 5 5 5 5 \n",
            "4 4 4 4 \n",
            "3 3 3 \n",
            "2 2 \n",
            "1 \n"
          ]
        }
      ]
    },
    {
      "cell_type": "code",
      "source": [
        "for i in range(5):\n",
        "  print(\"* \"*5)"
      ],
      "metadata": {
        "colab": {
          "base_uri": "https://localhost:8080/"
        },
        "id": "N6icckeHMQ4B",
        "outputId": "3b9fd217-ced1-48c6-f5e5-62a4efdc9ce9"
      },
      "execution_count": null,
      "outputs": [
        {
          "output_type": "stream",
          "name": "stdout",
          "text": [
            "* * * * * \n",
            "* * * * * \n",
            "* * * * * \n",
            "* * * * * \n",
            "* * * * * \n"
          ]
        }
      ]
    }
  ]
}