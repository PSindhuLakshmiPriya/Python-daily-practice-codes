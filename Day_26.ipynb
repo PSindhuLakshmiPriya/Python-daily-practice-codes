{
  "nbformat": 4,
  "nbformat_minor": 0,
  "metadata": {
    "colab": {
      "provenance": [],
      "authorship_tag": "ABX9TyN7d9uLiw/nOjvLhI/Ir27M",
      "include_colab_link": true
    },
    "kernelspec": {
      "name": "python3",
      "display_name": "Python 3"
    },
    "language_info": {
      "name": "python"
    }
  },
  "cells": [
    {
      "cell_type": "markdown",
      "metadata": {
        "id": "view-in-github",
        "colab_type": "text"
      },
      "source": [
        "<a href=\"https://colab.research.google.com/github/PSindhuLakshmiPriya/Python-daily-practice-codes/blob/main/Day_26.ipynb\" target=\"_parent\"><img src=\"https://colab.research.google.com/assets/colab-badge.svg\" alt=\"Open In Colab\"/></a>"
      ]
    },
    {
      "cell_type": "markdown",
      "source": [
        "Finding max, min, sum and reversing the array"
      ],
      "metadata": {
        "id": "u9ium8O1btTN"
      }
    },
    {
      "cell_type": "code",
      "source": [
        "arr=[1,2,3,4,5]\n",
        "print(max(arr))\n",
        "print(min(arr))\n",
        "print(sum(arr))\n",
        "print(arr[::-1])"
      ],
      "metadata": {
        "colab": {
          "base_uri": "https://localhost:8080/"
        },
        "id": "_S0bjMsUb0_1",
        "outputId": "c7a80ad2-8963-454b-c704-c4c3ef2a05d1"
      },
      "execution_count": 2,
      "outputs": [
        {
          "output_type": "stream",
          "name": "stdout",
          "text": [
            "5\n",
            "1\n",
            "15\n",
            "[5, 4, 3, 2, 1]\n"
          ]
        }
      ]
    },
    {
      "cell_type": "markdown",
      "source": [
        "Finding average"
      ],
      "metadata": {
        "id": "AJy7SCzvb2rV"
      }
    },
    {
      "cell_type": "code",
      "source": [
        "avg=sum(arr)/len(arr)\n",
        "print(avg)"
      ],
      "metadata": {
        "colab": {
          "base_uri": "https://localhost:8080/"
        },
        "id": "W60INQQNb40u",
        "outputId": "9c98a9ba-e717-4348-e611-26e1f69d42ec"
      },
      "execution_count": 3,
      "outputs": [
        {
          "output_type": "stream",
          "name": "stdout",
          "text": [
            "3.0\n"
          ]
        }
      ]
    },
    {
      "cell_type": "markdown",
      "source": [
        "Sorting"
      ],
      "metadata": {
        "id": "N1YeWo_2b9DZ"
      }
    },
    {
      "cell_type": "code",
      "source": [
        "arr=sorted(arr)\n",
        "print(arr)"
      ],
      "metadata": {
        "colab": {
          "base_uri": "https://localhost:8080/"
        },
        "id": "MVP4y0RicAe0",
        "outputId": "c8688d9b-9c62-4381-e35b-faa8c0d0aefb"
      },
      "execution_count": 4,
      "outputs": [
        {
          "output_type": "stream",
          "name": "stdout",
          "text": [
            "[1, 2, 3, 4, 5]\n"
          ]
        }
      ]
    },
    {
      "cell_type": "markdown",
      "source": [
        "Removing duplicates"
      ],
      "metadata": {
        "id": "NLViUoJUcFKz"
      }
    },
    {
      "cell_type": "code",
      "source": [
        "array=[1,2,5,7,9,1,3,2]\n",
        "print(list(set(array)))"
      ],
      "metadata": {
        "colab": {
          "base_uri": "https://localhost:8080/"
        },
        "id": "nCv6tN65cHdT",
        "outputId": "65a04e6c-a7a1-4eae-86df-c7e79b3e167c"
      },
      "execution_count": 5,
      "outputs": [
        {
          "output_type": "stream",
          "name": "stdout",
          "text": [
            "[1, 2, 3, 5, 7, 9]\n"
          ]
        }
      ]
    },
    {
      "cell_type": "markdown",
      "source": [
        "Merging Two Arrays"
      ],
      "metadata": {
        "id": "F8GicCGmcXJc"
      }
    },
    {
      "cell_type": "code",
      "source": [
        "arr1=[1,2,3,4,5]\n",
        "arr2=[6,7,8,9,10]\n",
        "print(arr1+arr2)"
      ],
      "metadata": {
        "colab": {
          "base_uri": "https://localhost:8080/"
        },
        "id": "uwM0lsU3cZ_7",
        "outputId": "60f33bd1-84e7-4c41-b75a-5b9da774165a"
      },
      "execution_count": 6,
      "outputs": [
        {
          "output_type": "stream",
          "name": "stdout",
          "text": [
            "[1, 2, 3, 4, 5, 6, 7, 8, 9, 10]\n"
          ]
        }
      ]
    },
    {
      "cell_type": "markdown",
      "source": [
        "Finding index"
      ],
      "metadata": {
        "id": "Cq2DLMUncc6T"
      }
    },
    {
      "cell_type": "code",
      "source": [
        "arr=[10,20,30,40,50]\n",
        "print(arr.index(30))"
      ],
      "metadata": {
        "colab": {
          "base_uri": "https://localhost:8080/"
        },
        "id": "nIiB2Wgcceye",
        "outputId": "3f72fe8d-488c-47c9-8354-09b37d702dda"
      },
      "execution_count": 7,
      "outputs": [
        {
          "output_type": "stream",
          "name": "stdout",
          "text": [
            "2\n"
          ]
        }
      ]
    },
    {
      "cell_type": "markdown",
      "source": [
        "Rotating array"
      ],
      "metadata": {
        "id": "IMBkg8FZcx_4"
      }
    },
    {
      "cell_type": "code",
      "source": [
        "arr=[12,34,56,14,32]\n",
        "n=2\n",
        "print(arr[n:]+arr[:n])"
      ],
      "metadata": {
        "colab": {
          "base_uri": "https://localhost:8080/"
        },
        "id": "M1dm66vmc0WT",
        "outputId": "a406af5c-a42d-4727-f8b6-f824efff5240"
      },
      "execution_count": 10,
      "outputs": [
        {
          "output_type": "stream",
          "name": "stdout",
          "text": [
            "[56, 14, 32, 12, 34]\n"
          ]
        }
      ]
    },
    {
      "cell_type": "markdown",
      "source": [
        "Find the maximum product of two integers in an array"
      ],
      "metadata": {
        "id": "hPbkGTynd7_m"
      }
    },
    {
      "cell_type": "code",
      "source": [
        "arr=[3,4,5,2,1]\n",
        "arr.sort()\n",
        "print(arr[-1]*arr[-2])"
      ],
      "metadata": {
        "colab": {
          "base_uri": "https://localhost:8080/"
        },
        "id": "fHckPWI1eBKH",
        "outputId": "ea7828c2-2a71-4d7b-c773-ed15c13969bb"
      },
      "execution_count": 11,
      "outputs": [
        {
          "output_type": "stream",
          "name": "stdout",
          "text": [
            "20\n"
          ]
        }
      ]
    }
  ]
}