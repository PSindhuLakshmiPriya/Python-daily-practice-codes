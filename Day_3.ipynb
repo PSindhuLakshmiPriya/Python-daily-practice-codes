{
  "nbformat": 4,
  "nbformat_minor": 0,
  "metadata": {
    "colab": {
      "provenance": [],
      "authorship_tag": "ABX9TyMgoPytUWWMv3DeWzOM5HOY",
      "include_colab_link": true
    },
    "kernelspec": {
      "name": "python3",
      "display_name": "Python 3"
    },
    "language_info": {
      "name": "python"
    }
  },
  "cells": [
    {
      "cell_type": "markdown",
      "metadata": {
        "id": "view-in-github",
        "colab_type": "text"
      },
      "source": [
        "<a href=\"https://colab.research.google.com/github/PSindhuLakshmiPriya/Python-daily-practice-codes/blob/main/Day_3.ipynb\" target=\"_parent\"><img src=\"https://colab.research.google.com/assets/colab-badge.svg\" alt=\"Open In Colab\"/></a>"
      ]
    },
    {
      "cell_type": "markdown",
      "source": [
        "Working with numbers"
      ],
      "metadata": {
        "id": "XZlTFKRVGxZm"
      }
    },
    {
      "cell_type": "markdown",
      "source": [
        "HCF"
      ],
      "metadata": {
        "id": "QBZvK3k-G1Gx"
      }
    },
    {
      "cell_type": "code",
      "source": [
        "num1=172\n",
        "num2=124\n",
        "while num1!=num2:\n",
        "    if num1>num2:\n",
        "        num1-=num2\n",
        "    else:\n",
        "        num2-=num1\n",
        "print(num1)"
      ],
      "metadata": {
        "colab": {
          "base_uri": "https://localhost:8080/"
        },
        "id": "l38MElALK4tO",
        "outputId": "939337fb-ec55-45b9-ae86-1d4ee0655464"
      },
      "execution_count": null,
      "outputs": [
        {
          "output_type": "stream",
          "name": "stdout",
          "text": [
            "4\n"
          ]
        }
      ]
    },
    {
      "cell_type": "markdown",
      "source": [
        "LCM"
      ],
      "metadata": {
        "id": "ez5EOvWtNNLv"
      }
    },
    {
      "cell_type": "code",
      "source": [
        "num1=24\n",
        "num2=36\n",
        "for i in range(max(num1,num2),1+(num1*num2)):\n",
        "    if i%num1==i%num2==0:\n",
        "        lcm=i\n",
        "        break\n",
        "print(lcm)"
      ],
      "metadata": {
        "colab": {
          "base_uri": "https://localhost:8080/"
        },
        "id": "2hPba_x7NOI1",
        "outputId": "fe0fac5e-fe65-4da3-867e-29770a57834c"
      },
      "execution_count": null,
      "outputs": [
        {
          "output_type": "stream",
          "name": "stdout",
          "text": [
            "72\n"
          ]
        }
      ]
    },
    {
      "cell_type": "markdown",
      "source": [
        "GCD,GCF,HCF are all same terms"
      ],
      "metadata": {
        "id": "B0eFVpcTRGH8"
      }
    },
    {
      "cell_type": "markdown",
      "source": [
        "Binary to decimal"
      ],
      "metadata": {
        "id": "8aiYPcM2TfG7"
      }
    },
    {
      "cell_type": "code",
      "source": [
        "n=int(input())\n",
        "dec=0\n",
        "i=0\n",
        "while n!=0:\n",
        "    dec+=((n%10)*(2**i))\n",
        "    n//=10\n",
        "    i+=1\n",
        "print(dec)"
      ],
      "metadata": {
        "colab": {
          "base_uri": "https://localhost:8080/"
        },
        "id": "eVZdaBAJTjRr",
        "outputId": "78a515a6-918f-4eb5-dc2d-80226cc9318f"
      },
      "execution_count": null,
      "outputs": [
        {
          "output_type": "stream",
          "name": "stdout",
          "text": [
            "0010\n",
            "2\n"
          ]
        }
      ]
    },
    {
      "cell_type": "markdown",
      "source": [
        "Roots of Quadratic Equation"
      ],
      "metadata": {
        "id": "MOq9-5H2PRr_"
      }
    },
    {
      "cell_type": "code",
      "source": [
        "import math\n",
        "def findRoots(a,b,c):\n",
        "    d=b*b-4*a*c\n",
        "    sqrt_val=math.sqrt(abs(d))\n",
        "    if d>0:\n",
        "        print(\"Roots are real and different\")\n",
        "        print((-b+sqrt_val)/(2*a))\n",
        "        print((-b-sqrt_val)/(2*a))\n",
        "    elif d==0:\n",
        "        print(\"Roots are real and same\")\n",
        "        print(-b/(2*a))\n",
        "    else:\n",
        "        print(\"Roots are complex\")\n",
        "        print(-b/(2*a),\"+i\",sqrt_val)\n",
        "        print(-b/(2*a),\"-i\",sqrt_val)\n",
        "a=1\n",
        "b=4\n",
        "c=4\n",
        "findRoots(a,b,c)"
      ],
      "metadata": {
        "colab": {
          "base_uri": "https://localhost:8080/"
        },
        "id": "T66KVXY6Pnma",
        "outputId": "f838821c-eac3-41c0-fd6e-cbfd88b17373"
      },
      "execution_count": 1,
      "outputs": [
        {
          "output_type": "stream",
          "name": "stdout",
          "text": [
            "Roots are real and same\n",
            "-2.0\n"
          ]
        }
      ]
    },
    {
      "cell_type": "markdown",
      "source": [
        "Power of a Number-Recursion"
      ],
      "metadata": {
        "id": "gDQC2be0Rj04"
      }
    },
    {
      "cell_type": "code",
      "source": [
        "def power(a,b):\n",
        "  if b!=0:\n",
        "    return a*power(a,b-1)\n",
        "  else:\n",
        "    return 1\n",
        "a=2\n",
        "b=3\n",
        "print(power(a,b))"
      ],
      "metadata": {
        "colab": {
          "base_uri": "https://localhost:8080/"
        },
        "id": "JXHIYcxvUDOm",
        "outputId": "82a1c149-cae5-4def-d645-63db8c62ae87"
      },
      "execution_count": 3,
      "outputs": [
        {
          "output_type": "stream",
          "name": "stdout",
          "text": [
            "8\n"
          ]
        }
      ]
    },
    {
      "cell_type": "markdown",
      "source": [
        "Largest Number in Array"
      ],
      "metadata": {
        "id": "dGQlfINSVfjE"
      }
    },
    {
      "cell_type": "code",
      "source": [
        "def largest(arr,n):\n",
        "  max=arr[0]\n",
        "  for i in range(1,n):\n",
        "    if arr[i]>max:\n",
        "      max=arr[i]\n",
        "  return max\n",
        "arr=[1,45,32,98,6,54]\n",
        "n=len(arr)\n",
        "largest(arr,n)"
      ],
      "metadata": {
        "colab": {
          "base_uri": "https://localhost:8080/"
        },
        "id": "neAV_QXvVjPs",
        "outputId": "32bffdfa-ee8f-426c-fb7e-b57d056905bd"
      },
      "execution_count": 4,
      "outputs": [
        {
          "output_type": "execute_result",
          "data": {
            "text/plain": [
              "98"
            ]
          },
          "metadata": {},
          "execution_count": 4
        }
      ]
    }
  ]
}