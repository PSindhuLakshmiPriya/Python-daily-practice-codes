{
  "nbformat": 4,
  "nbformat_minor": 0,
  "metadata": {
    "colab": {
      "provenance": [],
      "authorship_tag": "ABX9TyPTj3HygVt2c+2aYcQXWje/",
      "include_colab_link": true
    },
    "kernelspec": {
      "name": "python3",
      "display_name": "Python 3"
    },
    "language_info": {
      "name": "python"
    }
  },
  "cells": [
    {
      "cell_type": "markdown",
      "metadata": {
        "id": "view-in-github",
        "colab_type": "text"
      },
      "source": [
        "<a href=\"https://colab.research.google.com/github/PSindhuLakshmiPriya/Python-daily-practice-codes/blob/main/Day_10.ipynb\" target=\"_parent\"><img src=\"https://colab.research.google.com/assets/colab-badge.svg\" alt=\"Open In Colab\"/></a>"
      ]
    },
    {
      "cell_type": "markdown",
      "source": [
        "Swapping in different ways"
      ],
      "metadata": {
        "id": "eQbWkXbP2boF"
      }
    },
    {
      "cell_type": "code",
      "source": [
        "num1=10\n",
        "num2=20\n",
        "num1,num2=num2,num1\n",
        "print(num1,num2)"
      ],
      "metadata": {
        "colab": {
          "base_uri": "https://localhost:8080/"
        },
        "id": "ckrMz3Y42hXO",
        "outputId": "4c6db13a-6ffd-4926-e894-133de1f372e1"
      },
      "execution_count": null,
      "outputs": [
        {
          "output_type": "stream",
          "name": "stdout",
          "text": [
            "20 10\n"
          ]
        }
      ]
    },
    {
      "cell_type": "markdown",
      "source": [
        "Using temp"
      ],
      "metadata": {
        "id": "8VeGcdNf23WQ"
      }
    },
    {
      "cell_type": "code",
      "source": [
        "num1=60\n",
        "num2=65\n",
        "temp=num1\n",
        "num1=num2\n",
        "num2=temp\n",
        "print(num1,num2)"
      ],
      "metadata": {
        "colab": {
          "base_uri": "https://localhost:8080/"
        },
        "id": "6uXFcEWF2470",
        "outputId": "584efee2-06fd-41f8-b58c-8ca40871a105"
      },
      "execution_count": null,
      "outputs": [
        {
          "output_type": "stream",
          "name": "stdout",
          "text": [
            "65 60\n"
          ]
        }
      ]
    },
    {
      "cell_type": "markdown",
      "source": [
        "To check whether a prime number or not"
      ],
      "metadata": {
        "id": "_JqAaGSp4VRg"
      }
    },
    {
      "cell_type": "code",
      "source": [
        "num=int(input())\n",
        "count=0\n",
        "if num>1:\n",
        "  for i in range(1,num+1):\n",
        "    if num%i==0:\n",
        "      count=count+1\n",
        "  if count==2:\n",
        "    print(\"Prime Number\")\n",
        "  else:\n",
        "    print(\"Not a prime number\")"
      ],
      "metadata": {
        "colab": {
          "base_uri": "https://localhost:8080/"
        },
        "id": "rJKqZrvN4bV9",
        "outputId": "f4595235-57d5-4968-afbc-ef9c45f9daf0"
      },
      "execution_count": null,
      "outputs": [
        {
          "output_type": "stream",
          "name": "stdout",
          "text": [
            "28\n",
            "Not a prime number\n"
          ]
        }
      ]
    },
    {
      "cell_type": "markdown",
      "source": [
        "To find factorial of a number"
      ],
      "metadata": {
        "id": "6s0B_8zJ5hel"
      }
    },
    {
      "cell_type": "code",
      "source": [
        "num=int(input())\n",
        "fact=1\n",
        "for i in range(1,num+1):\n",
        "  fact=fact*i\n",
        "print(fact)"
      ],
      "metadata": {
        "colab": {
          "base_uri": "https://localhost:8080/"
        },
        "id": "JbFnRaZA5rKV",
        "outputId": "1cd43613-91df-48ae-b9f7-7b2aeb4e7b23"
      },
      "execution_count": null,
      "outputs": [
        {
          "output_type": "stream",
          "name": "stdout",
          "text": [
            "4\n",
            "24\n"
          ]
        }
      ]
    },
    {
      "cell_type": "markdown",
      "source": [
        "Using Recursion"
      ],
      "metadata": {
        "id": "wLkQSnWW6H--"
      }
    },
    {
      "cell_type": "code",
      "source": [
        "def factorial(n):\n",
        "  if n==0 or n==1:\n",
        "    return 1\n",
        "  else:\n",
        "    return n*factorial(n-1)\n",
        "num=5\n",
        "print(factorial(num))"
      ],
      "metadata": {
        "colab": {
          "base_uri": "https://localhost:8080/"
        },
        "id": "760uiiWz6KgS",
        "outputId": "7a65b9e9-a17a-4365-84a3-e9111592ad70"
      },
      "execution_count": null,
      "outputs": [
        {
          "output_type": "stream",
          "name": "stdout",
          "text": [
            "120\n"
          ]
        }
      ]
    },
    {
      "cell_type": "markdown",
      "source": [
        "To find fibanocci series"
      ],
      "metadata": {
        "id": "-PhBxztB6iUK"
      }
    },
    {
      "cell_type": "code",
      "source": [
        "num=int(input())\n",
        "a=0\n",
        "b=1\n",
        "print(a,end=\" \")\n",
        "print(b,end=\" \")\n",
        "for i in range(2,num):\n",
        "  c=a+b\n",
        "  print(c,end=\" \")\n",
        "  a=b\n",
        "  b=c"
      ],
      "metadata": {
        "colab": {
          "base_uri": "https://localhost:8080/"
        },
        "id": "Be9lpd0K6lCo",
        "outputId": "b2551dbf-fd7a-4e1a-fb8a-953e73a93aee"
      },
      "execution_count": null,
      "outputs": [
        {
          "output_type": "stream",
          "name": "stdout",
          "text": [
            "3\n",
            "0 1 1 "
          ]
        }
      ]
    },
    {
      "cell_type": "markdown",
      "source": [
        "To find sum of elements in an array"
      ],
      "metadata": {
        "id": "uq9EdzQg8VMj"
      }
    },
    {
      "cell_type": "code",
      "source": [
        "arr=[1,2,3,4,5]\n",
        "sum=0\n",
        "for i in arr:\n",
        "  sum=sum+i\n",
        "print(sum)"
      ],
      "metadata": {
        "colab": {
          "base_uri": "https://localhost:8080/"
        },
        "id": "gwE1DRoD8ZaB",
        "outputId": "f31600b2-bec8-4d08-abfa-538132c9957b"
      },
      "execution_count": null,
      "outputs": [
        {
          "output_type": "stream",
          "name": "stdout",
          "text": [
            "15\n"
          ]
        }
      ]
    },
    {
      "cell_type": "markdown",
      "source": [
        "Finding max and min elements in an array"
      ],
      "metadata": {
        "id": "IVu3XpCz-HVk"
      }
    },
    {
      "cell_type": "code",
      "source": [
        "array=[1,2,3,4,5]\n",
        "max_value=arr[0]\n",
        "for i in array:\n",
        "  if max_value<i:\n",
        "    max_value=i\n",
        "print(max_value)"
      ],
      "metadata": {
        "colab": {
          "base_uri": "https://localhost:8080/"
        },
        "id": "vB2Lw0-t-LI0",
        "outputId": "40b822ea-55a7-44ec-8adc-18a3c208057b"
      },
      "execution_count": null,
      "outputs": [
        {
          "output_type": "stream",
          "name": "stdout",
          "text": [
            "5\n"
          ]
        }
      ]
    },
    {
      "cell_type": "code",
      "source": [
        "array2=[1,2,3,4,5]\n",
        "min_value=arr[0]\n",
        "for i in array2:\n",
        "  if min_value>i:\n",
        "    min_value=i\n",
        "print(min_value)"
      ],
      "metadata": {
        "colab": {
          "base_uri": "https://localhost:8080/"
        },
        "id": "IYTnPRyW-qBh",
        "outputId": "f8545c55-efd2-49f4-c025-09068636d43e"
      },
      "execution_count": null,
      "outputs": [
        {
          "output_type": "stream",
          "name": "stdout",
          "text": [
            "1\n"
          ]
        }
      ]
    },
    {
      "cell_type": "markdown",
      "source": [
        "Length of a list in different ways"
      ],
      "metadata": {
        "id": "_rlYQbLS-4S8"
      }
    },
    {
      "cell_type": "code",
      "source": [
        "list=[1,2,3,4,5]\n",
        "count=0\n",
        "for i in list:\n",
        "  count=count+1\n",
        "print(count)"
      ],
      "metadata": {
        "colab": {
          "base_uri": "https://localhost:8080/"
        },
        "id": "FqR7ehzx-7oe",
        "outputId": "49a2e90d-905e-44c5-85f4-c655ff1ded9e"
      },
      "execution_count": null,
      "outputs": [
        {
          "output_type": "stream",
          "name": "stdout",
          "text": [
            "5\n"
          ]
        }
      ]
    },
    {
      "cell_type": "code",
      "source": [
        "print(len(list))"
      ],
      "metadata": {
        "colab": {
          "base_uri": "https://localhost:8080/"
        },
        "id": "8F6YtHfb_HJJ",
        "outputId": "6053cb28-93c6-43b6-fb77-e3fc253d78cc"
      },
      "execution_count": null,
      "outputs": [
        {
          "output_type": "stream",
          "name": "stdout",
          "text": [
            "5\n"
          ]
        }
      ]
    },
    {
      "cell_type": "markdown",
      "source": [
        "To swap first and last elements in a list"
      ],
      "metadata": {
        "id": "8i6taxG7_TZW"
      }
    },
    {
      "cell_type": "code",
      "source": [
        "list2=[24,56,78,54,32,96]\n",
        "list2[0],list2[n-1]=list2[n-1],list2[0]\n",
        "print(list2)"
      ],
      "metadata": {
        "colab": {
          "base_uri": "https://localhost:8080/"
        },
        "id": "KCOR7kbY_SpM",
        "outputId": "c7030cd5-03ce-4c0e-ca77-009bfad6f0f9"
      },
      "execution_count": null,
      "outputs": [
        {
          "output_type": "stream",
          "name": "stdout",
          "text": [
            "[96, 56, 78, 54, 32, 24]\n"
          ]
        }
      ]
    },
    {
      "cell_type": "markdown",
      "source": [
        "Swap any two elements in a list"
      ],
      "metadata": {
        "id": "4kFrWrxrAqLV"
      }
    },
    {
      "cell_type": "code",
      "source": [
        "list3=[2,8,3,7,4,6,5]\n",
        "pos1=1\n",
        "pos2=5\n",
        "list3[pos1],list3[pos2]=list3[pos2],list3[pos1]\n",
        "print(list3)"
      ],
      "metadata": {
        "colab": {
          "base_uri": "https://localhost:8080/"
        },
        "id": "QWfzPAVdA3o-",
        "outputId": "adcd487f-172d-4cee-a30a-88c1223ffa03"
      },
      "execution_count": null,
      "outputs": [
        {
          "output_type": "stream",
          "name": "stdout",
          "text": [
            "[2, 6, 3, 7, 4, 8, 5]\n"
          ]
        }
      ]
    },
    {
      "cell_type": "markdown",
      "source": [
        "To remove Nth occurence of the given word"
      ],
      "metadata": {
        "id": "NUCy9VjNBs3V"
      }
    },
    {
      "cell_type": "code",
      "source": [
        "list=[\"hello\",\"my\",\"name\",\"is\",\"priya\",\"hello\"]\n",
        "seen=[]\n",
        "for i in list:\n",
        "  if i not in seen:\n",
        "    seen.append(i)\n",
        "print(seen)"
      ],
      "metadata": {
        "colab": {
          "base_uri": "https://localhost:8080/"
        },
        "id": "vBD5I4YvBxaU",
        "outputId": "a247caff-25b7-47d0-d6dc-33efc0f5cbe3"
      },
      "execution_count": null,
      "outputs": [
        {
          "output_type": "stream",
          "name": "stdout",
          "text": [
            "['hello', 'my', 'name', 'is', 'priya']\n"
          ]
        }
      ]
    },
    {
      "cell_type": "code",
      "source": [
        "mylist=[\"hello\",\"this\",\"is\",\"lakshmi\",\"is\"]\n",
        "word=\"is\"\n",
        "n=2\n",
        "count=0\n",
        "for i in range(len(mylist)):\n",
        "  if mylist[i]==word:\n",
        "    count=count+1\n",
        "    if count==n:\n",
        "      del mylist[i]\n",
        "print(mylist)"
      ],
      "metadata": {
        "colab": {
          "base_uri": "https://localhost:8080/"
        },
        "id": "5e0mFxfkCcOP",
        "outputId": "8f961acf-7d75-43ae-b731-01fd17fcea04"
      },
      "execution_count": null,
      "outputs": [
        {
          "output_type": "stream",
          "name": "stdout",
          "text": [
            "['hello', 'this', 'is', 'lakshmi']\n"
          ]
        }
      ]
    },
    {
      "cell_type": "markdown",
      "source": [
        "To search for an element in a list"
      ],
      "metadata": {
        "id": "IWRQ4JcKDoBT"
      }
    },
    {
      "cell_type": "code",
      "source": [
        "list=[1,3,5,7,9]\n",
        "searching_ele=7\n",
        "for i in list:\n",
        "  if i==searching_ele:\n",
        "    print(\"Found\")\n",
        "  else:\n",
        "    pass\n"
      ],
      "metadata": {
        "colab": {
          "base_uri": "https://localhost:8080/"
        },
        "id": "2VjWmWuNDrW7",
        "outputId": "e3fab49f-0520-45d6-9de5-fcd8fc96e70c"
      },
      "execution_count": null,
      "outputs": [
        {
          "output_type": "stream",
          "name": "stdout",
          "text": [
            "Found\n"
          ]
        }
      ]
    },
    {
      "cell_type": "code",
      "source": [
        "list=[1,3,5,7,9]\n",
        "searching_ele=7\n",
        "flag=0\n",
        "for i in list:\n",
        "  if i==searching_ele:\n",
        "    print(\"Found\")\n",
        "    flag+=1\n",
        "    break\n",
        "if flag==0:\n",
        "  print(\"Not found\")"
      ],
      "metadata": {
        "colab": {
          "base_uri": "https://localhost:8080/"
        },
        "id": "o6lD0AlgEPEy",
        "outputId": "a0bc47e0-4521-4fae-e2cb-7f657283fba5"
      },
      "execution_count": null,
      "outputs": [
        {
          "output_type": "stream",
          "name": "stdout",
          "text": [
            "Found\n"
          ]
        }
      ]
    },
    {
      "cell_type": "code",
      "source": [
        "list=[1,3,5,7,9]\n",
        "searching_ele=7\n",
        "if searching_ele in list:\n",
        "  print(\"Found\")\n",
        "else:\n",
        "  print(\"Not found\")"
      ],
      "metadata": {
        "colab": {
          "base_uri": "https://localhost:8080/"
        },
        "id": "W2GI5Np1EkMw",
        "outputId": "46eadf74-d45a-4467-bb6d-b9922a9c7260"
      },
      "execution_count": null,
      "outputs": [
        {
          "output_type": "stream",
          "name": "stdout",
          "text": [
            "Found\n"
          ]
        }
      ]
    },
    {
      "cell_type": "markdown",
      "source": [
        "How to clear the list"
      ],
      "metadata": {
        "id": "ZpTfqLJmE0Os"
      }
    },
    {
      "cell_type": "code",
      "source": [
        "fruits=[\"apple\",\"banana\",\"cherry\"]\n",
        "del fruits"
      ],
      "metadata": {
        "id": "Zw4UK7hJE3QI"
      },
      "execution_count": null,
      "outputs": []
    },
    {
      "cell_type": "code",
      "source": [
        "things=[\"pen\",\"book\",\"bottle\"]\n",
        "things.clear()"
      ],
      "metadata": {
        "id": "rMoDHGZrFFY6"
      },
      "execution_count": null,
      "outputs": []
    },
    {
      "cell_type": "code",
      "source": [
        "things2=[\"pen\",\"book\",\"bottle\"]\n",
        "things2=[]\n",
        "print(things2)"
      ],
      "metadata": {
        "colab": {
          "base_uri": "https://localhost:8080/"
        },
        "id": "CaojLmrpFOTp",
        "outputId": "98347c99-e01d-4051-c506-b5a4b0d310e3"
      },
      "execution_count": null,
      "outputs": [
        {
          "output_type": "stream",
          "name": "stdout",
          "text": [
            "[]\n"
          ]
        }
      ]
    },
    {
      "cell_type": "code",
      "source": [
        "list=[1,3,5,7,9]\n",
        "del list[1:3]\n",
        "print(list)"
      ],
      "metadata": {
        "colab": {
          "base_uri": "https://localhost:8080/"
        },
        "id": "yUrZYyGOFsC1",
        "outputId": "fa552a6e-2741-4516-82e0-2f39f13b5508"
      },
      "execution_count": null,
      "outputs": [
        {
          "output_type": "stream",
          "name": "stdout",
          "text": [
            "[1, 7, 9]\n"
          ]
        }
      ]
    },
    {
      "cell_type": "markdown",
      "source": [
        "To reverse a list"
      ],
      "metadata": {
        "id": "b6R8xV4fyolz"
      }
    },
    {
      "cell_type": "code",
      "source": [
        "list=[\"a\",\"b\",\"c\",\"d\"]\n",
        "list.reverse()\n",
        "print(list)"
      ],
      "metadata": {
        "colab": {
          "base_uri": "https://localhost:8080/"
        },
        "id": "wS7aoK5PyqkB",
        "outputId": "729ccd9a-1aae-4fd4-e804-2388f5cf4a69"
      },
      "execution_count": 1,
      "outputs": [
        {
          "output_type": "stream",
          "name": "stdout",
          "text": [
            "['d', 'c', 'b', 'a']\n"
          ]
        }
      ]
    },
    {
      "cell_type": "code",
      "source": [
        "list=[2,4,6,8,10]\n",
        "print(list[::-1])"
      ],
      "metadata": {
        "colab": {
          "base_uri": "https://localhost:8080/"
        },
        "id": "XXns404Yy6eD",
        "outputId": "1f7c059f-69db-4d57-b83d-8fc1f92fd353"
      },
      "execution_count": 3,
      "outputs": [
        {
          "output_type": "stream",
          "name": "stdout",
          "text": [
            "[10, 8, 6, 4, 2]\n"
          ]
        }
      ]
    },
    {
      "cell_type": "markdown",
      "source": [
        "To copy a list"
      ],
      "metadata": {
        "id": "xZ6Zac9Gzeex"
      }
    },
    {
      "cell_type": "code",
      "source": [
        "list=[1,2,3,4]\n",
        "list.copy()\n",
        "print(list)"
      ],
      "metadata": {
        "colab": {
          "base_uri": "https://localhost:8080/"
        },
        "id": "PkOyUe9UzgPR",
        "outputId": "4378e176-030b-4e93-ad9f-830f11ffac13"
      },
      "execution_count": 4,
      "outputs": [
        {
          "output_type": "stream",
          "name": "stdout",
          "text": [
            "[1, 2, 3, 4]\n"
          ]
        }
      ]
    },
    {
      "cell_type": "code",
      "source": [
        "print(list[0:])"
      ],
      "metadata": {
        "colab": {
          "base_uri": "https://localhost:8080/"
        },
        "id": "SUfhE_zyzmoP",
        "outputId": "0722bb72-be1d-4b61-8d22-9556f6a0dda7"
      },
      "execution_count": 7,
      "outputs": [
        {
          "output_type": "stream",
          "name": "stdout",
          "text": [
            "[1, 2, 3, 4]\n"
          ]
        }
      ]
    },
    {
      "cell_type": "code",
      "source": [
        "newlist=[]\n",
        "newlist.extend(list)\n",
        "print(newlist)"
      ],
      "metadata": {
        "colab": {
          "base_uri": "https://localhost:8080/"
        },
        "id": "3fHNrZOUz8P2",
        "outputId": "f535af81-d5b4-48aa-9c40-cc3e9a247f8f"
      },
      "execution_count": 8,
      "outputs": [
        {
          "output_type": "stream",
          "name": "stdout",
          "text": [
            "[1, 2, 3, 4]\n"
          ]
        }
      ]
    },
    {
      "cell_type": "markdown",
      "source": [
        "Count occurences of an element in a list"
      ],
      "metadata": {
        "id": "GFeyEAEE0G_u"
      }
    },
    {
      "cell_type": "code",
      "source": [
        "mylist=[1,7,6,5,4,8,9,7]\n",
        "x=7\n",
        "count=0\n",
        "for i in mylist:\n",
        "  if i==x:\n",
        "    count=count+1\n",
        "print(count)"
      ],
      "metadata": {
        "colab": {
          "base_uri": "https://localhost:8080/"
        },
        "id": "J83kErPm0OS6",
        "outputId": "d592659d-ca35-449f-e541-0a2fd27365e5"
      },
      "execution_count": 9,
      "outputs": [
        {
          "output_type": "stream",
          "name": "stdout",
          "text": [
            "2\n"
          ]
        }
      ]
    },
    {
      "cell_type": "code",
      "source": [
        "mylist=[1,8,6,8,4,8,9,7]\n",
        "print(mylist.count(8))"
      ],
      "metadata": {
        "colab": {
          "base_uri": "https://localhost:8080/"
        },
        "id": "fhjSOaEC0mfD",
        "outputId": "ba28b615-bd26-4eff-ab65-d0533ae1ce8d"
      },
      "execution_count": 10,
      "outputs": [
        {
          "output_type": "stream",
          "name": "stdout",
          "text": [
            "3\n"
          ]
        }
      ]
    },
    {
      "cell_type": "markdown",
      "source": [
        "Find sum of elements in a list(similar to array)"
      ],
      "metadata": {
        "id": "aSImrUz91DDP"
      }
    },
    {
      "cell_type": "code",
      "source": [
        "list=[10,20,30,40,50]\n",
        "sum=0\n",
        "for i in list:\n",
        "  sum+=i\n",
        "print(sum)"
      ],
      "metadata": {
        "colab": {
          "base_uri": "https://localhost:8080/"
        },
        "id": "mSSrnwoJ1JEv",
        "outputId": "a5c98578-74f4-4ae3-b6ed-0be4621bde3d"
      },
      "execution_count": 11,
      "outputs": [
        {
          "output_type": "stream",
          "name": "stdout",
          "text": [
            "150\n"
          ]
        }
      ]
    },
    {
      "cell_type": "markdown",
      "source": [
        "Multiply all numbers in a list"
      ],
      "metadata": {
        "id": "O6X8UIxa1YEu"
      }
    },
    {
      "cell_type": "code",
      "source": [
        "list=[2,4,3,2]\n",
        "mul=1\n",
        "for i in list:\n",
        "  mul=mul*i\n",
        "print(mul)"
      ],
      "metadata": {
        "colab": {
          "base_uri": "https://localhost:8080/"
        },
        "id": "Ldhytpa11a6f",
        "outputId": "44dcbc8a-55ac-4e2a-e185-33c876980fda"
      },
      "execution_count": 12,
      "outputs": [
        {
          "output_type": "stream",
          "name": "stdout",
          "text": [
            "48\n"
          ]
        }
      ]
    },
    {
      "cell_type": "markdown",
      "source": [
        "Finding smallest and largest numbers in a list"
      ],
      "metadata": {
        "id": "76cRSYCG13Fh"
      }
    },
    {
      "cell_type": "code",
      "source": [
        "list=[6,7,1,3,5,2,4,9]\n",
        "list.sort()\n",
        "print(\"Smallest no\",list[0])\n",
        "print(\"Largest no\",list[-1])"
      ],
      "metadata": {
        "colab": {
          "base_uri": "https://localhost:8080/"
        },
        "id": "lDDUMbni19Vt",
        "outputId": "6a5284b4-2d88-413d-8c4a-766b2657e237"
      },
      "execution_count": 13,
      "outputs": [
        {
          "output_type": "stream",
          "name": "stdout",
          "text": [
            "Smallest no 1\n",
            "Largest no 9\n"
          ]
        }
      ]
    },
    {
      "cell_type": "code",
      "source": [
        "print(min(list))\n",
        "print(max(list))"
      ],
      "metadata": {
        "colab": {
          "base_uri": "https://localhost:8080/"
        },
        "id": "QJqU4D_c2MyJ",
        "outputId": "75aa3199-1253-4d28-ee76-76bc6b16acaf"
      },
      "execution_count": 14,
      "outputs": [
        {
          "output_type": "stream",
          "name": "stdout",
          "text": [
            "1\n",
            "9\n"
          ]
        }
      ]
    },
    {
      "cell_type": "markdown",
      "source": [
        "Find 2nd largest number in a list"
      ],
      "metadata": {
        "id": "U1pBbQA42ZtX"
      }
    },
    {
      "cell_type": "code",
      "source": [
        "list=[100,96,23,12,45,87,65]\n",
        "list.sort()\n",
        "print(list[-2])"
      ],
      "metadata": {
        "colab": {
          "base_uri": "https://localhost:8080/"
        },
        "id": "UboJg7kS2czW",
        "outputId": "50aac0ac-c42f-4b14-b985-a5fd92f60d28"
      },
      "execution_count": 15,
      "outputs": [
        {
          "output_type": "stream",
          "name": "stdout",
          "text": [
            "96\n"
          ]
        }
      ]
    },
    {
      "cell_type": "markdown",
      "source": [
        "Check if string is palindrome or not"
      ],
      "metadata": {
        "id": "QE-l7FoA2ly-"
      }
    },
    {
      "cell_type": "code",
      "source": [
        "str=input()\n",
        "if str==str[::-1]:\n",
        "  print(\"Palindrome\")\n",
        "else:\n",
        "  print(\"Not a palindrome\")"
      ],
      "metadata": {
        "colab": {
          "base_uri": "https://localhost:8080/"
        },
        "id": "u-X16jxb2pj1",
        "outputId": "52233428-e5f0-4099-f670-aa67c2a84101"
      },
      "execution_count": 18,
      "outputs": [
        {
          "output_type": "stream",
          "name": "stdout",
          "text": [
            "madam\n",
            "Palindrome\n"
          ]
        }
      ]
    },
    {
      "cell_type": "markdown",
      "source": [
        "How to reverse words in a string"
      ],
      "metadata": {
        "id": "UJFjxI-x24Wo"
      }
    },
    {
      "cell_type": "code",
      "source": [
        "str=input()\n",
        "words=str.split()\n",
        "rev_words=words[::-1]\n",
        "rev_str=\" \".join(rev_words)\n",
        "print(rev_str)"
      ],
      "metadata": {
        "colab": {
          "base_uri": "https://localhost:8080/"
        },
        "id": "kPLJRPRJ27rQ",
        "outputId": "31c7f230-eff4-4438-dc7e-ec7c41f50d2b"
      },
      "execution_count": 19,
      "outputs": [
        {
          "output_type": "stream",
          "name": "stdout",
          "text": [
            "my name is priya\n",
            "priya is name my\n"
          ]
        }
      ]
    },
    {
      "cell_type": "markdown",
      "source": [
        "Substring presence in given string"
      ],
      "metadata": {
        "id": "gdB4F4Pa3UuI"
      }
    },
    {
      "cell_type": "code",
      "source": [
        "str1=input()\n",
        "str2=input()\n",
        "if str2 in str1:\n",
        "  print(\"Present\")\n",
        "else:\n",
        "  print(\"Not present\")"
      ],
      "metadata": {
        "colab": {
          "base_uri": "https://localhost:8080/"
        },
        "id": "87XaYFLD3YPX",
        "outputId": "0157aac6-9fb5-41d0-a5f1-d8a576ba276b"
      },
      "execution_count": 20,
      "outputs": [
        {
          "output_type": "stream",
          "name": "stdout",
          "text": [
            "hello my name is sindhu \n",
            "sindhu\n",
            "Present\n"
          ]
        }
      ]
    },
    {
      "cell_type": "markdown",
      "source": [
        "using find()"
      ],
      "metadata": {
        "id": "Hg-crtVq3mGR"
      }
    },
    {
      "cell_type": "code",
      "source": [
        "print(str1.find(str2))"
      ],
      "metadata": {
        "colab": {
          "base_uri": "https://localhost:8080/"
        },
        "id": "qrB0dOsE3n7j",
        "outputId": "1a19df05-8068-422f-8974-7cf3f3a7644a"
      },
      "execution_count": 21,
      "outputs": [
        {
          "output_type": "stream",
          "name": "stdout",
          "text": [
            "17\n"
          ]
        }
      ]
    },
    {
      "cell_type": "markdown",
      "source": [
        "How to find length of a string"
      ],
      "metadata": {
        "id": "x_TYgOKk31Nk"
      }
    },
    {
      "cell_type": "code",
      "source": [
        "str=input()\n",
        "count=0\n",
        "for i in str:\n",
        "  count=count+1\n",
        "print(count)"
      ],
      "metadata": {
        "colab": {
          "base_uri": "https://localhost:8080/"
        },
        "id": "Mg_D6eWM4CIh",
        "outputId": "81d5f7fc-e394-4c33-a1ad-38b1313505c0"
      },
      "execution_count": 22,
      "outputs": [
        {
          "output_type": "stream",
          "name": "stdout",
          "text": [
            "sindhu\n",
            "6\n"
          ]
        }
      ]
    },
    {
      "cell_type": "code",
      "source": [
        "str=input()\n",
        "print(len(str))"
      ],
      "metadata": {
        "colab": {
          "base_uri": "https://localhost:8080/"
        },
        "id": "AYwQcott4KsI",
        "outputId": "35003189-c486-4b28-8aab-c36cea57de35"
      },
      "execution_count": 23,
      "outputs": [
        {
          "output_type": "stream",
          "name": "stdout",
          "text": [
            "priya\n",
            "5\n"
          ]
        }
      ]
    },
    {
      "cell_type": "markdown",
      "source": [
        "Check if a string contains any special character"
      ],
      "metadata": {
        "id": "mx1pvcEH57wc"
      }
    },
    {
      "cell_type": "code",
      "source": [
        "import re\n",
        "def special_characters(str):\n",
        "  regex=re.compile('[@_!#$%^&*()<>?/\\\\|}{~:]')\n",
        "  if regex.search(str)==None:\n",
        "    return \"No special characters\"\n",
        "  else:\n",
        "    return \"Contains special characters\"\n",
        "str=input()\n",
        "print(special_characters(str))"
      ],
      "metadata": {
        "colab": {
          "base_uri": "https://localhost:8080/"
        },
        "id": "ndd-C6FX586e",
        "outputId": "75ac69c9-a122-4d95-ed50-e6d3b1abd19c"
      },
      "execution_count": 27,
      "outputs": [
        {
          "output_type": "stream",
          "name": "stdout",
          "text": [
            "happy@6\n",
            "Contains special characters\n"
          ]
        }
      ]
    }
  ]
}