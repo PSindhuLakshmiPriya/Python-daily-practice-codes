{
  "nbformat": 4,
  "nbformat_minor": 0,
  "metadata": {
    "colab": {
      "provenance": [],
      "authorship_tag": "ABX9TyN0hv0RHNRcUOZnFrcJmzqG",
      "include_colab_link": true
    },
    "kernelspec": {
      "name": "python3",
      "display_name": "Python 3"
    },
    "language_info": {
      "name": "python"
    }
  },
  "cells": [
    {
      "cell_type": "markdown",
      "metadata": {
        "id": "view-in-github",
        "colab_type": "text"
      },
      "source": [
        "<a href=\"https://colab.research.google.com/github/PSindhuLakshmiPriya/Python-daily-practice-codes/blob/main/Day_11.ipynb\" target=\"_parent\"><img src=\"https://colab.research.google.com/assets/colab-badge.svg\" alt=\"Open In Colab\"/></a>"
      ]
    },
    {
      "cell_type": "markdown",
      "source": [
        "find out common letters between two strings"
      ],
      "metadata": {
        "id": "ZT3I4wujAekZ"
      }
    },
    {
      "cell_type": "code",
      "source": [
        "str1=input()\n",
        "str2=input()\n",
        "for i in range(len(str1)):\n",
        "    for j in range(len(str2)):\n",
        "        if str1[i]==str2[j]:\n",
        "            print(str1[i],end=\"\")\n",
        "            break\n",
        "        else:\n",
        "            continue"
      ],
      "metadata": {
        "colab": {
          "base_uri": "https://localhost:8080/"
        },
        "id": "NgWIoAQQAlE-",
        "outputId": "99efaeb8-722d-48d0-9262-ca99c0a92cbe"
      },
      "execution_count": null,
      "outputs": [
        {
          "output_type": "stream",
          "name": "stdout",
          "text": [
            "reena\n",
            "naina\n",
            "na"
          ]
        }
      ]
    },
    {
      "cell_type": "code",
      "source": [
        "def common_letters():\n",
        "  str1=input()\n",
        "  str2=input()\n",
        "  s1=set(str1)\n",
        "  s2=set(str2)\n",
        "  lst=s1&s2\n",
        "  for i in lst:\n",
        "    print(i,end=\"\")\n",
        "common_letters()"
      ],
      "metadata": {
        "colab": {
          "base_uri": "https://localhost:8080/"
        },
        "id": "gnViQN8PDKL5",
        "outputId": "e2284e82-d6e4-402f-ac74-a607bc9a8a02"
      },
      "execution_count": null,
      "outputs": [
        {
          "output_type": "stream",
          "name": "stdout",
          "text": [
            "surya\n",
            "priya\n",
            "rya"
          ]
        }
      ]
    },
    {
      "cell_type": "markdown",
      "source": [
        "Frequency of words appearing in string"
      ],
      "metadata": {
        "id": "Wib0g2L8ERAO"
      }
    },
    {
      "cell_type": "code",
      "source": [
        "str=input()\n",
        "lst=str.split()\n",
        "count=0\n",
        "for i in lst:\n",
        "  count=count+1\n",
        "  print(i,count)\n"
      ],
      "metadata": {
        "colab": {
          "base_uri": "https://localhost:8080/"
        },
        "id": "m2_Wn3nhEU5S",
        "outputId": "e11f6fb1-f6d9-4871-aee3-7158425414f6"
      },
      "execution_count": null,
      "outputs": [
        {
          "output_type": "stream",
          "name": "stdout",
          "text": [
            "hello this is priya\n",
            "hello 1\n",
            "this 2\n",
            "is 3\n",
            "priya 4\n"
          ]
        }
      ]
    },
    {
      "cell_type": "markdown",
      "source": [
        "Coverting list into dictionary"
      ],
      "metadata": {
        "id": "zpZw00tNGCQr"
      }
    },
    {
      "cell_type": "code",
      "source": [
        "keys=[1,2,3,4]\n",
        "values=[\"a\",\"b\",\"c\",\"d\"]\n",
        "result=dict(zip(keys,values))\n",
        "print(result)\n"
      ],
      "metadata": {
        "colab": {
          "base_uri": "https://localhost:8080/"
        },
        "id": "v_buulL2GGvI",
        "outputId": "fef68c60-1aef-4fd8-f274-cc7aebafedca"
      },
      "execution_count": null,
      "outputs": [
        {
          "output_type": "stream",
          "name": "stdout",
          "text": [
            "{1: 'a', 2: 'b', 3: 'c', 4: 'd'}\n"
          ]
        }
      ]
    },
    {
      "cell_type": "markdown",
      "source": [
        "Converting dictionary to tuple"
      ],
      "metadata": {
        "id": "YxEgs3MuHTEK"
      }
    },
    {
      "cell_type": "code",
      "source": [
        "dict={1:\"a\",2:\"b\",3:\"c\",4:\"d\"}\n",
        "result=tuple(dict.items())\n",
        "print(result)"
      ],
      "metadata": {
        "colab": {
          "base_uri": "https://localhost:8080/"
        },
        "id": "S-7UQZu2HWW7",
        "outputId": "566e01f6-1aea-4cb9-afcf-d4213e3e75be"
      },
      "execution_count": null,
      "outputs": [
        {
          "output_type": "stream",
          "name": "stdout",
          "text": [
            "((1, 'a'), (2, 'b'), (3, 'c'), (4, 'd'))\n"
          ]
        }
      ]
    },
    {
      "cell_type": "markdown",
      "source": [
        "Array and target"
      ],
      "metadata": {
        "id": "aIhK4xnrrIvT"
      }
    },
    {
      "cell_type": "code",
      "source": [
        "arr=list(map(int,input().split()))\n",
        "target=int(input())\n",
        "for i in range(len(arr)):\n",
        "  for j in range(i+1,len(arr)):\n",
        "    if arr[i]+arr[j]==target:\n",
        "      print(i,j)"
      ],
      "metadata": {
        "colab": {
          "base_uri": "https://localhost:8080/"
        },
        "id": "E3QQvJIGrKvI",
        "outputId": "2c4b149d-6d6e-4e05-d544-d86729585caf"
      },
      "execution_count": 1,
      "outputs": [
        {
          "output_type": "stream",
          "name": "stdout",
          "text": [
            "2 4 3 6 7 8\n",
            "13\n",
            "3 4\n"
          ]
        }
      ]
    }
  ]
}