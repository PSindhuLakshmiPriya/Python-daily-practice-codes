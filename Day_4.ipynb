{
  "nbformat": 4,
  "nbformat_minor": 0,
  "metadata": {
    "colab": {
      "provenance": [],
      "authorship_tag": "ABX9TyMHZ0xiH1l/LCJcDpLz4XTx",
      "include_colab_link": true
    },
    "kernelspec": {
      "name": "python3",
      "display_name": "Python 3"
    },
    "language_info": {
      "name": "python"
    }
  },
  "cells": [
    {
      "cell_type": "markdown",
      "metadata": {
        "id": "view-in-github",
        "colab_type": "text"
      },
      "source": [
        "<a href=\"https://colab.research.google.com/github/PSindhuLakshmiPriya/Python-daily-practice-codes/blob/main/Day_4.ipynb\" target=\"_parent\"><img src=\"https://colab.research.google.com/assets/colab-badge.svg\" alt=\"Open In Colab\"/></a>"
      ]
    },
    {
      "cell_type": "markdown",
      "source": [
        "Finding smallest element in array"
      ],
      "metadata": {
        "id": "hJGPXOqYWqDd"
      }
    },
    {
      "cell_type": "code",
      "source": [
        "arr = [10, 89, 9, 56, 4, 80, 8]\n",
        "mini = arr[0]\n",
        "\n",
        "for i in range(len(arr)):\n",
        "  if arr[i] < mini:\n",
        "     mini = arr[i]\n",
        "\n",
        "print (mini)"
      ],
      "metadata": {
        "colab": {
          "base_uri": "https://localhost:8080/"
        },
        "id": "QL8DX5iHWuQM",
        "outputId": "efef59fb-f88c-48ff-ca6a-966f762ee2e3"
      },
      "execution_count": 2,
      "outputs": [
        {
          "output_type": "stream",
          "name": "stdout",
          "text": [
            "4\n"
          ]
        }
      ]
    },
    {
      "cell_type": "markdown",
      "source": [
        "Sum of elements in array"
      ],
      "metadata": {
        "id": "jzLDEWz3W5AR"
      }
    },
    {
      "cell_type": "code",
      "source": [
        "arr = [10, 89, 9, 56, 4, 80, 8]\n",
        "Sum = 0\n",
        "\n",
        "for i in range(len(arr)):\n",
        "   Sum = Sum + arr[i]\n",
        "print (Sum)"
      ],
      "metadata": {
        "colab": {
          "base_uri": "https://localhost:8080/"
        },
        "id": "mdb2tpN4W9xt",
        "outputId": "624ee6da-f781-4e10-f296-c843e43f421e"
      },
      "execution_count": 3,
      "outputs": [
        {
          "output_type": "stream",
          "name": "stdout",
          "text": [
            "256\n"
          ]
        }
      ]
    },
    {
      "cell_type": "markdown",
      "source": [
        "Reverse an array"
      ],
      "metadata": {
        "id": "KeQS2uCpXVfl"
      }
    },
    {
      "cell_type": "code",
      "source": [
        "def reverseList(A):\n",
        "  print( A[::-1])\n",
        "A = [10, 20, 30, 40, 50]\n",
        "reverseList(A)"
      ],
      "metadata": {
        "colab": {
          "base_uri": "https://localhost:8080/"
        },
        "id": "iRF1argjXYrB",
        "outputId": "d196a10d-31d5-4e1b-e90e-95db9c0a51ba"
      },
      "execution_count": 5,
      "outputs": [
        {
          "output_type": "stream",
          "name": "stdout",
          "text": [
            "[50, 40, 30, 20, 10]\n"
          ]
        }
      ]
    }
  ]
}